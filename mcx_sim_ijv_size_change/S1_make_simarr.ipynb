{
 "cells": [
  {
   "cell_type": "code",
   "execution_count": 1,
   "metadata": {},
   "outputs": [],
   "source": [
    "# run 20 wavelength including high scatter, medium scatter, low scatter for both large ijv and small ijv\n",
    "# overall simulations : 20 * 3 * 2 = 120\n",
    "\n",
    "# save file like this:\n",
    "\n",
    "# result\n",
    "#     --KB\n",
    "#         -- large_to_small\n",
    "#             --high\n",
    "#                 --700 nm\n",
    "#                 ..\n",
    "#             --medium\n",
    "#             --low\n",
    "#         -- small_to_large\n"
   ]
  },
  {
   "cell_type": "code",
   "execution_count": 2,
   "metadata": {},
   "outputs": [],
   "source": [
    "import json\n",
    "import os\n",
    "import numpy as np\n",
    "import pandas as pd"
   ]
  },
  {
   "cell_type": "code",
   "execution_count": 3,
   "metadata": {},
   "outputs": [],
   "source": [
    "def Get_Mus_Set(mus_spectrum : json, rank : int) -> np:\n",
    "    skin_mus = mus_spectrum['skin']\n",
    "    subcuit_mus = mus_spectrum['fat']\n",
    "    muscle_mus = mus_spectrum['muscle']\n",
    "    vessel_mus = mus_spectrum['blood']\n",
    "    wl = list(skin_mus.keys())\n",
    "    \n",
    "    # skin, fat, muscle, ijv, cca --> ijv,cca have same mus\n",
    "    mus_set = np.zeros((len(wl), 5))\n",
    "    for id, used_wl in enumerate(wl):\n",
    "        mus_set[id][0] = skin_mus[used_wl][rank]\n",
    "        mus_set[id][1] = subcuit_mus[used_wl][rank]\n",
    "        mus_set[id][2] = muscle_mus[used_wl][rank]\n",
    "        mus_set[id][3] = vessel_mus[used_wl][rank]\n",
    "        mus_set[id][4] = vessel_mus[used_wl][rank]\n",
    "    return mus_set\n"
   ]
  },
  {
   "cell_type": "code",
   "execution_count": 4,
   "metadata": {},
   "outputs": [],
   "source": [
    "with open(os.path.join(\"OPs_used\",\"mus_spectrum.json\"), 'r') as f:\n",
    "    mus_spectrum = json.load(f) \n",
    "    \n",
    "mus_set = Get_Mus_Set(mus_spectrum=mus_spectrum, rank=5) # for 0 to 20 is highest scatter to lowest scatter\n",
    "np.save(os.path.join('OPs_used', 'high_mus_set.npy'), mus_set)\n",
    "mus_set = pd.DataFrame(\n",
    "    mus_set, columns=['skin', 'fat', 'muscle', 'ijv', 'cca'])\n",
    "mus_set.to_csv(os.path.join('OPs_used', 'high_mus_set.csv'), index=False)\n",
    "\n",
    "mus_set = Get_Mus_Set(mus_spectrum=mus_spectrum, rank=10) # for 0 to 20 is highest scatter to lowest scatter\n",
    "np.save(os.path.join('OPs_used', 'medium_mus_set.npy'), mus_set)\n",
    "mus_set = pd.DataFrame(\n",
    "    mus_set, columns=['skin', 'fat', 'muscle', 'ijv', 'cca'])\n",
    "mus_set.to_csv(os.path.join('OPs_used', 'medium_mus_set.csv'), index=False)\n",
    "\n",
    "mus_set = Get_Mus_Set(mus_spectrum=mus_spectrum, rank=15) # for 0 to 20 is highest scatter to lowest scatter\n",
    "np.save(os.path.join('OPs_used', 'low_mus_set.npy'), mus_set)\n",
    "mus_set = pd.DataFrame(\n",
    "    mus_set, columns=['skin', 'fat', 'muscle', 'ijv', 'cca'])\n",
    "mus_set.to_csv(os.path.join('OPs_used', 'low_mus_set.csv'), index=False)"
   ]
  },
  {
   "cell_type": "code",
   "execution_count": 5,
   "metadata": {},
   "outputs": [],
   "source": [
    "with open(os.path.join(\"OPs_used\",\"mua_spectrum.json\"), 'r') as f:\n",
    "    mua_spectrum = json.load(f) \n",
    "with open(os.path.join(\"OPs_used\",\"bloodConc.json\"), 'r') as f:\n",
    "    bloodConc = json.load(f) \n",
    "    bloodConc = bloodConc['bloodConc']\n",
    "with open(os.path.join(\"OPs_used\",\"SO2.json\"), 'r') as f:\n",
    "    SO2 = json.load(f) \n",
    "    test_SO2 = SO2['test_SO2']\n",
    "with open(os.path.join(\"OPs_used\",\"wavelength.json\"), 'r') as f:\n",
    "    wavelength = json.load(f) \n",
    "    wavelength = wavelength['wavelength']\n",
    "# load muscle_with_blodd mua spectrum"
   ]
  },
  {
   "cell_type": "code",
   "execution_count": 11,
   "metadata": {},
   "outputs": [],
   "source": [
    "skin_mua = mua_spectrum['skin']\n",
    "fat_mua = mua_spectrum['fat']\n",
    "muscle_mua = mua_spectrum['muscle']\n",
    "CCA_mua = mua_spectrum['cca']\n",
    "\n",
    "# 00 0~20\n",
    "# 01 20~40 1*20 20+1*20\n",
    "# 02 40~60 2*20 20+2*20\n",
    "# 03 60~80\n",
    "# 04 80~100\n",
    "# 10 100~120 1*(20*5)+0*20 20+1*(20*5)+0*20\n",
    "# 11 120~140 1*(20*5)+1*20 20\n",
    "\n",
    "for wl_idx, wl in enumerate(wavelength):\n",
    "    mua_set = np.zeros((20*len(bloodConc)*len(test_SO2), 7))\n",
    "    for bc_idx, bc in enumerate(bloodConc):\n",
    "        for SO2_idx, using_SO2 in enumerate(test_SO2):\n",
    "            mua_set[SO2_idx*20 + bc_idx*len(test_SO2)*20 : 20 + SO2_idx*20 + bc_idx*len(test_SO2)*20 ,0] = skin_mua[f'{wl}nm']\n",
    "            mua_set[SO2_idx*20 + bc_idx*len(test_SO2)*20 : 20 + SO2_idx*20 + bc_idx*len(test_SO2)*20  ,1] = fat_mua[f'{wl}nm']\n",
    "            mua_set[SO2_idx*20 + bc_idx*len(test_SO2)*20 : 20 + SO2_idx*20 + bc_idx*len(test_SO2)*20  ,2] = muscle_mua[f'{wl}nm']\n",
    "            mua_set[SO2_idx*20 + bc_idx*len(test_SO2)*20 : 20 + SO2_idx*20 + bc_idx*len(test_SO2)*20  ,4] = CCA_mua[f'{wl}nm']\n",
    "            \n",
    "            mua_set[SO2_idx*20 + bc_idx*len(test_SO2)*20 : 20 + SO2_idx*20 + bc_idx*len(test_SO2)*20  ,3] = mua_spectrum[f'ijv_bloodConc_{bc}_bloodSO2_{using_SO2}'][wl_idx]\n",
    "            mua_set[SO2_idx*20 + bc_idx*len(test_SO2)*20 : 20 + SO2_idx*20 + bc_idx*len(test_SO2)*20  ,5] = bc\n",
    "            mua_set[SO2_idx*20 + bc_idx*len(test_SO2)*20 : 20 + SO2_idx*20 + bc_idx*len(test_SO2)*20  ,6] = using_SO2\n",
    "\n",
    "    np.save(os.path.join('OPs_used', f'{wl}nm_mua_set.npy'), mua_set)\n",
    "    mua_set = pd.DataFrame(\n",
    "        mua_set, columns=['skin', 'fat', 'muscle', 'ijv', 'cca', 'bloodConc', 'ijv_SO2'])\n",
    "    mua_set.to_csv(os.path.join('OPs_used', f'{wl}nm_mua_set.csv'), index=False)\n"
   ]
  }
 ],
 "metadata": {
  "kernelspec": {
   "display_name": "venv",
   "language": "python",
   "name": "python3"
  },
  "language_info": {
   "codemirror_mode": {
    "name": "ipython",
    "version": 3
   },
   "file_extension": ".py",
   "mimetype": "text/x-python",
   "name": "python",
   "nbconvert_exporter": "python",
   "pygments_lexer": "ipython3",
   "version": "3.8.8"
  },
  "orig_nbformat": 4
 },
 "nbformat": 4,
 "nbformat_minor": 2
}
