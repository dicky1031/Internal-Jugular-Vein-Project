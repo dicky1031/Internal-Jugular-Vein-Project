{
 "cells": [
  {
   "cell_type": "code",
   "execution_count": 30,
   "metadata": {},
   "outputs": [],
   "source": [
    "import random\n",
    "import os\n",
    "import json\n",
    "import pandas as pd\n",
    "import numpy as np\n",
    "total_num = 10"
   ]
  },
  {
   "cell_type": "code",
   "execution_count": 26,
   "metadata": {},
   "outputs": [],
   "source": [
    "rangdom_gen = [2*random.randint(0, total_num-1)+1,2*random.randint(0, total_num-1)+1,2*random.randint(0, total_num-1)+1,\n",
    "                       2*random.randint(0, total_num-1)+1,2*random.randint(0, total_num-1)+1,2*random.randint(0, total_num-1)+1,\n",
    "                       2*random.randint(0, total_num-1)+1,2*random.randint(0, total_num-1)+1,2*random.randint(0, total_num-1)+1] "
   ]
  },
  {
   "cell_type": "code",
   "execution_count": 33,
   "metadata": {},
   "outputs": [
    {
     "data": {
      "text/plain": [
       "array([10., 10.,  4., 23., 23.])"
      ]
     },
     "execution_count": 33,
     "metadata": {},
     "output_type": "execute_result"
    }
   ],
   "source": [
    "mus_set = pd.read_csv(os.path.join(\"OPs_used\",\"mus_set.csv\")).to_numpy()\n",
    "np.max(mus_set, axis=0)[:5]\n",
    "np.min(mus_set, axis=0)[:5]"
   ]
  },
  {
   "cell_type": "code",
   "execution_count": 5,
   "metadata": {},
   "outputs": [],
   "source": [
    "with open(os.path.join(\"OPs_used\",\"mus_spectrum.json\"), \"r\") as f:\n",
    "    mus_spectrum = json.load(f)\n",
    "mus = {}\n",
    "tissue = ['skin', 'fat', 'muscle', 'blood']\n",
    "for t in tissue:\n",
    "    mus[t] = pd.DataFrame(mus_spectrum[t]).to_numpy()"
   ]
  },
  {
   "cell_type": "code",
   "execution_count": 7,
   "metadata": {},
   "outputs": [],
   "source": [
    "a = mus['skin']\n",
    "b = mus['skin'][0]"
   ]
  },
  {
   "cell_type": "code",
   "execution_count": 11,
   "metadata": {},
   "outputs": [],
   "source": [
    "rangdom_gen = [random.randint(0, 2*(total_num-1)+1),random.randint(0, 2*(total_num-1)+1),random.randint(0, 2*(total_num-1)+1),\n",
    "                       random.randint(0, 2*(total_num-1)+1),random.randint(0, 2*(total_num-1)+1),random.randint(0, 2*(total_num-1)+1),\n",
    "                       random.randint(0, 2*(total_num-1)+1),random.randint(0, 2*(total_num-1)+1),random.randint(0, 2*(total_num-1)+1)]"
   ]
  },
  {
   "cell_type": "code",
   "execution_count": 12,
   "metadata": {},
   "outputs": [],
   "source": [
    "import numpy as np\n",
    "blc = list(np.linspace(1,100,20, dtype=int)) \n"
   ]
  },
  {
   "cell_type": "code",
   "execution_count": 13,
   "metadata": {},
   "outputs": [],
   "source": [
    "with open(os.path.join(\"OPs_used\", \"wavelength.json\"), 'r') as f:\n",
    "        used_wl = json.load(f)\n",
    "        used_wl = used_wl['wavelength']"
   ]
  }
 ],
 "metadata": {
  "kernelspec": {
   "display_name": "venv",
   "language": "python",
   "name": "python3"
  },
  "language_info": {
   "codemirror_mode": {
    "name": "ipython",
    "version": 3
   },
   "file_extension": ".py",
   "mimetype": "text/x-python",
   "name": "python",
   "nbconvert_exporter": "python",
   "pygments_lexer": "ipython3",
   "version": "3.8.8"
  },
  "orig_nbformat": 4
 },
 "nbformat": 4,
 "nbformat_minor": 2
}
