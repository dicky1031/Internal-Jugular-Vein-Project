{
 "cells": [
  {
   "cell_type": "code",
   "execution_count": 8,
   "metadata": {},
   "outputs": [],
   "source": [
    "import numpy as np\n",
    "import cupy as cp\n",
    "import jdata as jd\n",
    "import json\n",
    "import os\n",
    "from glob import glob\n",
    "from tqdm import tqdm\n",
    "import pandas as pd\n",
    "import sys\n",
    "# %% move to current file path\n",
    "os.chdir(sys.path[0])\n",
    "\n",
    "# %% Global\n",
    "# hardware mua setting\n",
    "air_mua = 0\n",
    "PLA_mua = 10000\n",
    "prism_mua = 0\n",
    "\n",
    "# each detector has 6 copy to magnify the signal\n",
    "used_SDS = cp.array([0, 1, 2, 3, 4, 5])"
   ]
  },
  {
   "cell_type": "code",
   "execution_count": 9,
   "metadata": {},
   "outputs": [],
   "source": [
    "# %%\n",
    "\n",
    "\n",
    "class post_processing:\n",
    "\n",
    "    def __init__(self, ID):\n",
    "        self.air_mua = 0\n",
    "        self.PLA_mua = 10000\n",
    "        self.prism_mua = 0\n",
    "        self.ID = ID\n",
    "        # self.used_SDS = np.array([0,1,2,3,4,5])\n",
    "\n",
    "    def get_used_mus(self, mus_set, mus_run_idx):\n",
    "        self.mus_used = [mus_set[mus_run_idx-1, 0],  # skin_mus\n",
    "                         mus_set[mus_run_idx-1, 1],  # fat_mus\n",
    "                         mus_set[mus_run_idx-1, 2],  # musle_mus\n",
    "                         mus_set[mus_run_idx-1, 3],  # ijv_mus\n",
    "                         mus_set[mus_run_idx-1, 4]  # cca_mus\n",
    "                         ]\n",
    "        return self.mus_used\n",
    "\n",
    "    def get_used_mua(self, mua_set):\n",
    "        if self.ID.find(\"small_to_large\") != -1:\n",
    "            self.mua_used = np.array([mua_set.shape[0]*[self.air_mua],\n",
    "                                      mua_set.shape[0]*[self.PLA_mua],\n",
    "                                      mua_set.shape[0]*[self.prism_mua],\n",
    "                                      list(mua_set[:, 0]),  # skin mua\n",
    "                                      list(mua_set[:, 1]),  # fat mua\n",
    "                                      list(mua_set[:, 2]),  # musle mua\n",
    "                                      # perturbed region = musle\n",
    "                                      list(mua_set[:, 2]),\n",
    "                                      list(mua_set[:, 3]),  # IJV mua\n",
    "                                      list(mua_set[:, 4]),  # CCA mua\n",
    "                                      list(mua_set[:, 2]),  # musle mua10%\n",
    "                                      list(mua_set[:, 2]),  # musle mua5%\n",
    "                                      list(mua_set[:, 2]),  # musle mua3%\n",
    "                                      list(mua_set[:, 7])  # musle mua1%\n",
    "                                      ])\n",
    "        elif self.ID.find(\"large_to_small\") != -1:\n",
    "            self.mua_used = np.array([mua_set.shape[0]*[self.air_mua],\n",
    "                                      mua_set.shape[0]*[self.PLA_mua],\n",
    "                                      mua_set.shape[0]*[self.prism_mua],\n",
    "                                      list(mua_set[:, 0]),  # skin mua\n",
    "                                      list(mua_set[:, 1]),  # fat mua\n",
    "                                      list(mua_set[:, 2]),  # musle mua\n",
    "                                      # perturbed region = IJV mua\n",
    "                                      list(mua_set[:, 3]),\n",
    "                                      list(mua_set[:, 3]),  # IJV mua\n",
    "                                      list(mua_set[:, 4]),  # CCA mua\n",
    "                                      list(mua_set[:, 2]),  # musle mua10%\n",
    "                                      list(mua_set[:, 2]),  # musle mua5%\n",
    "                                      list(mua_set[:, 2]),  # musle mua3%\n",
    "                                      list(mua_set[:, 7])  # musle mua1%\n",
    "                                      ])\n",
    "        else:\n",
    "            raise Exception(\"Something wrong in your ID name !\")\n",
    "        self.bloodConc = np.array([list(mua_set[:, 5])])\n",
    "        self.used_SO2 = np.array([list(mua_set[:, 6])])\n",
    "        self.muscle_SO2 = np.array([list(mua_set[:, 8])])\n",
    "        \n",
    "        return cp.array(self.mua_used), self.bloodConc, self.used_SO2, self.muscle_SO2\n",
    "\n",
    "    def get_data(self, mus_run_idx):\n",
    "        self.session = f\"run_{mus_run_idx}\"\n",
    "        with open(os.path.join(os.path.join(self.ID, self.session), \"config.json\")) as f:\n",
    "            config = json.load(f)  # about detector na, & photon number\n",
    "        with open(os.path.join(os.path.join(self.ID, self.session), \"model_parameters.json\")) as f:\n",
    "            # about index of materials & fiber number\n",
    "            modelParameters = json.load(f)\n",
    "        self.photonNum = int(config[\"PhotonNum\"])\n",
    "        self.fiberSet = modelParameters[\"HardwareParam\"][\"Detector\"][\"Fiber\"]\n",
    "        # about paths of detected photon data\n",
    "        self.detOutputPathSet = glob(os.path.join(\n",
    "            config[\"OutputPath\"], self.session, \"mcx_output\", \"*.jdat\"))\n",
    "        self.detOutputPathSet.sort(key=lambda x: int(x.split(\"_\")[-2]))\n",
    "        self.detectorNum = len(self.fiberSet)*3*2\n",
    "        # self.dataset_output = np.empty([mua_set.shape[0],10+len(fiberSet)])\n",
    "\n",
    "        return self.photonNum, self.fiberSet, self.detOutputPathSet, self.detectorNum\n",
    "\n",
    "\n",
    "def WMC(detOutputPathSet, detectorNum, used_SDS, used_mua):\n",
    "    reflectance = cp.zeros((detectorNum, mua_set.shape[0]))\n",
    "    group_reflectance = cp.zeros((len(fiberSet), mua_set.shape[0]))\n",
    "    for detOutputIdx, detOutputPath in enumerate(detOutputPathSet):\n",
    "        # main\n",
    "        # sort (to make calculation of cv be consistent in each time)\n",
    "        detOutput = jd.load(detOutputPath)\n",
    "        info = detOutput[\"MCXData\"][\"Info\"]\n",
    "        photonData = detOutput[\"MCXData\"][\"PhotonData\"]\n",
    "        # unit conversion for photon pathlength\n",
    "        photonData[\"ppath\"] = photonData[\"ppath\"] * info[\"LengthUnit\"]\n",
    "        photonData[\"detid\"] = photonData[\"detid\"] - \\\n",
    "            1  # shift detid from 0 to start\n",
    "        for detectorIdx in range(info[\"DetNum\"]):\n",
    "            ppath = cp.asarray(\n",
    "                photonData[\"ppath\"][photonData[\"detid\"][:, 0] == detectorIdx].astype(np.float64))\n",
    "            # for split_idx in range(int(ppath.shape[0]*0.2),ppath.shape[0],int(ppath.shape[0]*0.2)): # split 20% for using less memory\n",
    "            #     head_idx = split_idx - int(ppath.shape[0]*0.2)\n",
    "            #     # I = I0 * exp(-mua*L)\n",
    "            #     # W_sim\n",
    "            #     reflectance[detOutputIdx][detectorIdx] = cp.exp(-ppath[head_idx:split_idx,:]@used_mua).sum() / photonNum\n",
    "\n",
    "            # batch ppath for GPU use\n",
    "            max_memory = 1000\n",
    "            if ppath.shape[0] > max_memory:\n",
    "                for idx, ppath_idx in enumerate(range(0, ppath.shape[0]//max_memory)):\n",
    "                    if idx == 0:\n",
    "                        batch_ppath_reflectance = cp.exp(\n",
    "                            -ppath[max_memory*(ppath_idx):max_memory*(ppath_idx+1)]@used_mua).sum(axis=0)\n",
    "                        # print(f'idx ={max_memory*(ppath_idx)} ~ {max_memory*(ppath_idx+1)} \\n   r : {batch_ppath_reflectance}')\n",
    "                    else:\n",
    "                        batch_ppath_reflectance += cp.exp(-ppath[max_memory*(\n",
    "                            ppath_idx):max_memory*(ppath_idx+1)]@used_mua).sum(axis=0)\n",
    "                        # print(f'idx ={max_memory*(ppath_idx)} ~ {max_memory*(ppath_idx+1)} \\n   r : {batch_ppath_reflectance}')\n",
    "                batch_ppath_reflectance += cp.exp(-ppath[max_memory*(\n",
    "                    ppath_idx+1):]@used_mua).sum(axis=0)\n",
    "                # print(f'idx =\\{max_memory*(ppath_idx+1)} to last \\n   r : {batch_ppath_reflectance}')\n",
    "            else:\n",
    "                batch_ppath_reflectance = cp.exp(-ppath@used_mua).sum(axis=0)\n",
    "\n",
    "            reflectance[detectorIdx][:] = batch_ppath_reflectance / photonNum\n",
    "        for fiberIdx in range(len(fiberSet)):\n",
    "            group_reflectance[fiberIdx][:] = group_reflectance[fiberIdx][:] + \\\n",
    "                cp.mean(reflectance[used_SDS][:], axis=0)\n",
    "            used_SDS = used_SDS + 2*3\n",
    "\n",
    "    output_R = (group_reflectance/(detOutputIdx+1)).T  # mean\n",
    "\n",
    "    return output_R\n"
   ]
  },
  {
   "cell_type": "code",
   "execution_count": 11,
   "metadata": {},
   "outputs": [
    {
     "name": "stderr",
     "output_type": "stream",
     "text": [
      "  0%|          | 0/20 [00:00<?, ?it/s]"
     ]
    },
    {
     "name": "stdout",
     "output_type": "stream",
     "text": [
      "\n",
      " Now run mus_1\n"
     ]
    },
    {
     "name": "stderr",
     "output_type": "stream",
     "text": [
      "  5%|▌         | 1/20 [00:26<08:32, 26.98s/it]"
     ]
    },
    {
     "name": "stdout",
     "output_type": "stream",
     "text": [
      "\n",
      " Now run mus_2\n"
     ]
    },
    {
     "name": "stderr",
     "output_type": "stream",
     "text": [
      " 10%|█         | 2/20 [00:54<08:06, 27.02s/it]"
     ]
    },
    {
     "name": "stdout",
     "output_type": "stream",
     "text": [
      "\n",
      " Now run mus_3\n"
     ]
    },
    {
     "name": "stderr",
     "output_type": "stream",
     "text": [
      " 15%|█▌        | 3/20 [01:21<07:42, 27.19s/it]"
     ]
    },
    {
     "name": "stdout",
     "output_type": "stream",
     "text": [
      "\n",
      " Now run mus_4\n"
     ]
    },
    {
     "name": "stderr",
     "output_type": "stream",
     "text": [
      " 20%|██        | 4/20 [01:48<07:14, 27.17s/it]"
     ]
    },
    {
     "name": "stdout",
     "output_type": "stream",
     "text": [
      "\n",
      " Now run mus_5\n"
     ]
    },
    {
     "name": "stderr",
     "output_type": "stream",
     "text": [
      " 25%|██▌       | 5/20 [02:15<06:48, 27.21s/it]"
     ]
    },
    {
     "name": "stdout",
     "output_type": "stream",
     "text": [
      "\n",
      " Now run mus_6\n"
     ]
    },
    {
     "name": "stderr",
     "output_type": "stream",
     "text": [
      " 30%|███       | 6/20 [02:43<06:21, 27.26s/it]"
     ]
    },
    {
     "name": "stdout",
     "output_type": "stream",
     "text": [
      "\n",
      " Now run mus_7\n"
     ]
    },
    {
     "name": "stderr",
     "output_type": "stream",
     "text": [
      " 35%|███▌      | 7/20 [03:10<05:54, 27.28s/it]"
     ]
    },
    {
     "name": "stdout",
     "output_type": "stream",
     "text": [
      "\n",
      " Now run mus_8\n"
     ]
    },
    {
     "name": "stderr",
     "output_type": "stream",
     "text": [
      " 40%|████      | 8/20 [03:37<05:27, 27.27s/it]"
     ]
    },
    {
     "name": "stdout",
     "output_type": "stream",
     "text": [
      "\n",
      " Now run mus_9\n"
     ]
    },
    {
     "name": "stderr",
     "output_type": "stream",
     "text": [
      " 45%|████▌     | 9/20 [04:04<04:59, 27.24s/it]"
     ]
    },
    {
     "name": "stdout",
     "output_type": "stream",
     "text": [
      "\n",
      " Now run mus_10\n"
     ]
    },
    {
     "name": "stderr",
     "output_type": "stream",
     "text": [
      " 50%|█████     | 10/20 [04:32<04:32, 27.21s/it]"
     ]
    },
    {
     "name": "stdout",
     "output_type": "stream",
     "text": [
      "\n",
      " Now run mus_11\n"
     ]
    },
    {
     "name": "stderr",
     "output_type": "stream",
     "text": [
      " 55%|█████▌    | 11/20 [04:59<04:04, 27.21s/it]"
     ]
    },
    {
     "name": "stdout",
     "output_type": "stream",
     "text": [
      "\n",
      " Now run mus_12\n"
     ]
    },
    {
     "name": "stderr",
     "output_type": "stream",
     "text": [
      " 60%|██████    | 12/20 [05:26<03:37, 27.22s/it]"
     ]
    },
    {
     "name": "stdout",
     "output_type": "stream",
     "text": [
      "\n",
      " Now run mus_13\n"
     ]
    },
    {
     "name": "stderr",
     "output_type": "stream",
     "text": [
      " 65%|██████▌   | 13/20 [05:54<03:11, 27.39s/it]"
     ]
    },
    {
     "name": "stdout",
     "output_type": "stream",
     "text": [
      "\n",
      " Now run mus_14\n"
     ]
    },
    {
     "name": "stderr",
     "output_type": "stream",
     "text": [
      " 70%|███████   | 14/20 [06:22<02:44, 27.50s/it]"
     ]
    },
    {
     "name": "stdout",
     "output_type": "stream",
     "text": [
      "\n",
      " Now run mus_15\n"
     ]
    },
    {
     "name": "stderr",
     "output_type": "stream",
     "text": [
      " 75%|███████▌  | 15/20 [06:49<02:17, 27.50s/it]"
     ]
    },
    {
     "name": "stdout",
     "output_type": "stream",
     "text": [
      "\n",
      " Now run mus_16\n"
     ]
    },
    {
     "name": "stderr",
     "output_type": "stream",
     "text": [
      " 80%|████████  | 16/20 [07:17<01:50, 27.52s/it]"
     ]
    },
    {
     "name": "stdout",
     "output_type": "stream",
     "text": [
      "\n",
      " Now run mus_17\n"
     ]
    },
    {
     "name": "stderr",
     "output_type": "stream",
     "text": [
      " 85%|████████▌ | 17/20 [07:44<01:22, 27.51s/it]"
     ]
    },
    {
     "name": "stdout",
     "output_type": "stream",
     "text": [
      "\n",
      " Now run mus_18\n"
     ]
    },
    {
     "name": "stderr",
     "output_type": "stream",
     "text": [
      " 90%|█████████ | 18/20 [08:12<00:55, 27.52s/it]"
     ]
    },
    {
     "name": "stdout",
     "output_type": "stream",
     "text": [
      "\n",
      " Now run mus_19\n"
     ]
    },
    {
     "name": "stderr",
     "output_type": "stream",
     "text": [
      " 95%|█████████▌| 19/20 [08:39<00:27, 27.50s/it]"
     ]
    },
    {
     "name": "stdout",
     "output_type": "stream",
     "text": [
      "\n",
      " Now run mus_20\n"
     ]
    },
    {
     "name": "stderr",
     "output_type": "stream",
     "text": [
      "100%|██████████| 20/20 [09:07<00:00, 27.35s/it]\n",
      "  0%|          | 0/20 [00:00<?, ?it/s]"
     ]
    },
    {
     "name": "stdout",
     "output_type": "stream",
     "text": [
      "\n",
      " Now run mus_1\n"
     ]
    },
    {
     "name": "stderr",
     "output_type": "stream",
     "text": [
      "  5%|▌         | 1/20 [00:27<08:45, 27.67s/it]"
     ]
    },
    {
     "name": "stdout",
     "output_type": "stream",
     "text": [
      "\n",
      " Now run mus_2\n"
     ]
    },
    {
     "name": "stderr",
     "output_type": "stream",
     "text": [
      " 10%|█         | 2/20 [00:55<08:19, 27.76s/it]"
     ]
    },
    {
     "name": "stdout",
     "output_type": "stream",
     "text": [
      "\n",
      " Now run mus_3\n"
     ]
    },
    {
     "name": "stderr",
     "output_type": "stream",
     "text": [
      " 15%|█▌        | 3/20 [01:23<07:52, 27.80s/it]"
     ]
    },
    {
     "name": "stdout",
     "output_type": "stream",
     "text": [
      "\n",
      " Now run mus_4\n"
     ]
    },
    {
     "name": "stderr",
     "output_type": "stream",
     "text": [
      " 20%|██        | 4/20 [01:51<07:24, 27.79s/it]"
     ]
    },
    {
     "name": "stdout",
     "output_type": "stream",
     "text": [
      "\n",
      " Now run mus_5\n"
     ]
    },
    {
     "name": "stderr",
     "output_type": "stream",
     "text": [
      " 25%|██▌       | 5/20 [02:18<06:56, 27.74s/it]"
     ]
    },
    {
     "name": "stdout",
     "output_type": "stream",
     "text": [
      "\n",
      " Now run mus_6\n"
     ]
    },
    {
     "name": "stderr",
     "output_type": "stream",
     "text": [
      " 30%|███       | 6/20 [02:46<06:27, 27.70s/it]"
     ]
    },
    {
     "name": "stdout",
     "output_type": "stream",
     "text": [
      "\n",
      " Now run mus_7\n"
     ]
    },
    {
     "name": "stderr",
     "output_type": "stream",
     "text": [
      " 35%|███▌      | 7/20 [03:14<06:02, 27.85s/it]"
     ]
    },
    {
     "name": "stdout",
     "output_type": "stream",
     "text": [
      "\n",
      " Now run mus_8\n"
     ]
    },
    {
     "name": "stderr",
     "output_type": "stream",
     "text": [
      " 40%|████      | 8/20 [03:42<05:36, 28.00s/it]"
     ]
    },
    {
     "name": "stdout",
     "output_type": "stream",
     "text": [
      "\n",
      " Now run mus_9\n"
     ]
    },
    {
     "name": "stderr",
     "output_type": "stream",
     "text": [
      " 45%|████▌     | 9/20 [04:11<05:09, 28.16s/it]"
     ]
    },
    {
     "name": "stdout",
     "output_type": "stream",
     "text": [
      "\n",
      " Now run mus_10\n"
     ]
    },
    {
     "name": "stderr",
     "output_type": "stream",
     "text": [
      " 50%|█████     | 10/20 [04:39<04:40, 28.02s/it]"
     ]
    },
    {
     "name": "stdout",
     "output_type": "stream",
     "text": [
      "\n",
      " Now run mus_11\n"
     ]
    },
    {
     "name": "stderr",
     "output_type": "stream",
     "text": [
      " 55%|█████▌    | 11/20 [05:06<04:10, 27.88s/it]"
     ]
    },
    {
     "name": "stdout",
     "output_type": "stream",
     "text": [
      "\n",
      " Now run mus_12\n"
     ]
    },
    {
     "name": "stderr",
     "output_type": "stream",
     "text": [
      " 60%|██████    | 12/20 [05:34<03:42, 27.79s/it]"
     ]
    },
    {
     "name": "stdout",
     "output_type": "stream",
     "text": [
      "\n",
      " Now run mus_13\n"
     ]
    },
    {
     "name": "stderr",
     "output_type": "stream",
     "text": [
      " 65%|██████▌   | 13/20 [06:01<03:14, 27.72s/it]"
     ]
    },
    {
     "name": "stdout",
     "output_type": "stream",
     "text": [
      "\n",
      " Now run mus_14\n"
     ]
    },
    {
     "name": "stderr",
     "output_type": "stream",
     "text": [
      " 70%|███████   | 14/20 [06:29<02:46, 27.69s/it]"
     ]
    },
    {
     "name": "stdout",
     "output_type": "stream",
     "text": [
      "\n",
      " Now run mus_15\n"
     ]
    },
    {
     "name": "stderr",
     "output_type": "stream",
     "text": [
      " 75%|███████▌  | 15/20 [06:57<02:18, 27.66s/it]"
     ]
    },
    {
     "name": "stdout",
     "output_type": "stream",
     "text": [
      "\n",
      " Now run mus_16\n"
     ]
    },
    {
     "name": "stderr",
     "output_type": "stream",
     "text": [
      " 80%|████████  | 16/20 [07:24<01:50, 27.60s/it]"
     ]
    },
    {
     "name": "stdout",
     "output_type": "stream",
     "text": [
      "\n",
      " Now run mus_17\n"
     ]
    },
    {
     "name": "stderr",
     "output_type": "stream",
     "text": [
      " 85%|████████▌ | 17/20 [07:51<01:22, 27.56s/it]"
     ]
    },
    {
     "name": "stdout",
     "output_type": "stream",
     "text": [
      "\n",
      " Now run mus_18\n"
     ]
    },
    {
     "name": "stderr",
     "output_type": "stream",
     "text": [
      " 90%|█████████ | 18/20 [08:19<00:55, 27.55s/it]"
     ]
    },
    {
     "name": "stdout",
     "output_type": "stream",
     "text": [
      "\n",
      " Now run mus_19\n"
     ]
    },
    {
     "name": "stderr",
     "output_type": "stream",
     "text": [
      " 95%|█████████▌| 19/20 [08:46<00:27, 27.48s/it]"
     ]
    },
    {
     "name": "stdout",
     "output_type": "stream",
     "text": [
      "\n",
      " Now run mus_20\n"
     ]
    },
    {
     "name": "stderr",
     "output_type": "stream",
     "text": [
      "100%|██████████| 20/20 [09:14<00:00, 27.71s/it]\n",
      "  0%|          | 0/20 [00:00<?, ?it/s]"
     ]
    },
    {
     "name": "stdout",
     "output_type": "stream",
     "text": [
      "\n",
      " Now run mus_1\n"
     ]
    },
    {
     "name": "stderr",
     "output_type": "stream",
     "text": [
      "  5%|▌         | 1/20 [00:27<08:47, 27.78s/it]"
     ]
    },
    {
     "name": "stdout",
     "output_type": "stream",
     "text": [
      "\n",
      " Now run mus_2\n"
     ]
    },
    {
     "name": "stderr",
     "output_type": "stream",
     "text": [
      " 10%|█         | 2/20 [00:55<08:19, 27.77s/it]"
     ]
    },
    {
     "name": "stdout",
     "output_type": "stream",
     "text": [
      "\n",
      " Now run mus_3\n"
     ]
    },
    {
     "name": "stderr",
     "output_type": "stream",
     "text": [
      " 15%|█▌        | 3/20 [01:23<07:53, 27.82s/it]"
     ]
    },
    {
     "name": "stdout",
     "output_type": "stream",
     "text": [
      "\n",
      " Now run mus_4\n"
     ]
    },
    {
     "name": "stderr",
     "output_type": "stream",
     "text": [
      " 20%|██        | 4/20 [01:51<07:24, 27.76s/it]"
     ]
    },
    {
     "name": "stdout",
     "output_type": "stream",
     "text": [
      "\n",
      " Now run mus_5\n"
     ]
    },
    {
     "name": "stderr",
     "output_type": "stream",
     "text": [
      " 25%|██▌       | 5/20 [02:18<06:55, 27.69s/it]"
     ]
    },
    {
     "name": "stdout",
     "output_type": "stream",
     "text": [
      "\n",
      " Now run mus_6\n"
     ]
    },
    {
     "name": "stderr",
     "output_type": "stream",
     "text": [
      " 30%|███       | 6/20 [02:46<06:27, 27.67s/it]"
     ]
    },
    {
     "name": "stdout",
     "output_type": "stream",
     "text": [
      "\n",
      " Now run mus_7\n"
     ]
    },
    {
     "name": "stderr",
     "output_type": "stream",
     "text": [
      " 35%|███▌      | 7/20 [03:13<05:59, 27.67s/it]"
     ]
    },
    {
     "name": "stdout",
     "output_type": "stream",
     "text": [
      "\n",
      " Now run mus_8\n"
     ]
    },
    {
     "name": "stderr",
     "output_type": "stream",
     "text": [
      " 40%|████      | 8/20 [03:41<05:32, 27.68s/it]"
     ]
    },
    {
     "name": "stdout",
     "output_type": "stream",
     "text": [
      "\n",
      " Now run mus_9\n"
     ]
    },
    {
     "name": "stderr",
     "output_type": "stream",
     "text": [
      " 45%|████▌     | 9/20 [04:09<05:04, 27.65s/it]"
     ]
    },
    {
     "name": "stdout",
     "output_type": "stream",
     "text": [
      "\n",
      " Now run mus_10\n"
     ]
    },
    {
     "name": "stderr",
     "output_type": "stream",
     "text": [
      " 50%|█████     | 10/20 [04:36<04:36, 27.62s/it]"
     ]
    },
    {
     "name": "stdout",
     "output_type": "stream",
     "text": [
      "\n",
      " Now run mus_11\n"
     ]
    },
    {
     "name": "stderr",
     "output_type": "stream",
     "text": [
      " 55%|█████▌    | 11/20 [05:04<04:08, 27.60s/it]"
     ]
    },
    {
     "name": "stdout",
     "output_type": "stream",
     "text": [
      "\n",
      " Now run mus_12\n"
     ]
    },
    {
     "name": "stderr",
     "output_type": "stream",
     "text": [
      " 60%|██████    | 12/20 [05:31<03:40, 27.60s/it]"
     ]
    },
    {
     "name": "stdout",
     "output_type": "stream",
     "text": [
      "\n",
      " Now run mus_13\n"
     ]
    },
    {
     "name": "stderr",
     "output_type": "stream",
     "text": [
      " 65%|██████▌   | 13/20 [05:59<03:13, 27.59s/it]"
     ]
    },
    {
     "name": "stdout",
     "output_type": "stream",
     "text": [
      "\n",
      " Now run mus_14\n"
     ]
    },
    {
     "name": "stderr",
     "output_type": "stream",
     "text": [
      " 70%|███████   | 14/20 [06:27<02:45, 27.58s/it]"
     ]
    },
    {
     "name": "stdout",
     "output_type": "stream",
     "text": [
      "\n",
      " Now run mus_15\n"
     ]
    },
    {
     "name": "stderr",
     "output_type": "stream",
     "text": [
      " 75%|███████▌  | 15/20 [06:54<02:17, 27.57s/it]"
     ]
    },
    {
     "name": "stdout",
     "output_type": "stream",
     "text": [
      "\n",
      " Now run mus_16\n"
     ]
    },
    {
     "name": "stderr",
     "output_type": "stream",
     "text": [
      " 80%|████████  | 16/20 [07:22<01:50, 27.60s/it]"
     ]
    },
    {
     "name": "stdout",
     "output_type": "stream",
     "text": [
      "\n",
      " Now run mus_17\n"
     ]
    },
    {
     "name": "stderr",
     "output_type": "stream",
     "text": [
      " 85%|████████▌ | 17/20 [07:49<01:22, 27.59s/it]"
     ]
    },
    {
     "name": "stdout",
     "output_type": "stream",
     "text": [
      "\n",
      " Now run mus_18\n"
     ]
    },
    {
     "name": "stderr",
     "output_type": "stream",
     "text": [
      " 90%|█████████ | 18/20 [08:17<00:55, 27.57s/it]"
     ]
    },
    {
     "name": "stdout",
     "output_type": "stream",
     "text": [
      "\n",
      " Now run mus_19\n"
     ]
    },
    {
     "name": "stderr",
     "output_type": "stream",
     "text": [
      " 95%|█████████▌| 19/20 [08:44<00:27, 27.51s/it]"
     ]
    },
    {
     "name": "stdout",
     "output_type": "stream",
     "text": [
      "\n",
      " Now run mus_20\n"
     ]
    },
    {
     "name": "stderr",
     "output_type": "stream",
     "text": [
      "100%|██████████| 20/20 [09:12<00:00, 27.60s/it]\n"
     ]
    }
   ],
   "source": [
    "if __name__ == \"__main__\":\n",
    "    # script setting\n",
    "    # datasetpath = sys.argv[1] #datasetpath = \"KB_dataset_small\"\n",
    "    # ID = sys.argv[2] # ID = \"KB_ijv_small_to_large\"\n",
    "    # mus_start = int(sys.argv[3])\n",
    "    # mus_end = int(sys.argv[4])\n",
    "    with open(os.path.join(\"OPs_used\",\"wavelength.json\"), 'r') as f:\n",
    "        wavelength = json.load(f) \n",
    "        wavelength = wavelength['wavelength']\n",
    "    mus_types = ['high', 'medium', 'low']\n",
    "    result_folder = \"kb\"\n",
    "    subject = \"kb\"\n",
    "    ijv_type = \"small_to_large\"\n",
    "    mus_start = 1\n",
    "    mus_end = 20\n",
    "    \n",
    "    for mus_type in mus_types:\n",
    "        ID = os.path.join(\"dataset\", result_folder, f\"{subject}_ijv_{ijv_type}\", 'low')\n",
    "        ijv_size = ijv_type.split(\"_\")[0]\n",
    "        datasetpath = f\"{subject}_dataset_{ijv_size}\"\n",
    "        os.makedirs(os.path.join(\"dataset\", result_folder,\n",
    "                    datasetpath, mus_type), exist_ok=True)\n",
    "\n",
    "        processsor = post_processing(ID)\n",
    "        for mus_run_idx in tqdm(range(mus_start, mus_end+1)):\n",
    "            mua_set = np.load(os.path.join(\"OPs_used\", f\"{wavelength[mus_run_idx-1]}nm_mua_set.npy\"))\n",
    "            mus_set = np.load(os.path.join(\"OPs_used\", f\"{mus_type}_mus_set.npy\")) \n",
    "            print(f\"\\n Now run mus_{mus_run_idx}\")\n",
    "            photonNum, fiberSet, detOutputPathSet, detectorNum = processsor.get_data(\n",
    "                mus_run_idx)\n",
    "            used_mus = processsor.get_used_mus(mus_set, mus_run_idx)\n",
    "            used_mus = np.tile(np.array(used_mus), mua_set.shape[0]).reshape(\n",
    "                mua_set.shape[0], 5)\n",
    "            dataset_output = np.empty([mua_set.shape[0], 17+len(fiberSet)])\n",
    "            used_mua, bloodConc, used_SO2, muscle_SO2 = processsor.get_used_mua(mua_set)\n",
    "            \n",
    "            output_R = WMC(detOutputPathSet, detectorNum, used_SDS, used_mua)\n",
    "            \n",
    "            dataset_output[:, 17:] = cp.asnumpy(output_R)\n",
    "            used_mua = used_mua[3:]  # skin, fat, muscle, perturbed, IJV, CCA\n",
    "            used_mua = cp.concatenate([used_mua[:3], used_mua[4:]]).T\n",
    "            used_mua = cp.asnumpy(used_mua)\n",
    "            bloodConc = bloodConc.T\n",
    "            used_SO2 = used_SO2.T\n",
    "            muscle_SO2 = muscle_SO2.T\n",
    "            dataset_output[:, :17] = np.concatenate([used_mus, used_mua, bloodConc, used_SO2, muscle_SO2], axis=1)\n",
    "            np.save(os.path.join(\"dataset\", result_folder, datasetpath, mus_type,\n",
    "                    f\"{wavelength[mus_run_idx-1]}nm_mus_{mus_run_idx}.npy\"), dataset_output)\n",
    "            col_mus = ['skin_mus', 'fat_mus', 'muscle_mus', 'ijv_mus', 'cca_mus']\n",
    "            col_mua = ['skin_mua', 'fat_mua', 'muscle_mua', 'ijv_mua', 'cca_mua', 'muscle10%_mua', 'muscle5%_mua', 'muscle3%_mua', 'muscle1%_mua', 'bloodConc', 'used_SO2', 'muscle_SO2']\n",
    "            col_SDS = [f'SDS_{i}' for i in range(len(fiberSet))]\n",
    "            col = col_mus + col_mua + col_SDS\n",
    "            dataset_output = pd.DataFrame(dataset_output, columns=col)\n",
    "            dataset_output.to_csv(os.path.join(\"dataset\", result_folder, datasetpath, mus_type,\n",
    "                    f\"{wavelength[mus_run_idx-1]}nm_mus_{mus_run_idx}.csv\"), index=False)\n",
    "            \n",
    "            "
   ]
  }
 ],
 "metadata": {
  "kernelspec": {
   "display_name": "venv",
   "language": "python",
   "name": "python3"
  },
  "language_info": {
   "codemirror_mode": {
    "name": "ipython",
    "version": 3
   },
   "file_extension": ".py",
   "mimetype": "text/x-python",
   "name": "python",
   "nbconvert_exporter": "python",
   "pygments_lexer": "ipython3",
   "version": "3.8.8"
  },
  "orig_nbformat": 4
 },
 "nbformat": 4,
 "nbformat_minor": 2
}
