{
 "cells": [
  {
   "cell_type": "code",
   "execution_count": 41,
   "metadata": {},
   "outputs": [],
   "source": [
    "# run 20 wavelength including high scatter, medium scatter, low scatter for both large ijv and small ijv\n",
    "# overall simulations : 20 * 3 * 2 = 120\n",
    "\n",
    "# save file like this:\n",
    "\n",
    "# result\n",
    "#     --KB\n",
    "#         -- large_to_small\n",
    "#             --high\n",
    "#                 --700 nm\n",
    "#                 ..\n",
    "#             --medium\n",
    "#             --low\n",
    "#         -- small_to_large\n"
   ]
  },
  {
   "cell_type": "code",
   "execution_count": 42,
   "metadata": {},
   "outputs": [],
   "source": [
    "import json\n",
    "import os\n",
    "import numpy as np\n",
    "import pandas as pd"
   ]
  },
  {
   "cell_type": "code",
   "execution_count": 43,
   "metadata": {},
   "outputs": [],
   "source": [
    "def Get_Mus_Set(mus_spectrum : json, rank : int) -> np:\n",
    "    skin_mus = mus_spectrum['skin']\n",
    "    subcuit_mus = mus_spectrum['fat']\n",
    "    muscle_mus = mus_spectrum['muscle']\n",
    "    vessel_mus = mus_spectrum['blood']\n",
    "    wl = list(skin_mus.keys())\n",
    "    \n",
    "    # skin, fat, muscle, ijv, cca --> ijv,cca have same mus\n",
    "    mus_set = np.zeros((len(wl), 5))\n",
    "    for id, used_wl in enumerate(wl):\n",
    "        mus_set[id][0] = skin_mus[used_wl][rank]\n",
    "        mus_set[id][1] = subcuit_mus[used_wl][rank]\n",
    "        mus_set[id][2] = muscle_mus[used_wl][rank]\n",
    "        mus_set[id][3] = vessel_mus[used_wl][rank]\n",
    "        mus_set[id][4] = vessel_mus[used_wl][rank]\n",
    "    return mus_set\n"
   ]
  },
  {
   "cell_type": "code",
   "execution_count": 44,
   "metadata": {},
   "outputs": [],
   "source": [
    "with open(os.path.join(\"OPs_used\",\"mus_spectrum.json\"), 'r') as f:\n",
    "    mus_spectrum = json.load(f) \n",
    "    \n",
    "mus_set = Get_Mus_Set(mus_spectrum=mus_spectrum, rank=5) # for 0 to 20 is highest scatter to lowest scatter\n",
    "np.save(os.path.join('OPs_used', 'high_mus_set.npy'), mus_set)\n",
    "mus_set = pd.DataFrame(\n",
    "    mus_set, columns=['skin', 'fat', 'muscle', 'ijv', 'cca'])\n",
    "mus_set.to_csv(os.path.join('OPs_used', 'high_mus_set.csv'), index=False)\n",
    "\n",
    "mus_set = Get_Mus_Set(mus_spectrum=mus_spectrum, rank=10) # for 0 to 20 is highest scatter to lowest scatter\n",
    "np.save(os.path.join('OPs_used', 'medium_mus_set.npy'), mus_set)\n",
    "mus_set = pd.DataFrame(\n",
    "    mus_set, columns=['skin', 'fat', 'muscle', 'ijv', 'cca'])\n",
    "mus_set.to_csv(os.path.join('OPs_used', 'medium_mus_set.csv'), index=False)\n",
    "\n",
    "mus_set = Get_Mus_Set(mus_spectrum=mus_spectrum, rank=15) # for 0 to 20 is highest scatter to lowest scatter\n",
    "np.save(os.path.join('OPs_used', 'low_mus_set.npy'), mus_set)\n",
    "mus_set = pd.DataFrame(\n",
    "    mus_set, columns=['skin', 'fat', 'muscle', 'ijv', 'cca'])\n",
    "mus_set.to_csv(os.path.join('OPs_used', 'low_mus_set.csv'), index=False)"
   ]
  }
 ],
 "metadata": {
  "kernelspec": {
   "display_name": "venv",
   "language": "python",
   "name": "python3"
  },
  "language_info": {
   "codemirror_mode": {
    "name": "ipython",
    "version": 3
   },
   "file_extension": ".py",
   "mimetype": "text/x-python",
   "name": "python",
   "nbconvert_exporter": "python",
   "pygments_lexer": "ipython3",
   "version": "3.8.8"
  },
  "orig_nbformat": 4
 },
 "nbformat": 4,
 "nbformat_minor": 2
}
