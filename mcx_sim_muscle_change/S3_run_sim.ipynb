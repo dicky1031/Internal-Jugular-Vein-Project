{
 "cells": [
  {
   "cell_type": "code",
   "execution_count": 7,
   "metadata": {},
   "outputs": [],
   "source": [
    "from mcx_ultrasound_opsbased import MCX\n",
    "import calculateR_CV\n",
    "import json\n",
    "import os\n",
    "import numpy as np\n",
    "import pandas as pd\n",
    "from glob import glob\n",
    "from time import sleep\n",
    "from tqdm import tqdm\n",
    "import time\n",
    "import sys"
   ]
  },
  {
   "cell_type": "code",
   "execution_count": 8,
   "metadata": {},
   "outputs": [],
   "source": [
    "# %% run\n",
    "\n",
    "class Timer():\n",
    "    def __init__(self):\n",
    "        self.o = time.time()\n",
    "\n",
    "    def measure(self, p=1):\n",
    "        x = (time.time() - self.o) / p\n",
    "        x = int(x)\n",
    "        if x >= 3600:\n",
    "            return '{:.1f}h'.format(x / 3600)\n",
    "        if x >= 60:\n",
    "            return '{}m'.format(round(x / 60))\n",
    "        return '{}s'.format(x)\n",
    "\n",
    "\n",
    "def run_mcx(result_folder, mus_type, subject, mus_start, mus_end, NA_enable, NA, runningNum, cvThreshold, repeatTimes, ijv_type):\n",
    "    mus_set = np.load(os.path.join(\"OPs_used\", f\"{mus_type}_mus_set.npy\"))\n",
    "    timer = Timer()\n",
    "    ID = f'{subject}_ijv_{ijv_type}'\n",
    "    for run_idx in tqdm(range(mus_start, mus_end+1)):\n",
    "        now = time.time()\n",
    "        #  Setting\n",
    "        session = f\"run_{run_idx}\"\n",
    "        sessionID = os.path.join(\"result\", result_folder, ID, mus_type, session)\n",
    "        \n",
    "        #  Do simulation\n",
    "        # initialize\n",
    "        simulator = MCX(sessionID)\n",
    "\n",
    "        with open(os.path.join(sessionID, \"config.json\")) as f:\n",
    "            config = json.load(f)\n",
    "        simulationResultPath = os.path.join(\n",
    "            config[\"OutputPath\"], session, \"post_analysis\", f\"{session}_simulation_result.json\")\n",
    "\n",
    "        with open(simulationResultPath) as f:\n",
    "            simulationResult = json.load(f)\n",
    "        existedOutputNum = simulationResult[\"RawSampleNum\"]\n",
    "        # run forward mcx\n",
    "        if runningNum:\n",
    "            for idx in range(existedOutputNum, existedOutputNum+runningNum):\n",
    "                # run\n",
    "                simulator.run(idx)\n",
    "                if NA_enable:\n",
    "                    simulator.NA_adjust(NA)\n",
    "                # save progress\n",
    "                simulationResult[\"RawSampleNum\"] = idx+1\n",
    "                with open(simulationResultPath, \"w\") as f:\n",
    "                    json.dump(simulationResult, f, indent=4)\n",
    "            mean, CV = calculateR_CV.calculate_R_CV(\n",
    "                sessionID, session, \"mua_test.json\")\n",
    "            print(\n",
    "                f\"Session name: {sessionID} \\n Reflectance mean: {mean} \\nCV: {CV} \", end=\"\\n\\n\")\n",
    "            # remove file\n",
    "            # remove_list = glob(os.path.join(\n",
    "            #     config[\"OutputPath\"], session, \"mcx_output\", \"*.jdat\"))\n",
    "            # remove_list.sort(key=lambda x: int(x.split(\"_\")[-2]))\n",
    "            # remove_list = remove_list[1:]\n",
    "            # for idx in range(len(remove_list)):\n",
    "            #     os.remove(remove_list[idx])\n",
    "\n",
    "        else:\n",
    "            # run stage1 : run N sims to precalculate CV\n",
    "            for idx in range(repeatTimes):\n",
    "                # run\n",
    "                simulator.run(idx)\n",
    "                if NA_enable:\n",
    "                    simulator.NA_adjust(NA)\n",
    "                # save progress\n",
    "                simulationResult[\"RawSampleNum\"] = idx+1\n",
    "                with open(simulationResultPath, \"w\") as f:\n",
    "                    json.dump(simulationResult, f, indent=4)\n",
    "            # calculate reflectance\n",
    "            mean, CV = calculateR_CV.calculate_R_CV(\n",
    "                sessionID, session, \"mua_test.json\")\n",
    "            print(\n",
    "                f\"Session name: {sessionID} \\n Reflectance mean: {mean} \\nCV: {CV} \\n Predict CV: {CV/np.sqrt(repeatTimes)}\", end=\"\\n\\n\")\n",
    "            # run stage2 : run more sim to make up cvThreshold\n",
    "            # reflectanceCV = {k: simulationResult[\"GroupingSampleCV\"][k]\n",
    "            #                  for k in simulationResult[\"GroupingSampleCV\"]}\n",
    "\n",
    "            predict_CV = max(CV)/np.sqrt(repeatTimes)\n",
    "            while (predict_CV > cvThreshold):\n",
    "                needAddOutputNum = int(\n",
    "                    np.ceil((max(CV)**2)/(cvThreshold**2)) - repeatTimes)\n",
    "                if needAddOutputNum > 0:\n",
    "                    for idx in range(repeatTimes, repeatTimes+needAddOutputNum):\n",
    "                        # run\n",
    "                        simulator.run(idx)\n",
    "                        if NA_enable:\n",
    "                            simulator.NA_adjust(NA)\n",
    "                        # save progress\n",
    "                        simulationResult[\"RawSampleNum\"] = idx+1\n",
    "                        with open(simulationResultPath, \"w\") as f:\n",
    "                            json.dump(simulationResult, f, indent=4)\n",
    "                    # calculate reflectance\n",
    "                    mean, CV = calculateR_CV.calculate_R_CV(\n",
    "                        sessionID, session, \"mua_test.json\")\n",
    "                    print(\n",
    "                        f\"Session name: {sessionID} \\n Reflectance mean: {mean} \\nCV: {CV} \\n Predict CV: {CV/np.sqrt(repeatTimes+needAddOutputNum)}\", end=\"\\n\\n\")\n",
    "                    predict_CV = max(CV)/np.sqrt(repeatTimes+needAddOutputNum)\n",
    "                    repeatTimes = repeatTimes + needAddOutputNum\n",
    "                    \n",
    "            with open(simulationResultPath) as f:\n",
    "                simulationResult = json.load(f)\n",
    "            simulationResult['elapsed time'] = time.time() - now\n",
    "            with open(simulationResultPath, \"w\") as f:\n",
    "                json.dump(simulationResult, f, indent=4)\n",
    "\n",
    "        print('ETA:{}/{}'.format(timer.measure(),\n",
    "                                 timer.measure(run_idx / mus_set.shape[0])))\n",
    "        sleep(0.01)"
   ]
  },
  {
   "cell_type": "code",
   "execution_count": 9,
   "metadata": {},
   "outputs": [
    {
     "name": "stderr",
     "output_type": "stream",
     "text": [
      "  0%|          | 0/20 [00:00<?, ?it/s]"
     ]
    },
    {
     "name": "stdout",
     "output_type": "stream",
     "text": [
      "∎∎ Start to run # 0 ... Finished !! ∎∎\n",
      "\n",
      "∎∎ Start to run # 1 ... Finished !! ∎∎\n",
      "\n",
      "∎∎ Start to run # 2 ... Finished !! ∎∎\n",
      "\n"
     ]
    },
    {
     "name": "stderr",
     "output_type": "stream",
     "text": [
      "  5%|▌         | 1/20 [00:30<09:46, 30.85s/it]"
     ]
    },
    {
     "name": "stdout",
     "output_type": "stream",
     "text": [
      "Session name: result\\kb\\kb_ijv_large_to_small\\high\\run_1 \n",
      " Reflectance mean: [2.05033283e-07 1.49451955e-07 1.70163094e-07 1.54184249e-07\n",
      " 0.00000000e+00 0.00000000e+00 0.00000000e+00 0.00000000e+00\n",
      " 0.00000000e+00 0.00000000e+00 0.00000000e+00 1.66982985e-08\n",
      " 9.06671667e-09 7.50576961e-09 0.00000000e+00 0.00000000e+00\n",
      " 0.00000000e+00 0.00000000e+00 0.00000000e+00 0.00000000e+00\n",
      " 0.00000000e+00] \n",
      "CV: [ 4.14839415  6.12586322  7.95890251  4.64164632         nan         nan\n",
      "         nan         nan         nan         nan         nan  6.25207822\n",
      " 18.21277431 20.16627874         nan         nan         nan         nan\n",
      "         nan         nan         nan] \n",
      " Predict CV: [ 2.39507648  3.53676878  4.59507451  2.67985575         nan         nan\n",
      "         nan         nan         nan         nan         nan  3.60963904\n",
      " 10.51515015 11.64300646         nan         nan         nan         nan\n",
      "         nan         nan         nan]\n",
      "\n",
      "ETA:30s/10m\n",
      "∎∎ Start to run # 0 ... Finished !! ∎∎\n",
      "\n",
      "∎∎ Start to run # 1 ... Finished !! ∎∎\n",
      "\n",
      "∎∎ Start to run # 2 ... Finished !! ∎∎\n",
      "\n"
     ]
    },
    {
     "name": "stderr",
     "output_type": "stream",
     "text": [
      " 10%|█         | 2/20 [00:56<08:16, 27.57s/it]"
     ]
    },
    {
     "name": "stdout",
     "output_type": "stream",
     "text": [
      "Session name: result\\kb\\kb_ijv_large_to_small\\high\\run_2 \n",
      " Reflectance mean: [2.02686858e-07 1.81280148e-07 1.75968123e-07 1.54061897e-07\n",
      " 0.00000000e+00 0.00000000e+00 0.00000000e+00 0.00000000e+00\n",
      " 0.00000000e+00 0.00000000e+00 0.00000000e+00 1.48685028e-08\n",
      " 7.61316708e-09 8.03204510e-09 0.00000000e+00 0.00000000e+00\n",
      " 0.00000000e+00 0.00000000e+00 0.00000000e+00 0.00000000e+00\n",
      " 0.00000000e+00] \n",
      "CV: [ 1.12370817  3.20030313  9.19429599  4.7083509          nan         nan\n",
      "         nan         nan         nan         nan         nan 10.64808327\n",
      " 19.75313743 24.39799109         nan         nan         nan         nan\n",
      "         nan         nan         nan] \n",
      " Predict CV: [ 0.64877322  1.84769587  5.30832926  2.71836766         nan         nan\n",
      "         nan         nan         nan         nan         nan  6.14767374\n",
      " 11.40447921 14.08618672         nan         nan         nan         nan\n",
      "         nan         nan         nan]\n",
      "\n",
      "ETA:56s/9m\n",
      "∎∎ Start to run # 0 ... Finished !! ∎∎\n",
      "\n",
      "∎∎ Start to run # 1 ... Finished !! ∎∎\n",
      "\n",
      "∎∎ Start to run # 2 ... Finished !! ∎∎\n",
      "\n"
     ]
    },
    {
     "name": "stderr",
     "output_type": "stream",
     "text": [
      " 15%|█▌        | 3/20 [01:20<07:26, 26.26s/it]"
     ]
    },
    {
     "name": "stdout",
     "output_type": "stream",
     "text": [
      "Session name: result\\kb\\kb_ijv_large_to_small\\high\\run_3 \n",
      " Reflectance mean: [2.10880938e-07 1.76318286e-07 1.82664284e-07 1.65272897e-07\n",
      " 0.00000000e+00 0.00000000e+00 0.00000000e+00 0.00000000e+00\n",
      " 0.00000000e+00 0.00000000e+00 0.00000000e+00 1.69751213e-08\n",
      " 6.78328653e-09 6.53456255e-09 0.00000000e+00 0.00000000e+00\n",
      " 0.00000000e+00 0.00000000e+00 0.00000000e+00 0.00000000e+00\n",
      " 0.00000000e+00] \n",
      "CV: [ 5.04423617  3.81300714  8.1090009   3.29029518         nan         nan\n",
      "         nan         nan         nan         nan         nan  7.59458257\n",
      " 35.22567173 22.74968264         nan         nan         nan         nan\n",
      "         nan         nan         nan] \n",
      " Predict CV: [ 2.91229111  2.2014407   4.68173385  1.89965281         nan         nan\n",
      "         nan         nan         nan         nan         nan  4.38473429\n",
      " 20.33755105 13.1345354          nan         nan         nan         nan\n",
      "         nan         nan         nan]\n",
      "\n",
      "ETA:1m/9m\n",
      "∎∎ Start to run # 0 ... Finished !! ∎∎\n",
      "\n",
      "∎∎ Start to run # 1 ... Finished !! ∎∎\n",
      "\n",
      "∎∎ Start to run # 2 ... Finished !! ∎∎\n",
      "\n"
     ]
    },
    {
     "name": "stderr",
     "output_type": "stream",
     "text": [
      " 20%|██        | 4/20 [01:45<06:49, 25.62s/it]"
     ]
    },
    {
     "name": "stdout",
     "output_type": "stream",
     "text": [
      "Session name: result\\kb\\kb_ijv_large_to_small\\high\\run_4 \n",
      " Reflectance mean: [2.16038047e-07 1.84190803e-07 1.81345998e-07 1.74103662e-07\n",
      " 0.00000000e+00 0.00000000e+00 0.00000000e+00 0.00000000e+00\n",
      " 0.00000000e+00 0.00000000e+00 0.00000000e+00 2.09814445e-08\n",
      " 1.04980647e-08 1.17855020e-08 0.00000000e+00 0.00000000e+00\n",
      " 0.00000000e+00 0.00000000e+00 0.00000000e+00 0.00000000e+00\n",
      " 0.00000000e+00] \n",
      "CV: [ 3.84479109  8.58355665  8.10027494  7.74489732         nan         nan\n",
      "         nan         nan         nan         nan         nan 20.04609706\n",
      " 12.12837694 17.85539654         nan         nan         nan         nan\n",
      "         nan         nan         nan] \n",
      " Predict CV: [ 2.21979117  4.95571874  4.67669591  4.47151855         nan         nan\n",
      "         nan         nan         nan         nan         nan 11.57361954\n",
      "  7.00232169 10.308818           nan         nan         nan         nan\n",
      "         nan         nan         nan]\n",
      "\n",
      "ETA:2m/9m\n",
      "∎∎ Start to run # 0 ... Finished !! ∎∎\n",
      "\n",
      "∎∎ Start to run # 1 ... Finished !! ∎∎\n",
      "\n",
      "∎∎ Start to run # 2 ... Finished !! ∎∎\n",
      "\n"
     ]
    },
    {
     "name": "stderr",
     "output_type": "stream",
     "text": [
      " 25%|██▌       | 5/20 [02:09<06:18, 25.23s/it]"
     ]
    },
    {
     "name": "stdout",
     "output_type": "stream",
     "text": [
      "Session name: result\\kb\\kb_ijv_large_to_small\\high\\run_5 \n",
      " Reflectance mean: [2.15696937e-07 2.00664144e-07 1.74321973e-07 1.66655653e-07\n",
      " 0.00000000e+00 0.00000000e+00 0.00000000e+00 0.00000000e+00\n",
      " 0.00000000e+00 0.00000000e+00 0.00000000e+00 1.92794285e-08\n",
      " 8.07589069e-09 1.09763856e-08 0.00000000e+00 0.00000000e+00\n",
      " 0.00000000e+00 0.00000000e+00 0.00000000e+00 0.00000000e+00\n",
      " 0.00000000e+00] \n",
      "CV: [ 4.51180935  5.48360254  0.76398197  0.67522141         nan         nan\n",
      "         nan         nan         nan         nan         nan 12.33699777\n",
      " 10.98961113 12.93028376         nan         nan         nan         nan\n",
      "         nan         nan         nan] \n",
      " Predict CV: [2.60489434 3.1659594  0.4410852  0.38983926        nan        nan\n",
      "        nan        nan        nan        nan        nan 7.12276898\n",
      " 6.34485495 7.46530281        nan        nan        nan        nan\n",
      "        nan        nan        nan]\n",
      "\n",
      "ETA:2m/9m\n",
      "∎∎ Start to run # 0 ... Finished !! ∎∎\n",
      "\n",
      "∎∎ Start to run # 1 ... Finished !! ∎∎\n",
      "\n",
      "∎∎ Start to run # 2 ... Finished !! ∎∎\n",
      "\n"
     ]
    },
    {
     "name": "stderr",
     "output_type": "stream",
     "text": [
      " 30%|███       | 6/20 [02:34<05:50, 25.03s/it]"
     ]
    },
    {
     "name": "stdout",
     "output_type": "stream",
     "text": [
      "Session name: result\\kb\\kb_ijv_large_to_small\\high\\run_6 \n",
      " Reflectance mean: [2.34461367e-07 1.92709957e-07 2.02372918e-07 1.79643860e-07\n",
      " 0.00000000e+00 0.00000000e+00 0.00000000e+00 0.00000000e+00\n",
      " 0.00000000e+00 0.00000000e+00 0.00000000e+00 2.04671643e-08\n",
      " 7.80552587e-09 1.11233311e-08 0.00000000e+00 0.00000000e+00\n",
      " 0.00000000e+00 0.00000000e+00 0.00000000e+00 0.00000000e+00\n",
      " 0.00000000e+00] \n",
      "CV: [ 4.34939417  1.87681174  7.63464475  3.20940151         nan         nan\n",
      "         nan         nan         nan         nan         nan  9.65951239\n",
      " 12.45642582  6.94404114         nan         nan         nan         nan\n",
      "         nan         nan         nan] \n",
      " Predict CV: [2.51112389 1.08357777 4.4078642  1.85294883        nan        nan\n",
      "        nan        nan        nan        nan        nan 5.57692208\n",
      " 7.1917208  4.00914402        nan        nan        nan        nan\n",
      "        nan        nan        nan]\n",
      "\n",
      "ETA:3m/9m\n",
      "∎∎ Start to run # 0 ... Finished !! ∎∎\n",
      "\n",
      "∎∎ Start to run # 1 ... Finished !! ∎∎\n",
      "\n",
      "∎∎ Start to run # 2 ... Finished !! ∎∎\n",
      "\n"
     ]
    },
    {
     "name": "stderr",
     "output_type": "stream",
     "text": [
      " 35%|███▌      | 7/20 [02:59<05:24, 24.99s/it]"
     ]
    },
    {
     "name": "stdout",
     "output_type": "stream",
     "text": [
      "Session name: result\\kb\\kb_ijv_large_to_small\\high\\run_7 \n",
      " Reflectance mean: [2.26544040e-07 2.03479879e-07 1.94608004e-07 1.90134810e-07\n",
      " 0.00000000e+00 0.00000000e+00 0.00000000e+00 0.00000000e+00\n",
      " 0.00000000e+00 0.00000000e+00 0.00000000e+00 1.84879759e-08\n",
      " 9.53858346e-09 1.14204503e-08 0.00000000e+00 0.00000000e+00\n",
      " 0.00000000e+00 0.00000000e+00 0.00000000e+00 0.00000000e+00\n",
      " 0.00000000e+00] \n",
      "CV: [ 7.32256294  4.54941522  2.89727834  9.98583784         nan         nan\n",
      "         nan         nan         nan         nan         nan 17.3593614\n",
      " 10.69502997  5.26078667         nan         nan         nan         nan\n",
      "         nan         nan         nan] \n",
      " Predict CV: [ 4.22768369  2.6266061   1.67274443  5.76532617         nan         nan\n",
      "         nan         nan         nan         nan         nan 10.02243198\n",
      "  6.17477843  3.0373166          nan         nan         nan         nan\n",
      "         nan         nan         nan]\n",
      "\n",
      "ETA:3m/9m\n",
      "∎∎ Start to run # 0 ... Finished !! ∎∎\n",
      "\n",
      "∎∎ Start to run # 1 ... Finished !! ∎∎\n",
      "\n",
      "∎∎ Start to run # 2 ... Finished !! ∎∎\n",
      "\n"
     ]
    },
    {
     "name": "stderr",
     "output_type": "stream",
     "text": [
      " 40%|████      | 8/20 [03:25<05:04, 25.36s/it]"
     ]
    },
    {
     "name": "stdout",
     "output_type": "stream",
     "text": [
      "Session name: result\\kb\\kb_ijv_large_to_small\\high\\run_8 \n",
      " Reflectance mean: [2.38931232e-07 2.30242538e-07 2.15189094e-07 1.80126172e-07\n",
      " 0.00000000e+00 0.00000000e+00 0.00000000e+00 0.00000000e+00\n",
      " 0.00000000e+00 0.00000000e+00 0.00000000e+00 2.53464903e-08\n",
      " 9.87778153e-09 1.31191728e-08 0.00000000e+00 0.00000000e+00\n",
      " 0.00000000e+00 0.00000000e+00 0.00000000e+00 0.00000000e+00\n",
      " 0.00000000e+00] \n",
      "CV: [ 3.0308353   3.26931146  7.73815231  2.78583048         nan         nan\n",
      "         nan         nan         nan         nan         nan  4.2352565\n",
      " 31.99855338 14.19226764         nan         nan         nan         nan\n",
      "         nan         nan         nan] \n",
      " Predict CV: [ 1.74985358  1.88753785  4.46762432  1.60839998         nan         nan\n",
      "         nan         nan         nan         nan         nan  2.44522648\n",
      " 18.47437341  8.19390954         nan         nan         nan         nan\n",
      "         nan         nan         nan]\n",
      "\n",
      "ETA:3m/9m\n",
      "∎∎ Start to run # 0 ... Finished !! ∎∎\n",
      "\n",
      "∎∎ Start to run # 1 ... Finished !! ∎∎\n",
      "\n",
      "∎∎ Start to run # 2 ... Finished !! ∎∎\n",
      "\n"
     ]
    },
    {
     "name": "stderr",
     "output_type": "stream",
     "text": [
      " 45%|████▌     | 9/20 [03:50<04:37, 25.21s/it]"
     ]
    },
    {
     "name": "stdout",
     "output_type": "stream",
     "text": [
      "Session name: result\\kb\\kb_ijv_large_to_small\\high\\run_9 \n",
      " Reflectance mean: [2.46759045e-07 2.02733531e-07 2.08568644e-07 1.82139300e-07\n",
      " 0.00000000e+00 0.00000000e+00 0.00000000e+00 0.00000000e+00\n",
      " 0.00000000e+00 0.00000000e+00 0.00000000e+00 2.19707943e-08\n",
      " 9.05748727e-09 1.05061927e-08 0.00000000e+00 0.00000000e+00\n",
      " 0.00000000e+00 0.00000000e+00 0.00000000e+00 0.00000000e+00\n",
      " 0.00000000e+00] \n",
      "CV: [ 3.21741127  5.16812592  2.83618234  3.19446831         nan         nan\n",
      "         nan         nan         nan         nan         nan  8.34585991\n",
      " 13.65304527 21.12097319         nan         nan         nan         nan\n",
      "         nan         nan         nan] \n",
      " Predict CV: [ 1.85757326  2.98381889  1.63747064  1.84432714         nan         nan\n",
      "         nan         nan         nan         nan         nan  4.81848447\n",
      "  7.88258936 12.19419956         nan         nan         nan         nan\n",
      "         nan         nan         nan]\n",
      "\n",
      "ETA:4m/9m\n",
      "∎∎ Start to run # 0 ... Finished !! ∎∎\n",
      "\n",
      "∎∎ Start to run # 1 ... Finished !! ∎∎\n",
      "\n",
      "∎∎ Start to run # 2 ... Finished !! ∎∎\n",
      "\n"
     ]
    },
    {
     "name": "stderr",
     "output_type": "stream",
     "text": [
      " 50%|█████     | 10/20 [04:15<04:10, 25.05s/it]"
     ]
    },
    {
     "name": "stdout",
     "output_type": "stream",
     "text": [
      "Session name: result\\kb\\kb_ijv_large_to_small\\high\\run_10 \n",
      " Reflectance mean: [2.44626251e-07 2.12526159e-07 2.12343209e-07 1.74556737e-07\n",
      " 0.00000000e+00 0.00000000e+00 0.00000000e+00 0.00000000e+00\n",
      " 0.00000000e+00 0.00000000e+00 0.00000000e+00 2.15769223e-08\n",
      " 1.51772192e-08 1.19632112e-08 0.00000000e+00 0.00000000e+00\n",
      " 0.00000000e+00 0.00000000e+00 0.00000000e+00 0.00000000e+00\n",
      " 0.00000000e+00] \n",
      "CV: [ 5.32339323  4.18398286 10.38765748  3.45096202         nan         nan\n",
      "         nan         nan         nan         nan         nan  6.83497366\n",
      " 13.90105857  5.97325713         nan         nan         nan         nan\n",
      "         nan         nan         nan] \n",
      " Predict CV: [3.07346252 2.41562363 5.99731684 1.99241385        nan        nan\n",
      "        nan        nan        nan        nan        nan 3.94617388\n",
      " 8.02577991 3.44866161        nan        nan        nan        nan\n",
      "        nan        nan        nan]\n",
      "\n",
      "ETA:4m/8m\n",
      "∎∎ Start to run # 0 ... Finished !! ∎∎\n",
      "\n",
      "∎∎ Start to run # 1 ... Finished !! ∎∎\n",
      "\n",
      "∎∎ Start to run # 2 ... Finished !! ∎∎\n",
      "\n"
     ]
    },
    {
     "name": "stderr",
     "output_type": "stream",
     "text": [
      " 55%|█████▌    | 11/20 [04:39<03:44, 24.95s/it]"
     ]
    },
    {
     "name": "stdout",
     "output_type": "stream",
     "text": [
      "Session name: result\\kb\\kb_ijv_large_to_small\\high\\run_11 \n",
      " Reflectance mean: [2.69533174e-07 2.26177816e-07 2.16079905e-07 1.93892819e-07\n",
      " 0.00000000e+00 0.00000000e+00 0.00000000e+00 0.00000000e+00\n",
      " 0.00000000e+00 0.00000000e+00 0.00000000e+00 2.12229009e-08\n",
      " 1.05339303e-08 1.34123598e-08 0.00000000e+00 0.00000000e+00\n",
      " 0.00000000e+00 0.00000000e+00 0.00000000e+00 0.00000000e+00\n",
      " 0.00000000e+00] \n",
      "CV: [ 3.98224871  5.12456883  5.49432357  5.05226653         nan         nan\n",
      "         nan         nan         nan         nan         nan  3.16011665\n",
      " 22.63618177 13.58381131         nan         nan         nan         nan\n",
      "         nan         nan         nan] \n",
      " Predict CV: [ 2.29915237  2.95867119  3.17214919  2.91692744         nan         nan\n",
      "         nan         nan         nan         nan         nan  1.8244942\n",
      " 13.06900564  7.84261712         nan         nan         nan         nan\n",
      "         nan         nan         nan]\n",
      "\n",
      "ETA:5m/8m\n",
      "∎∎ Start to run # 0 ... Finished !! ∎∎\n",
      "\n",
      "∎∎ Start to run # 1 ... Finished !! ∎∎\n",
      "\n",
      "∎∎ Start to run # 2 ... Finished !! ∎∎\n",
      "\n"
     ]
    },
    {
     "name": "stderr",
     "output_type": "stream",
     "text": [
      " 60%|██████    | 12/20 [05:04<03:19, 24.90s/it]"
     ]
    },
    {
     "name": "stdout",
     "output_type": "stream",
     "text": [
      "Session name: result\\kb\\kb_ijv_large_to_small\\high\\run_12 \n",
      " Reflectance mean: [2.51433135e-07 2.18772163e-07 2.04923940e-07 1.94750566e-07\n",
      " 0.00000000e+00 0.00000000e+00 0.00000000e+00 0.00000000e+00\n",
      " 0.00000000e+00 0.00000000e+00 0.00000000e+00 1.90413651e-08\n",
      " 1.03184450e-08 1.07050912e-08 0.00000000e+00 0.00000000e+00\n",
      " 0.00000000e+00 0.00000000e+00 0.00000000e+00 0.00000000e+00\n",
      " 0.00000000e+00] \n",
      "CV: [ 0.30292023  4.28704692 13.55463262  1.60005787         nan         nan\n",
      "         nan         nan         nan         nan         nan  2.53836067\n",
      " 17.74944658 17.18275055         nan         nan         nan         nan\n",
      "         nan         nan         nan] \n",
      " Predict CV: [ 0.17489107  2.47512769  7.82577079  0.92379384         nan         nan\n",
      "         nan         nan         nan         nan         nan  1.46552321\n",
      " 10.24764776  9.92046566         nan         nan         nan         nan\n",
      "         nan         nan         nan]\n",
      "\n",
      "ETA:5m/8m\n",
      "∎∎ Start to run # 0 ... Finished !! ∎∎\n",
      "\n",
      "∎∎ Start to run # 1 ... Finished !! ∎∎\n",
      "\n",
      "∎∎ Start to run # 2 ... Finished !! ∎∎\n",
      "\n"
     ]
    },
    {
     "name": "stderr",
     "output_type": "stream",
     "text": [
      " 65%|██████▌   | 13/20 [05:29<02:53, 24.80s/it]"
     ]
    },
    {
     "name": "stdout",
     "output_type": "stream",
     "text": [
      "Session name: result\\kb\\kb_ijv_large_to_small\\high\\run_13 \n",
      " Reflectance mean: [2.53291523e-07 2.16971549e-07 2.32654754e-07 1.90602594e-07\n",
      " 0.00000000e+00 0.00000000e+00 0.00000000e+00 0.00000000e+00\n",
      " 0.00000000e+00 0.00000000e+00 0.00000000e+00 2.19377256e-08\n",
      " 1.00289879e-08 1.10085526e-08 0.00000000e+00 0.00000000e+00\n",
      " 0.00000000e+00 0.00000000e+00 0.00000000e+00 0.00000000e+00\n",
      " 0.00000000e+00] \n",
      "CV: [ 2.01338595  4.71982285  4.16815092  1.31329292         nan         nan\n",
      "         nan         nan         nan         nan         nan  2.36029452\n",
      " 25.65330737 20.53712379         nan         nan         nan         nan\n",
      "         nan         nan         nan] \n",
      " Predict CV: [ 1.16242892  2.72499099  2.40648305  0.75823002         nan         nan\n",
      "         nan         nan         nan         nan         nan  1.36271667\n",
      " 14.81094392 11.85711395         nan         nan         nan         nan\n",
      "         nan         nan         nan]\n",
      "\n",
      "ETA:5m/8m\n",
      "∎∎ Start to run # 0 ... Finished !! ∎∎\n",
      "\n",
      "∎∎ Start to run # 1 ... Finished !! ∎∎\n",
      "\n",
      "∎∎ Start to run # 2 ... Finished !! ∎∎\n",
      "\n"
     ]
    },
    {
     "name": "stderr",
     "output_type": "stream",
     "text": [
      " 70%|███████   | 14/20 [05:53<02:27, 24.66s/it]"
     ]
    },
    {
     "name": "stdout",
     "output_type": "stream",
     "text": [
      "Session name: result\\kb\\kb_ijv_large_to_small\\high\\run_14 \n",
      " Reflectance mean: [2.84207286e-07 2.28056564e-07 2.22273896e-07 2.17469239e-07\n",
      " 0.00000000e+00 0.00000000e+00 0.00000000e+00 0.00000000e+00\n",
      " 0.00000000e+00 0.00000000e+00 0.00000000e+00 2.21235765e-08\n",
      " 1.37891786e-08 1.56378797e-08 0.00000000e+00 0.00000000e+00\n",
      " 0.00000000e+00 0.00000000e+00 0.00000000e+00 0.00000000e+00\n",
      " 0.00000000e+00] \n",
      "CV: [ 4.23791643  4.72474011  3.31534532  1.63275904         nan         nan\n",
      "         nan         nan         nan         nan         nan 11.95169928\n",
      " 18.68925232  1.18374715         nan         nan         nan         nan\n",
      "         nan         nan         nan] \n",
      " Predict CV: [ 2.44676219  2.72782997  1.91411552  0.94267387         nan         nan\n",
      "         nan         nan         nan         nan         nan  6.9003168\n",
      " 10.79024486  0.68343674         nan         nan         nan         nan\n",
      "         nan         nan         nan]\n",
      "\n",
      "ETA:6m/8m\n",
      "∎∎ Start to run # 0 ... Finished !! ∎∎\n",
      "\n",
      "∎∎ Start to run # 1 ... Finished !! ∎∎\n",
      "\n",
      "∎∎ Start to run # 2 ... Finished !! ∎∎\n",
      "\n"
     ]
    },
    {
     "name": "stderr",
     "output_type": "stream",
     "text": [
      " 75%|███████▌  | 15/20 [06:17<02:02, 24.53s/it]"
     ]
    },
    {
     "name": "stdout",
     "output_type": "stream",
     "text": [
      "Session name: result\\kb\\kb_ijv_large_to_small\\high\\run_15 \n",
      " Reflectance mean: [2.72398179e-07 2.49864603e-07 2.47687348e-07 2.24099578e-07\n",
      " 0.00000000e+00 0.00000000e+00 0.00000000e+00 0.00000000e+00\n",
      " 0.00000000e+00 0.00000000e+00 0.00000000e+00 2.87073114e-08\n",
      " 1.08088512e-08 1.37350115e-08 0.00000000e+00 0.00000000e+00\n",
      " 0.00000000e+00 0.00000000e+00 0.00000000e+00 0.00000000e+00\n",
      " 0.00000000e+00] \n",
      "CV: [ 7.68071471  8.26610219  4.01209003  8.27101966         nan         nan\n",
      "         nan         nan         nan         nan         nan  1.70764873\n",
      " 27.93404037 26.56712269         nan         nan         nan         nan\n",
      "         nan         nan         nan] \n",
      " Predict CV: [ 4.4344627   4.77243632  2.31638126  4.77527542         nan         nan\n",
      "         nan         nan         nan         nan         nan  0.98591145\n",
      " 16.12772573 15.33853544         nan         nan         nan         nan\n",
      "         nan         nan         nan]\n",
      "\n",
      "ETA:6m/8m\n",
      "∎∎ Start to run # 0 ... Finished !! ∎∎\n",
      "\n",
      "∎∎ Start to run # 1 ... Finished !! ∎∎\n",
      "\n",
      "∎∎ Start to run # 2 ... Finished !! ∎∎\n",
      "\n"
     ]
    },
    {
     "name": "stderr",
     "output_type": "stream",
     "text": [
      " 80%|████████  | 16/20 [06:42<01:38, 24.50s/it]"
     ]
    },
    {
     "name": "stdout",
     "output_type": "stream",
     "text": [
      "Session name: result\\kb\\kb_ijv_large_to_small\\high\\run_16 \n",
      " Reflectance mean: [3.02906123e-07 2.49551344e-07 2.58154811e-07 2.25701054e-07\n",
      " 0.00000000e+00 0.00000000e+00 0.00000000e+00 0.00000000e+00\n",
      " 0.00000000e+00 0.00000000e+00 0.00000000e+00 2.43440174e-08\n",
      " 1.42982315e-08 1.59841564e-08 0.00000000e+00 0.00000000e+00\n",
      " 0.00000000e+00 0.00000000e+00 0.00000000e+00 0.00000000e+00\n",
      " 0.00000000e+00] \n",
      "CV: [ 7.33414452  6.84552697  1.63743913  1.24748887         nan         nan\n",
      "         nan         nan         nan         nan         nan  6.13265103\n",
      " 15.35257271 19.63621237         nan         nan         nan         nan\n",
      "         nan         nan         nan] \n",
      " Predict CV: [ 4.23437031  3.95226684  0.94537592  0.72023804         nan         nan\n",
      "         nan         nan         nan         nan         nan  3.54068772\n",
      "  8.86381199 11.3369725          nan         nan         nan         nan\n",
      "         nan         nan         nan]\n",
      "\n",
      "ETA:7m/8m\n",
      "∎∎ Start to run # 0 ... Finished !! ∎∎\n",
      "\n",
      "∎∎ Start to run # 1 ... Finished !! ∎∎\n",
      "\n",
      "∎∎ Start to run # 2 ... Finished !! ∎∎\n",
      "\n"
     ]
    },
    {
     "name": "stderr",
     "output_type": "stream",
     "text": [
      " 85%|████████▌ | 17/20 [07:06<01:13, 24.51s/it]"
     ]
    },
    {
     "name": "stdout",
     "output_type": "stream",
     "text": [
      "Session name: result\\kb\\kb_ijv_large_to_small\\high\\run_17 \n",
      " Reflectance mean: [3.18894154e-07 2.63926825e-07 2.42403719e-07 2.29416381e-07\n",
      " 0.00000000e+00 0.00000000e+00 0.00000000e+00 0.00000000e+00\n",
      " 0.00000000e+00 0.00000000e+00 0.00000000e+00 2.92270659e-08\n",
      " 1.55722568e-08 1.72936378e-08 0.00000000e+00 0.00000000e+00\n",
      " 0.00000000e+00 0.00000000e+00 0.00000000e+00 0.00000000e+00\n",
      " 0.00000000e+00] \n",
      "CV: [ 1.17927051  2.91777074  0.34387293  7.13282331         nan         nan\n",
      "         nan         nan         nan         nan         nan  9.2943163\n",
      " 30.67457473 21.08074157         nan         nan         nan         nan\n",
      "         nan         nan         nan] \n",
      " Predict CV: [ 0.68085215  1.68457572  0.19853513  4.11813746         nan         nan\n",
      "         nan         nan         nan         nan         nan  5.36607602\n",
      " 17.70997398 12.17097182         nan         nan         nan         nan\n",
      "         nan         nan         nan]\n",
      "\n",
      "ETA:7m/8m\n",
      "∎∎ Start to run # 0 ... Finished !! ∎∎\n",
      "\n",
      "∎∎ Start to run # 1 ... Finished !! ∎∎\n",
      "\n",
      "∎∎ Start to run # 2 ... Finished !! ∎∎\n",
      "\n"
     ]
    },
    {
     "name": "stderr",
     "output_type": "stream",
     "text": [
      " 90%|█████████ | 18/20 [07:31<00:49, 24.57s/it]"
     ]
    },
    {
     "name": "stdout",
     "output_type": "stream",
     "text": [
      "Session name: result\\kb\\kb_ijv_large_to_small\\high\\run_18 \n",
      " Reflectance mean: [3.31705810e-07 2.85469332e-07 2.74872257e-07 2.56867063e-07\n",
      " 0.00000000e+00 0.00000000e+00 0.00000000e+00 0.00000000e+00\n",
      " 0.00000000e+00 0.00000000e+00 0.00000000e+00 2.80913654e-08\n",
      " 1.42828347e-08 1.65584639e-08 0.00000000e+00 0.00000000e+00\n",
      " 0.00000000e+00 0.00000000e+00 0.00000000e+00 0.00000000e+00\n",
      " 0.00000000e+00] \n",
      "CV: [ 7.1068512   5.48370586  3.98508456  4.54889209         nan         nan\n",
      "         nan         nan         nan         nan         nan  6.19473098\n",
      "  9.69386712 13.17322779         nan         nan         nan         nan\n",
      "         nan         nan         nan] \n",
      " Predict CV: [4.10314245 3.16601905 2.30078965 2.62630407        nan        nan\n",
      "        nan        nan        nan        nan        nan 3.5765296\n",
      " 5.59675679 7.60556661        nan        nan        nan        nan\n",
      "        nan        nan        nan]\n",
      "\n",
      "ETA:8m/8m\n",
      "∎∎ Start to run # 0 ... Finished !! ∎∎\n",
      "\n",
      "∎∎ Start to run # 1 ... Finished !! ∎∎\n",
      "\n",
      "∎∎ Start to run # 2 ... Finished !! ∎∎\n",
      "\n"
     ]
    },
    {
     "name": "stderr",
     "output_type": "stream",
     "text": [
      " 95%|█████████▌| 19/20 [07:56<00:24, 24.54s/it]"
     ]
    },
    {
     "name": "stdout",
     "output_type": "stream",
     "text": [
      "Session name: result\\kb\\kb_ijv_large_to_small\\high\\run_19 \n",
      " Reflectance mean: [3.48532846e-07 2.72901773e-07 2.76135275e-07 2.78502440e-07\n",
      " 0.00000000e+00 0.00000000e+00 0.00000000e+00 0.00000000e+00\n",
      " 0.00000000e+00 0.00000000e+00 0.00000000e+00 3.05730598e-08\n",
      " 1.30983954e-08 1.48871008e-08 0.00000000e+00 0.00000000e+00\n",
      " 0.00000000e+00 0.00000000e+00 0.00000000e+00 0.00000000e+00\n",
      " 0.00000000e+00] \n",
      "CV: [ 6.59693433  3.89616951  6.67849553  3.89826663         nan         nan\n",
      "         nan         nan         nan         nan         nan  7.80364552\n",
      " 24.03651427 16.54129349         nan         nan         nan         nan\n",
      "         nan         nan         nan] \n",
      " Predict CV: [ 3.80874181  2.24945451  3.85583119  2.25066529         nan         nan\n",
      "         nan         nan         nan         nan         nan  4.50543684\n",
      " 13.87748798  9.55012025         nan         nan         nan         nan\n",
      "         nan         nan         nan]\n",
      "\n",
      "ETA:8m/8m\n",
      "∎∎ Start to run # 0 ... Finished !! ∎∎\n",
      "\n",
      "∎∎ Start to run # 1 ... Finished !! ∎∎\n",
      "\n",
      "∎∎ Start to run # 2 ... Finished !! ∎∎\n",
      "\n"
     ]
    },
    {
     "name": "stderr",
     "output_type": "stream",
     "text": [
      "100%|██████████| 20/20 [08:20<00:00, 25.02s/it]\n"
     ]
    },
    {
     "name": "stdout",
     "output_type": "stream",
     "text": [
      "Session name: result\\kb\\kb_ijv_large_to_small\\high\\run_20 \n",
      " Reflectance mean: [3.58635406e-07 3.16386761e-07 2.94189808e-07 2.75294894e-07\n",
      " 0.00000000e+00 0.00000000e+00 0.00000000e+00 0.00000000e+00\n",
      " 0.00000000e+00 0.00000000e+00 0.00000000e+00 3.54096928e-08\n",
      " 1.92065068e-08 1.92800813e-08 0.00000000e+00 0.00000000e+00\n",
      " 0.00000000e+00 0.00000000e+00 0.00000000e+00 0.00000000e+00\n",
      " 0.00000000e+00] \n",
      "CV: [ 3.75284463  1.00022027  1.89397285  5.59544638         nan         nan\n",
      "         nan         nan         nan         nan         nan 12.54802472\n",
      "  4.19055954 16.17999556         nan         nan         nan         nan\n",
      "         nan         nan         nan] \n",
      " Predict CV: [2.16670586 0.57747744 1.09348573 3.23053247        nan        nan\n",
      "        nan        nan        nan        nan        nan 7.24460545\n",
      " 2.41942068 9.34152479        nan        nan        nan        nan\n",
      "        nan        nan        nan]\n",
      "\n",
      "ETA:8m/8m\n"
     ]
    },
    {
     "name": "stderr",
     "output_type": "stream",
     "text": [
      "  0%|          | 0/20 [00:00<?, ?it/s]"
     ]
    },
    {
     "name": "stdout",
     "output_type": "stream",
     "text": [
      "∎∎ Start to run # 0 ... Finished !! ∎∎\n",
      "\n",
      "∎∎ Start to run # 1 ... Finished !! ∎∎\n",
      "\n",
      "∎∎ Start to run # 2 ... Finished !! ∎∎\n",
      "\n"
     ]
    },
    {
     "name": "stderr",
     "output_type": "stream",
     "text": [
      "  5%|▌         | 1/20 [00:23<07:33, 23.85s/it]"
     ]
    },
    {
     "name": "stdout",
     "output_type": "stream",
     "text": [
      "Session name: result\\kb\\kb_ijv_large_to_small\\medium\\run_1 \n",
      " Reflectance mean: [3.57200659e-07 3.34811729e-07 3.13695791e-07 2.72909708e-07\n",
      " 0.00000000e+00 0.00000000e+00 0.00000000e+00 0.00000000e+00\n",
      " 0.00000000e+00 0.00000000e+00 0.00000000e+00 2.95630334e-08\n",
      " 1.34343205e-08 1.98739751e-08 0.00000000e+00 0.00000000e+00\n",
      " 0.00000000e+00 0.00000000e+00 0.00000000e+00 0.00000000e+00\n",
      " 0.00000000e+00] \n",
      "CV: [ 4.69344304  4.59024222  8.82002916  0.78120848         nan         nan\n",
      "         nan         nan         nan         nan         nan  5.70343115\n",
      " 19.65905155 12.35546593         nan         nan         nan         nan\n",
      "         nan         nan         nan] \n",
      " Predict CV: [ 2.7097606   2.65017758  5.09224621  0.45103093         nan         nan\n",
      "         nan         nan         nan         nan         nan  3.29287751\n",
      " 11.3501587   7.13343158         nan         nan         nan         nan\n",
      "         nan         nan         nan]\n",
      "\n",
      "ETA:23s/8m\n",
      "∎∎ Start to run # 0 ... Finished !! ∎∎\n",
      "\n",
      "∎∎ Start to run # 1 ... Finished !! ∎∎\n",
      "\n",
      "∎∎ Start to run # 2 ... Finished !! ∎∎\n",
      "\n"
     ]
    },
    {
     "name": "stderr",
     "output_type": "stream",
     "text": [
      " 10%|█         | 2/20 [00:47<07:11, 23.95s/it]"
     ]
    },
    {
     "name": "stdout",
     "output_type": "stream",
     "text": [
      "Session name: result\\kb\\kb_ijv_large_to_small\\medium\\run_2 \n",
      " Reflectance mean: [3.76157429e-07 3.39169978e-07 3.14960180e-07 3.07265517e-07\n",
      " 0.00000000e+00 0.00000000e+00 0.00000000e+00 0.00000000e+00\n",
      " 0.00000000e+00 0.00000000e+00 0.00000000e+00 3.18462007e-08\n",
      " 1.57674725e-08 1.76793193e-08 0.00000000e+00 0.00000000e+00\n",
      " 0.00000000e+00 0.00000000e+00 0.00000000e+00 0.00000000e+00\n",
      " 0.00000000e+00] \n",
      "CV: [ 7.16078044  1.61280079  5.9510561   4.95093036         nan         nan\n",
      "         nan         nan         nan         nan         nan  3.69424077\n",
      " 19.02331191 25.7310837          nan         nan         nan         nan\n",
      "         nan         nan         nan] \n",
      " Predict CV: [ 4.13427851  0.93115097  3.43584384  2.85842098         nan         nan\n",
      "         nan         nan         nan         nan         nan  2.1328709\n",
      " 10.98311425 14.8558481          nan         nan         nan         nan\n",
      "         nan         nan         nan]\n",
      "\n",
      "ETA:47s/8m\n",
      "∎∎ Start to run # 0 ... Finished !! ∎∎\n",
      "\n",
      "∎∎ Start to run # 1 ... Finished !! ∎∎\n",
      "\n",
      "∎∎ Start to run # 2 ... Finished !! ∎∎\n",
      "\n"
     ]
    },
    {
     "name": "stderr",
     "output_type": "stream",
     "text": [
      " 15%|█▌        | 3/20 [01:11<06:45, 23.85s/it]"
     ]
    },
    {
     "name": "stdout",
     "output_type": "stream",
     "text": [
      "Session name: result\\kb\\kb_ijv_large_to_small\\medium\\run_3 \n",
      " Reflectance mean: [3.88148680e-07 3.46184637e-07 3.38899065e-07 2.80199530e-07\n",
      " 0.00000000e+00 0.00000000e+00 0.00000000e+00 0.00000000e+00\n",
      " 0.00000000e+00 0.00000000e+00 0.00000000e+00 3.70226584e-08\n",
      " 1.79363083e-08 1.88898146e-08 0.00000000e+00 0.00000000e+00\n",
      " 0.00000000e+00 0.00000000e+00 0.00000000e+00 0.00000000e+00\n",
      " 0.00000000e+00] \n",
      "CV: [ 3.14060421  2.91307432  3.91480756  6.77687334         nan         nan\n",
      "         nan         nan         nan         nan         nan  5.824822\n",
      " 18.25476347  9.91665389         nan         nan         nan         nan\n",
      "         nan         nan         nan] \n",
      " Predict CV: [ 1.81322868  1.68186424  2.2602152   3.91262965         nan         nan\n",
      "         nan         nan         nan         nan         nan  3.36296255\n",
      " 10.5393926   5.72538279         nan         nan         nan         nan\n",
      "         nan         nan         nan]\n",
      "\n",
      "ETA:1m/8m\n",
      "∎∎ Start to run # 0 ... Finished !! ∎∎\n",
      "\n",
      "∎∎ Start to run # 1 ... Finished !! ∎∎\n",
      "\n",
      "∎∎ Start to run # 2 ... Finished !! ∎∎\n",
      "\n"
     ]
    },
    {
     "name": "stderr",
     "output_type": "stream",
     "text": [
      " 20%|██        | 4/20 [01:35<06:20, 23.79s/it]"
     ]
    },
    {
     "name": "stdout",
     "output_type": "stream",
     "text": [
      "Session name: result\\kb\\kb_ijv_large_to_small\\medium\\run_4 \n",
      " Reflectance mean: [3.97410950e-07 3.42922371e-07 3.26432022e-07 3.11300856e-07\n",
      " 0.00000000e+00 0.00000000e+00 0.00000000e+00 0.00000000e+00\n",
      " 0.00000000e+00 0.00000000e+00 0.00000000e+00 2.72118241e-08\n",
      " 1.76178059e-08 1.71510667e-08 0.00000000e+00 0.00000000e+00\n",
      " 0.00000000e+00 0.00000000e+00 0.00000000e+00 0.00000000e+00\n",
      " 0.00000000e+00] \n",
      "CV: [ 1.78690153  5.34724675  2.33962084  7.56736303         nan         nan\n",
      "         nan         nan         nan         nan         nan 11.81798521\n",
      " 12.52642943 11.3357503          nan         nan         nan         nan\n",
      "         nan         nan         nan] \n",
      " Predict CV: [1.03166808 3.08723435 1.35078072 4.36901908        nan        nan\n",
      "        nan        nan        nan        nan        nan 6.82311694\n",
      " 7.2321374  6.54469849        nan        nan        nan        nan\n",
      "        nan        nan        nan]\n",
      "\n",
      "ETA:2m/8m\n",
      "∎∎ Start to run # 0 ... Finished !! ∎∎\n",
      "\n",
      "∎∎ Start to run # 1 ... Finished !! ∎∎\n",
      "\n",
      "∎∎ Start to run # 2 ... Finished !! ∎∎\n",
      "\n"
     ]
    },
    {
     "name": "stderr",
     "output_type": "stream",
     "text": [
      " 25%|██▌       | 5/20 [01:59<05:59, 23.94s/it]"
     ]
    },
    {
     "name": "stdout",
     "output_type": "stream",
     "text": [
      "Session name: result\\kb\\kb_ijv_large_to_small\\medium\\run_5 \n",
      " Reflectance mean: [3.96120596e-07 3.44279189e-07 3.28297630e-07 3.28394863e-07\n",
      " 0.00000000e+00 0.00000000e+00 0.00000000e+00 0.00000000e+00\n",
      " 0.00000000e+00 0.00000000e+00 0.00000000e+00 3.69861313e-08\n",
      " 2.07552563e-08 1.93845950e-08 0.00000000e+00 0.00000000e+00\n",
      " 0.00000000e+00 0.00000000e+00 0.00000000e+00 0.00000000e+00\n",
      " 0.00000000e+00] \n",
      "CV: [ 3.1309601   1.09828016  2.30618228  3.01272159         nan         nan\n",
      "         nan         nan         nan         nan         nan  9.62290445\n",
      " 16.65326722 18.28275169         nan         nan         nan         nan\n",
      "         nan         nan         nan] \n",
      " Predict CV: [ 1.80766065  0.63409234  1.33147496  1.73939562         nan         nan\n",
      "         nan         nan         nan         nan         nan  5.55578647\n",
      "  9.61476831 10.55555161         nan         nan         nan         nan\n",
      "         nan         nan         nan]\n",
      "\n",
      "ETA:2m/8m\n",
      "∎∎ Start to run # 0 ... Finished !! ∎∎\n",
      "\n",
      "∎∎ Start to run # 1 ... Finished !! ∎∎\n",
      "\n",
      "∎∎ Start to run # 2 ... Finished !! ∎∎\n",
      "\n"
     ]
    },
    {
     "name": "stderr",
     "output_type": "stream",
     "text": [
      " 30%|███       | 6/20 [02:23<05:34, 23.87s/it]"
     ]
    },
    {
     "name": "stdout",
     "output_type": "stream",
     "text": [
      "Session name: result\\kb\\kb_ijv_large_to_small\\medium\\run_6 \n",
      " Reflectance mean: [4.16090544e-07 3.67002636e-07 3.53640404e-07 3.43463250e-07\n",
      " 0.00000000e+00 0.00000000e+00 0.00000000e+00 0.00000000e+00\n",
      " 0.00000000e+00 0.00000000e+00 0.00000000e+00 3.91498329e-08\n",
      " 1.54012271e-08 2.43796670e-08 0.00000000e+00 0.00000000e+00\n",
      " 0.00000000e+00 0.00000000e+00 0.00000000e+00 0.00000000e+00\n",
      " 0.00000000e+00] \n",
      "CV: [ 5.1716403   3.47415665  1.70509961  4.68181486         nan         nan\n",
      "         nan         nan         nan         nan         nan  7.16171523\n",
      " 13.78408723 13.74917741         nan         nan         nan         nan\n",
      "         nan         nan         nan] \n",
      " Predict CV: [2.98584792 2.00580528 0.98443972 2.70304707        nan        nan\n",
      "        nan        nan        nan        nan        nan 4.13481822\n",
      " 7.95824647 7.93809128        nan        nan        nan        nan\n",
      "        nan        nan        nan]\n",
      "\n",
      "ETA:2m/8m\n",
      "∎∎ Start to run # 0 ... Finished !! ∎∎\n",
      "\n",
      "∎∎ Start to run # 1 ... Finished !! ∎∎\n",
      "\n",
      "∎∎ Start to run # 2 ... Finished !! ∎∎\n",
      "\n"
     ]
    },
    {
     "name": "stderr",
     "output_type": "stream",
     "text": [
      " 35%|███▌      | 7/20 [02:47<05:10, 23.86s/it]"
     ]
    },
    {
     "name": "stdout",
     "output_type": "stream",
     "text": [
      "Session name: result\\kb\\kb_ijv_large_to_small\\medium\\run_7 \n",
      " Reflectance mean: [4.07408662e-07 3.54048906e-07 3.54580156e-07 3.30158384e-07\n",
      " 0.00000000e+00 0.00000000e+00 0.00000000e+00 0.00000000e+00\n",
      " 0.00000000e+00 0.00000000e+00 0.00000000e+00 3.54344515e-08\n",
      " 1.88695642e-08 2.53092981e-08 0.00000000e+00 0.00000000e+00\n",
      " 0.00000000e+00 0.00000000e+00 0.00000000e+00 0.00000000e+00\n",
      " 0.00000000e+00] \n",
      "CV: [ 4.39141797  4.11348734  1.25025179  8.73472771         nan         nan\n",
      "         nan         nan         nan         nan         nan 24.35962396\n",
      " 32.26274603  9.47378355         nan         nan         nan         nan\n",
      "         nan         nan         nan] \n",
      " Predict CV: [ 2.53538635  2.37492302  0.72183321  5.04299739         nan         nan\n",
      "         nan         nan         nan         nan         nan 14.06403545\n",
      " 18.62690511  5.46969148         nan         nan         nan         nan\n",
      "         nan         nan         nan]\n",
      "\n",
      "ETA:3m/8m\n",
      "∎∎ Start to run # 0 ... Finished !! ∎∎\n",
      "\n",
      "∎∎ Start to run # 1 ... Finished !! ∎∎\n",
      "\n",
      "∎∎ Start to run # 2 ... Finished !! ∎∎\n",
      "\n"
     ]
    },
    {
     "name": "stderr",
     "output_type": "stream",
     "text": [
      " 40%|████      | 8/20 [03:10<04:45, 23.75s/it]"
     ]
    },
    {
     "name": "stdout",
     "output_type": "stream",
     "text": [
      "Session name: result\\kb\\kb_ijv_large_to_small\\medium\\run_8 \n",
      " Reflectance mean: [4.08314961e-07 3.41646132e-07 3.65584177e-07 3.27313252e-07\n",
      " 0.00000000e+00 0.00000000e+00 0.00000000e+00 0.00000000e+00\n",
      " 0.00000000e+00 0.00000000e+00 0.00000000e+00 4.11736092e-08\n",
      " 2.24697694e-08 2.09972287e-08 0.00000000e+00 0.00000000e+00\n",
      " 0.00000000e+00 0.00000000e+00 0.00000000e+00 0.00000000e+00\n",
      " 0.00000000e+00] \n",
      "CV: [ 4.1689049   3.8379712   9.14797848  3.0582688          nan         nan\n",
      "         nan         nan         nan         nan         nan 10.04107143\n",
      " 28.98483574 17.96312418         nan         nan         nan         nan\n",
      "         nan         nan         nan] \n",
      " Predict CV: [ 2.40691836  2.2158537   5.28158784  1.76569232         nan         nan\n",
      "         nan         nan         nan         nan         nan  5.79721529\n",
      " 16.73440272 10.37101458         nan         nan         nan         nan\n",
      "         nan         nan         nan]\n",
      "\n",
      "ETA:3m/8m\n",
      "∎∎ Start to run # 0 ... Finished !! ∎∎\n",
      "\n",
      "∎∎ Start to run # 1 ... Finished !! ∎∎\n",
      "\n",
      "∎∎ Start to run # 2 ... Finished !! ∎∎\n",
      "\n"
     ]
    },
    {
     "name": "stderr",
     "output_type": "stream",
     "text": [
      " 45%|████▌     | 9/20 [03:34<04:20, 23.70s/it]"
     ]
    },
    {
     "name": "stdout",
     "output_type": "stream",
     "text": [
      "Session name: result\\kb\\kb_ijv_large_to_small\\medium\\run_9 \n",
      " Reflectance mean: [4.04813230e-07 3.72828359e-07 3.55135557e-07 3.19306095e-07\n",
      " 0.00000000e+00 0.00000000e+00 0.00000000e+00 0.00000000e+00\n",
      " 0.00000000e+00 0.00000000e+00 0.00000000e+00 4.13507053e-08\n",
      " 1.81259786e-08 2.22751192e-08 0.00000000e+00 0.00000000e+00\n",
      " 0.00000000e+00 0.00000000e+00 0.00000000e+00 0.00000000e+00\n",
      " 0.00000000e+00] \n",
      "CV: [ 8.30780689  4.26574864  2.02266142  4.13990589         nan         nan\n",
      "         nan         nan         nan         nan         nan  6.36876725\n",
      " 16.96287034 10.59090191         nan         nan         nan         nan\n",
      "         nan         nan         nan] \n",
      " Predict CV: [4.79651454 2.46283113 1.16778412 2.39017578        nan        nan\n",
      "        nan        nan        nan        nan        nan 3.67700949\n",
      " 9.79351776 6.11466007        nan        nan        nan        nan\n",
      "        nan        nan        nan]\n",
      "\n",
      "ETA:4m/8m\n",
      "∎∎ Start to run # 0 ... Finished !! ∎∎\n",
      "\n",
      "∎∎ Start to run # 1 ... Finished !! ∎∎\n",
      "\n",
      "∎∎ Start to run # 2 ... Finished !! ∎∎\n",
      "\n"
     ]
    },
    {
     "name": "stderr",
     "output_type": "stream",
     "text": [
      " 50%|█████     | 10/20 [03:57<03:56, 23.64s/it]"
     ]
    },
    {
     "name": "stdout",
     "output_type": "stream",
     "text": [
      "Session name: result\\kb\\kb_ijv_large_to_small\\medium\\run_10 \n",
      " Reflectance mean: [3.98120572e-07 3.46963487e-07 3.53041246e-07 3.41972199e-07\n",
      " 0.00000000e+00 0.00000000e+00 0.00000000e+00 0.00000000e+00\n",
      " 0.00000000e+00 0.00000000e+00 0.00000000e+00 3.75310437e-08\n",
      " 2.32265720e-08 2.15346633e-08 0.00000000e+00 0.00000000e+00\n",
      " 0.00000000e+00 0.00000000e+00 0.00000000e+00 0.00000000e+00\n",
      " 0.00000000e+00] \n",
      "CV: [ 4.22995916  2.94474401  5.26108617  8.00459986         nan         nan\n",
      "         nan         nan         nan         nan         nan  8.49629343\n",
      " 10.36191353  8.33909489         nan         nan         nan         nan\n",
      "         nan         nan         nan] \n",
      " Predict CV: [2.44216806 1.70014875 3.03748952 4.62145789        nan        nan\n",
      "        nan        nan        nan        nan        nan 4.9053373\n",
      " 5.98245356 4.81457868        nan        nan        nan        nan\n",
      "        nan        nan        nan]\n",
      "\n",
      "ETA:4m/8m\n",
      "∎∎ Start to run # 0 ... Finished !! ∎∎\n",
      "\n",
      "∎∎ Start to run # 1 ... Finished !! ∎∎\n",
      "\n",
      "∎∎ Start to run # 2 ... Finished !! ∎∎\n",
      "\n"
     ]
    },
    {
     "name": "stderr",
     "output_type": "stream",
     "text": [
      " 55%|█████▌    | 11/20 [04:21<03:32, 23.60s/it]"
     ]
    },
    {
     "name": "stdout",
     "output_type": "stream",
     "text": [
      "Session name: result\\kb\\kb_ijv_large_to_small\\medium\\run_11 \n",
      " Reflectance mean: [4.40895653e-07 3.66758542e-07 3.57948669e-07 3.22529069e-07\n",
      " 0.00000000e+00 0.00000000e+00 0.00000000e+00 0.00000000e+00\n",
      " 0.00000000e+00 0.00000000e+00 0.00000000e+00 4.29686792e-08\n",
      " 2.53246852e-08 2.26820186e-08 0.00000000e+00 0.00000000e+00\n",
      " 0.00000000e+00 0.00000000e+00 0.00000000e+00 0.00000000e+00\n",
      " 0.00000000e+00] \n",
      "CV: [ 6.80716741  2.18908004  5.07628881  2.04151189         nan         nan\n",
      "         nan         nan         nan         nan         nan  3.44394327\n",
      " 17.820621   12.37757933         nan         nan         nan         nan\n",
      "         nan         nan         nan] \n",
      " Predict CV: [ 3.93011994  1.26386595  2.93079671  1.17866744         nan         nan\n",
      "         nan         nan         nan         nan         nan  1.98836157\n",
      " 10.28874033  7.14619876         nan         nan         nan         nan\n",
      "         nan         nan         nan]\n",
      "\n",
      "ETA:4m/8m\n",
      "∎∎ Start to run # 0 ... Finished !! ∎∎\n",
      "\n",
      "∎∎ Start to run # 1 ... Finished !! ∎∎\n",
      "\n",
      "∎∎ Start to run # 2 ... Finished !! ∎∎\n",
      "\n"
     ]
    },
    {
     "name": "stderr",
     "output_type": "stream",
     "text": [
      " 60%|██████    | 12/20 [04:44<03:08, 23.58s/it]"
     ]
    },
    {
     "name": "stdout",
     "output_type": "stream",
     "text": [
      "Session name: result\\kb\\kb_ijv_large_to_small\\medium\\run_12 \n",
      " Reflectance mean: [4.04048108e-07 3.59443978e-07 3.82241848e-07 3.29071666e-07\n",
      " 0.00000000e+00 0.00000000e+00 0.00000000e+00 0.00000000e+00\n",
      " 0.00000000e+00 0.00000000e+00 0.00000000e+00 3.93664511e-08\n",
      " 2.12144136e-08 2.48171570e-08 0.00000000e+00 0.00000000e+00\n",
      " 0.00000000e+00 0.00000000e+00 0.00000000e+00 0.00000000e+00\n",
      " 0.00000000e+00] \n",
      "CV: [ 5.61117258  4.70016627  7.83196131  4.76017327         nan         nan\n",
      "         nan         nan         nan         nan         nan 11.66869614\n",
      " 10.58062435  7.4837444          nan         nan         nan         nan\n",
      "         nan         nan         nan] \n",
      " Predict CV: [3.239612   2.71364226 4.52178497 2.74828732        nan        nan\n",
      "        nan        nan        nan        nan        nan 6.73692486\n",
      " 6.10872631 4.32074185        nan        nan        nan        nan\n",
      "        nan        nan        nan]\n",
      "\n",
      "ETA:5m/8m\n",
      "∎∎ Start to run # 0 ... Finished !! ∎∎\n",
      "\n",
      "∎∎ Start to run # 1 ... Finished !! ∎∎\n",
      "\n",
      "∎∎ Start to run # 2 ... Finished !! ∎∎\n",
      "\n"
     ]
    },
    {
     "name": "stderr",
     "output_type": "stream",
     "text": [
      " 65%|██████▌   | 13/20 [05:08<02:45, 23.58s/it]"
     ]
    },
    {
     "name": "stdout",
     "output_type": "stream",
     "text": [
      "Session name: result\\kb\\kb_ijv_large_to_small\\medium\\run_13 \n",
      " Reflectance mean: [4.21234708e-07 3.87347007e-07 3.61630522e-07 3.67642441e-07\n",
      " 0.00000000e+00 0.00000000e+00 0.00000000e+00 0.00000000e+00\n",
      " 0.00000000e+00 0.00000000e+00 0.00000000e+00 4.01887100e-08\n",
      " 1.91175473e-08 2.52375607e-08 0.00000000e+00 0.00000000e+00\n",
      " 0.00000000e+00 0.00000000e+00 0.00000000e+00 0.00000000e+00\n",
      " 0.00000000e+00] \n",
      "CV: [ 0.57111124  6.81980657  5.60418019  3.81532804         nan         nan\n",
      "         nan         nan         nan         nan         nan 12.46143342\n",
      " 14.75141601  1.17166358         nan         nan         nan         nan\n",
      "         nan         nan         nan] \n",
      " Predict CV: [0.32973123 3.93741716 3.23557494 2.20278067        nan        nan\n",
      "        nan        nan        nan        nan        nan 7.19461194\n",
      " 8.516734   0.67646028        nan        nan        nan        nan\n",
      "        nan        nan        nan]\n",
      "\n",
      "ETA:5m/8m\n",
      "∎∎ Start to run # 0 ... Finished !! ∎∎\n",
      "\n",
      "∎∎ Start to run # 1 ... Finished !! ∎∎\n",
      "\n",
      "∎∎ Start to run # 2 ... Finished !! ∎∎\n",
      "\n"
     ]
    },
    {
     "name": "stderr",
     "output_type": "stream",
     "text": [
      " 70%|███████   | 14/20 [05:31<02:21, 23.56s/it]"
     ]
    },
    {
     "name": "stdout",
     "output_type": "stream",
     "text": [
      "Session name: result\\kb\\kb_ijv_large_to_small\\medium\\run_14 \n",
      " Reflectance mean: [4.42069999e-07 3.76819774e-07 4.02682230e-07 3.57562469e-07\n",
      " 0.00000000e+00 0.00000000e+00 0.00000000e+00 0.00000000e+00\n",
      " 0.00000000e+00 0.00000000e+00 0.00000000e+00 4.19636785e-08\n",
      " 2.18990917e-08 2.68810257e-08 0.00000000e+00 0.00000000e+00\n",
      " 0.00000000e+00 0.00000000e+00 0.00000000e+00 0.00000000e+00\n",
      " 0.00000000e+00] \n",
      "CV: [ 5.37102129  4.3838764   3.93335372  5.41844167         nan         nan\n",
      "         nan         nan         nan         nan         nan 13.77114889\n",
      "  7.12045772  6.28069033         nan         nan         nan         nan\n",
      "         nan         nan         nan] \n",
      " Predict CV: [3.10096059 2.53103222 2.27092283 3.12833875        nan        nan\n",
      "        nan        nan        nan        nan        nan 7.95077652\n",
      " 4.11099818 3.62615826        nan        nan        nan        nan\n",
      "        nan        nan        nan]\n",
      "\n",
      "ETA:6m/8m\n",
      "∎∎ Start to run # 0 ... Finished !! ∎∎\n",
      "\n",
      "∎∎ Start to run # 1 ... Finished !! ∎∎\n",
      "\n",
      "∎∎ Start to run # 2 ... Finished !! ∎∎\n",
      "\n"
     ]
    },
    {
     "name": "stderr",
     "output_type": "stream",
     "text": [
      " 75%|███████▌  | 15/20 [05:55<01:57, 23.52s/it]"
     ]
    },
    {
     "name": "stdout",
     "output_type": "stream",
     "text": [
      "Session name: result\\kb\\kb_ijv_large_to_small\\medium\\run_15 \n",
      " Reflectance mean: [4.68953542e-07 4.01995984e-07 3.99169240e-07 3.65703809e-07\n",
      " 0.00000000e+00 0.00000000e+00 0.00000000e+00 0.00000000e+00\n",
      " 0.00000000e+00 0.00000000e+00 0.00000000e+00 4.74086486e-08\n",
      " 2.53308825e-08 2.62948861e-08 0.00000000e+00 0.00000000e+00\n",
      " 0.00000000e+00 0.00000000e+00 0.00000000e+00 0.00000000e+00\n",
      " 0.00000000e+00] \n",
      "CV: [ 8.45528721  5.81096458  0.2293425   5.37421704         nan         nan\n",
      "         nan         nan         nan         nan         nan  7.22693232\n",
      " 18.34287359  7.68217967         nan         nan         nan         nan\n",
      "         nan         nan         nan] \n",
      " Predict CV: [ 4.88166235  3.35496197  0.13241096  3.10280565         nan         nan\n",
      "         nan         nan         nan         nan         nan  4.17247132\n",
      " 10.59026301  4.4353085          nan         nan         nan         nan\n",
      "         nan         nan         nan]\n",
      "\n",
      "ETA:6m/8m\n",
      "∎∎ Start to run # 0 ... Finished !! ∎∎\n",
      "\n",
      "∎∎ Start to run # 1 ... Finished !! ∎∎\n",
      "\n",
      "∎∎ Start to run # 2 ... Finished !! ∎∎\n",
      "\n"
     ]
    },
    {
     "name": "stderr",
     "output_type": "stream",
     "text": [
      " 80%|████████  | 16/20 [06:18<01:33, 23.46s/it]"
     ]
    },
    {
     "name": "stdout",
     "output_type": "stream",
     "text": [
      "Session name: result\\kb\\kb_ijv_large_to_small\\medium\\run_16 \n",
      " Reflectance mean: [4.78929319e-07 3.90748472e-07 4.04065164e-07 3.92034393e-07\n",
      " 0.00000000e+00 0.00000000e+00 0.00000000e+00 0.00000000e+00\n",
      " 0.00000000e+00 0.00000000e+00 0.00000000e+00 4.42021972e-08\n",
      " 2.76259563e-08 2.44712731e-08 0.00000000e+00 0.00000000e+00\n",
      " 0.00000000e+00 0.00000000e+00 0.00000000e+00 0.00000000e+00\n",
      " 0.00000000e+00] \n",
      "CV: [ 4.97993526  1.86630178  6.01889776  1.99796354         nan         nan\n",
      "         nan         nan         nan         nan         nan 11.08393073\n",
      "  9.96139947  7.43978311         nan         nan         nan         nan\n",
      "         nan         nan         nan] \n",
      " Predict CV: [2.87516697 1.07750983 3.47501224 1.15352479        nan        nan\n",
      "        nan        nan        nan        nan        nan 6.39931039\n",
      " 5.75121666 4.29536078        nan        nan        nan        nan\n",
      "        nan        nan        nan]\n",
      "\n",
      "ETA:6m/8m\n",
      "∎∎ Start to run # 0 ... Finished !! ∎∎\n",
      "\n",
      "∎∎ Start to run # 1 ... Finished !! ∎∎\n",
      "\n",
      "∎∎ Start to run # 2 ... Finished !! ∎∎\n",
      "\n"
     ]
    },
    {
     "name": "stderr",
     "output_type": "stream",
     "text": [
      " 85%|████████▌ | 17/20 [06:42<01:10, 23.46s/it]"
     ]
    },
    {
     "name": "stdout",
     "output_type": "stream",
     "text": [
      "Session name: result\\kb\\kb_ijv_large_to_small\\medium\\run_17 \n",
      " Reflectance mean: [4.68991535e-07 3.97795269e-07 4.19172424e-07 4.05196046e-07\n",
      " 0.00000000e+00 0.00000000e+00 0.00000000e+00 0.00000000e+00\n",
      " 0.00000000e+00 0.00000000e+00 0.00000000e+00 4.37727371e-08\n",
      " 2.39142243e-08 3.34384916e-08 0.00000000e+00 0.00000000e+00\n",
      " 0.00000000e+00 0.00000000e+00 0.00000000e+00 0.00000000e+00\n",
      " 0.00000000e+00] \n",
      "CV: [ 7.19444864  3.52244613  3.88791903  3.76311002         nan         nan\n",
      "         nan         nan         nan         nan         nan  7.28727684\n",
      " 22.32024473 11.87818285         nan         nan         nan         nan\n",
      "         nan         nan         nan] \n",
      " Predict CV: [ 4.15371686  2.03368522  2.2446911   2.17263258         nan         nan\n",
      "         nan         nan         nan         nan         nan  4.20731125\n",
      " 12.8865993   6.85787207         nan         nan         nan         nan\n",
      "         nan         nan         nan]\n",
      "\n",
      "ETA:7m/8m\n",
      "∎∎ Start to run # 0 ... Finished !! ∎∎\n",
      "\n",
      "∎∎ Start to run # 1 ... Finished !! ∎∎\n",
      "\n",
      "∎∎ Start to run # 2 ... Finished !! ∎∎\n",
      "\n"
     ]
    },
    {
     "name": "stderr",
     "output_type": "stream",
     "text": [
      " 90%|█████████ | 18/20 [07:05<00:46, 23.48s/it]"
     ]
    },
    {
     "name": "stdout",
     "output_type": "stream",
     "text": [
      "Session name: result\\kb\\kb_ijv_large_to_small\\medium\\run_18 \n",
      " Reflectance mean: [4.78381756e-07 4.09966512e-07 4.26677182e-07 3.80108949e-07\n",
      " 0.00000000e+00 0.00000000e+00 0.00000000e+00 0.00000000e+00\n",
      " 0.00000000e+00 0.00000000e+00 0.00000000e+00 4.78280029e-08\n",
      " 2.36273320e-08 2.16146615e-08 0.00000000e+00 0.00000000e+00\n",
      " 0.00000000e+00 0.00000000e+00 0.00000000e+00 0.00000000e+00\n",
      " 0.00000000e+00] \n",
      "CV: [ 1.9680258   6.47088938  3.81027305  6.68040717         nan         nan\n",
      "         nan         nan         nan         nan         nan 13.0080204\n",
      " 10.42926596 10.82753799         nan         nan         nan         nan\n",
      "         nan         nan         nan] \n",
      " Predict CV: [1.13624022 3.73596972 2.19986217 3.85693488        nan        nan\n",
      "        nan        nan        nan        nan        nan 7.51018408\n",
      " 6.02133951 6.25128198        nan        nan        nan        nan\n",
      "        nan        nan        nan]\n",
      "\n",
      "ETA:7m/8m\n",
      "∎∎ Start to run # 0 ... Finished !! ∎∎\n",
      "\n",
      "∎∎ Start to run # 1 ... Finished !! ∎∎\n",
      "\n",
      "∎∎ Start to run # 2 ... Finished !! ∎∎\n",
      "\n"
     ]
    },
    {
     "name": "stderr",
     "output_type": "stream",
     "text": [
      " 95%|█████████▌| 19/20 [07:28<00:23, 23.44s/it]"
     ]
    },
    {
     "name": "stdout",
     "output_type": "stream",
     "text": [
      "Session name: result\\kb\\kb_ijv_large_to_small\\medium\\run_19 \n",
      " Reflectance mean: [5.02358046e-07 4.71395905e-07 4.50910017e-07 4.33966400e-07\n",
      " 0.00000000e+00 0.00000000e+00 0.00000000e+00 0.00000000e+00\n",
      " 0.00000000e+00 0.00000000e+00 0.00000000e+00 5.24560189e-08\n",
      " 2.38986729e-08 2.69794398e-08 0.00000000e+00 0.00000000e+00\n",
      " 0.00000000e+00 0.00000000e+00 0.00000000e+00 0.00000000e+00\n",
      " 0.00000000e+00] \n",
      "CV: [ 3.54021933  5.46542439  4.06423361  2.913609           nan         nan\n",
      "         nan         nan         nan         nan         nan  4.79186051\n",
      "  3.52384565 11.12434867         nan         nan         nan         nan\n",
      "         nan         nan         nan] \n",
      " Predict CV: [2.04394658 3.15546424 2.34648637 1.68217294        nan        nan\n",
      "        nan        nan        nan        nan        nan 2.76658196\n",
      " 2.03449324 6.4226457         nan        nan        nan        nan\n",
      "        nan        nan        nan]\n",
      "\n",
      "ETA:7m/8m\n",
      "∎∎ Start to run # 0 ... Finished !! ∎∎\n",
      "\n",
      "∎∎ Start to run # 1 ... Finished !! ∎∎\n",
      "\n",
      "∎∎ Start to run # 2 ... Finished !! ∎∎\n",
      "\n"
     ]
    },
    {
     "name": "stderr",
     "output_type": "stream",
     "text": [
      "100%|██████████| 20/20 [07:52<00:00, 23.60s/it]\n"
     ]
    },
    {
     "name": "stdout",
     "output_type": "stream",
     "text": [
      "Session name: result\\kb\\kb_ijv_large_to_small\\medium\\run_20 \n",
      " Reflectance mean: [5.13395188e-07 4.49324295e-07 4.65287646e-07 4.40432707e-07\n",
      " 0.00000000e+00 0.00000000e+00 0.00000000e+00 0.00000000e+00\n",
      " 0.00000000e+00 0.00000000e+00 0.00000000e+00 4.74216961e-08\n",
      " 2.52690311e-08 2.96341250e-08 0.00000000e+00 0.00000000e+00\n",
      " 0.00000000e+00 0.00000000e+00 0.00000000e+00 0.00000000e+00\n",
      " 0.00000000e+00] \n",
      "CV: [ 4.05788914  4.65449338  4.61091676  2.58576887         nan         nan\n",
      "         nan         nan         nan         nan         nan  5.91018293\n",
      "  7.05431765 23.12388434         nan         nan         nan         nan\n",
      "         nan         nan         nan] \n",
      " Predict CV: [ 2.34282339  2.68727301  2.66211403  1.49289435         nan         nan\n",
      "         nan         nan         nan         nan         nan  3.4122457\n",
      "  4.07281219 13.35058085         nan         nan         nan         nan\n",
      "         nan         nan         nan]\n",
      "\n",
      "ETA:8m/8m\n"
     ]
    },
    {
     "name": "stderr",
     "output_type": "stream",
     "text": [
      "  0%|          | 0/20 [00:00<?, ?it/s]"
     ]
    },
    {
     "name": "stdout",
     "output_type": "stream",
     "text": [
      "∎∎ Start to run # 0 ... Finished !! ∎∎\n",
      "\n",
      "∎∎ Start to run # 1 ... Finished !! ∎∎\n",
      "\n",
      "∎∎ Start to run # 2 ... Finished !! ∎∎\n",
      "\n"
     ]
    },
    {
     "name": "stderr",
     "output_type": "stream",
     "text": [
      "  5%|▌         | 1/20 [00:22<07:15, 22.90s/it]"
     ]
    },
    {
     "name": "stdout",
     "output_type": "stream",
     "text": [
      "Session name: result\\kb\\kb_ijv_large_to_small\\low\\run_1 \n",
      " Reflectance mean: [6.64568097e-07 5.99877387e-07 5.95484481e-07 5.50702161e-07\n",
      " 0.00000000e+00 0.00000000e+00 0.00000000e+00 0.00000000e+00\n",
      " 0.00000000e+00 0.00000000e+00 0.00000000e+00 6.99405263e-08\n",
      " 3.12020996e-08 3.85617153e-08 0.00000000e+00 0.00000000e+00\n",
      " 0.00000000e+00 0.00000000e+00 0.00000000e+00 0.00000000e+00\n",
      " 0.00000000e+00] \n",
      "CV: [ 1.62022793  1.70299294  3.96000661  1.87942607         nan         nan\n",
      "         nan         nan         nan         nan         nan 10.12746976\n",
      " 14.71651824  8.33888655         nan         nan         nan         nan\n",
      "         nan         nan         nan] \n",
      " Predict CV: [0.93543903 0.98322343 2.28631088 1.08508715        nan        nan\n",
      "        nan        nan        nan        nan        nan 5.84709739\n",
      " 8.49658577 4.8144584         nan        nan        nan        nan\n",
      "        nan        nan        nan]\n",
      "\n",
      "ETA:22s/8m\n",
      "∎∎ Start to run # 0 ... Finished !! ∎∎\n",
      "\n",
      "∎∎ Start to run # 1 ... Finished !! ∎∎\n",
      "\n",
      "∎∎ Start to run # 2 ... Finished !! ∎∎\n",
      "\n"
     ]
    },
    {
     "name": "stderr",
     "output_type": "stream",
     "text": [
      " 10%|█         | 2/20 [00:45<06:52, 22.94s/it]"
     ]
    },
    {
     "name": "stdout",
     "output_type": "stream",
     "text": [
      "Session name: result\\kb\\kb_ijv_large_to_small\\low\\run_2 \n",
      " Reflectance mean: [6.72607180e-07 6.06769067e-07 6.21025708e-07 5.70017337e-07\n",
      " 0.00000000e+00 0.00000000e+00 0.00000000e+00 0.00000000e+00\n",
      " 0.00000000e+00 0.00000000e+00 0.00000000e+00 5.97652055e-08\n",
      " 3.16682487e-08 3.61638196e-08 0.00000000e+00 0.00000000e+00\n",
      " 0.00000000e+00 0.00000000e+00 0.00000000e+00 0.00000000e+00\n",
      " 0.00000000e+00] \n",
      "CV: [2.16345587 0.56804689 2.35153853 1.31567168        nan        nan\n",
      "        nan        nan        nan        nan        nan 7.91846523\n",
      " 9.86092003 8.55020528        nan        nan        nan        nan\n",
      "        nan        nan        nan] \n",
      " Predict CV: [1.24907183 0.32796202 1.3576614  0.7596034         nan        nan\n",
      "        nan        nan        nan        nan        nan 4.57172803\n",
      " 5.69320483 4.93646332        nan        nan        nan        nan\n",
      "        nan        nan        nan]\n",
      "\n",
      "ETA:45s/8m\n",
      "∎∎ Start to run # 0 ... Finished !! ∎∎\n",
      "\n",
      "∎∎ Start to run # 1 ... Finished !! ∎∎\n",
      "\n",
      "∎∎ Start to run # 2 ... Finished !! ∎∎\n",
      "\n"
     ]
    },
    {
     "name": "stderr",
     "output_type": "stream",
     "text": [
      " 15%|█▌        | 3/20 [01:08<06:29, 22.94s/it]"
     ]
    },
    {
     "name": "stdout",
     "output_type": "stream",
     "text": [
      "Session name: result\\kb\\kb_ijv_large_to_small\\low\\run_3 \n",
      " Reflectance mean: [6.87701852e-07 5.98587225e-07 6.06033441e-07 5.76275385e-07\n",
      " 0.00000000e+00 0.00000000e+00 0.00000000e+00 0.00000000e+00\n",
      " 0.00000000e+00 0.00000000e+00 0.00000000e+00 6.59929928e-08\n",
      " 3.60879606e-08 4.40907305e-08 0.00000000e+00 0.00000000e+00\n",
      " 0.00000000e+00 0.00000000e+00 0.00000000e+00 0.00000000e+00\n",
      " 0.00000000e+00] \n",
      "CV: [1.93489486 2.73716627 4.16011993 3.79347054        nan        nan\n",
      "        nan        nan        nan        nan        nan 8.90028769\n",
      " 5.83692442 1.35764878        nan        nan        nan        nan\n",
      "        nan        nan        nan] \n",
      " Predict CV: [1.11711207 1.58030368 2.40184636 2.19016124        nan        nan\n",
      "        nan        nan        nan        nan        nan 5.13858349\n",
      " 3.36994989 0.78383889        nan        nan        nan        nan\n",
      "        nan        nan        nan]\n",
      "\n",
      "ETA:1m/8m\n",
      "∎∎ Start to run # 0 ... Finished !! ∎∎\n",
      "\n",
      "∎∎ Start to run # 1 ... Finished !! ∎∎\n",
      "\n",
      "∎∎ Start to run # 2 ... Finished !! ∎∎\n",
      "\n"
     ]
    },
    {
     "name": "stderr",
     "output_type": "stream",
     "text": [
      " 20%|██        | 4/20 [01:31<06:08, 23.02s/it]"
     ]
    },
    {
     "name": "stdout",
     "output_type": "stream",
     "text": [
      "Session name: result\\kb\\kb_ijv_large_to_small\\low\\run_4 \n",
      " Reflectance mean: [6.99094590e-07 5.94698761e-07 6.04004750e-07 5.57486531e-07\n",
      " 0.00000000e+00 0.00000000e+00 0.00000000e+00 0.00000000e+00\n",
      " 0.00000000e+00 0.00000000e+00 0.00000000e+00 7.50070459e-08\n",
      " 4.01669193e-08 4.39311633e-08 0.00000000e+00 0.00000000e+00\n",
      " 0.00000000e+00 0.00000000e+00 0.00000000e+00 0.00000000e+00\n",
      " 0.00000000e+00] \n",
      "CV: [ 4.31488923  7.2193534   2.49663704  5.50946604         nan         nan\n",
      "         nan         nan         nan         nan         nan  9.69143071\n",
      " 21.8032424  10.8116155          nan         nan         nan         nan\n",
      "         nan         nan         nan] \n",
      " Predict CV: [ 2.49120246  4.16809563  1.44143407  3.1808917          nan         nan\n",
      "         nan         nan         nan         nan         nan  5.59535013\n",
      " 12.58810787  6.24208912         nan         nan         nan         nan\n",
      "         nan         nan         nan]\n",
      "\n",
      "ETA:2m/8m\n",
      "∎∎ Start to run # 0 ... Finished !! ∎∎\n",
      "\n",
      "∎∎ Start to run # 1 ... Finished !! ∎∎\n",
      "\n",
      "∎∎ Start to run # 2 ... Finished !! ∎∎\n",
      "\n"
     ]
    },
    {
     "name": "stderr",
     "output_type": "stream",
     "text": [
      " 25%|██▌       | 5/20 [01:55<05:47, 23.19s/it]"
     ]
    },
    {
     "name": "stdout",
     "output_type": "stream",
     "text": [
      "Session name: result\\kb\\kb_ijv_large_to_small\\low\\run_5 \n",
      " Reflectance mean: [7.04592591e-07 6.13264483e-07 6.28770140e-07 5.70119948e-07\n",
      " 0.00000000e+00 0.00000000e+00 0.00000000e+00 0.00000000e+00\n",
      " 0.00000000e+00 0.00000000e+00 0.00000000e+00 7.26346129e-08\n",
      " 3.68757362e-08 4.12907458e-08 0.00000000e+00 0.00000000e+00\n",
      " 0.00000000e+00 0.00000000e+00 0.00000000e+00 0.00000000e+00\n",
      " 0.00000000e+00] \n",
      "CV: [ 1.69130176  5.69082134  2.9511997   7.27128485         nan         nan\n",
      "         nan         nan         nan         nan         nan 12.56502394\n",
      " 11.10322303  5.63654652         nan         nan         nan         nan\n",
      "         nan         nan         nan] \n",
      " Predict CV: [0.97647353 3.28559723 1.70387594 4.19807827        nan        nan\n",
      "        nan        nan        nan        nan        nan 7.25441995\n",
      " 6.4104488  3.25426165        nan        nan        nan        nan\n",
      "        nan        nan        nan]\n",
      "\n",
      "ETA:2m/8m\n",
      "∎∎ Start to run # 0 ... Finished !! ∎∎\n",
      "\n",
      "∎∎ Start to run # 1 ... Finished !! ∎∎\n",
      "\n",
      "∎∎ Start to run # 2 ... Finished !! ∎∎\n",
      "\n"
     ]
    },
    {
     "name": "stderr",
     "output_type": "stream",
     "text": [
      " 30%|███       | 6/20 [02:18<05:24, 23.18s/it]"
     ]
    },
    {
     "name": "stdout",
     "output_type": "stream",
     "text": [
      "Session name: result\\kb\\kb_ijv_large_to_small\\low\\run_6 \n",
      " Reflectance mean: [7.33355673e-07 6.19792355e-07 6.55388702e-07 6.09586784e-07\n",
      " 0.00000000e+00 0.00000000e+00 0.00000000e+00 0.00000000e+00\n",
      " 0.00000000e+00 0.00000000e+00 0.00000000e+00 7.42869251e-08\n",
      " 4.23988218e-08 3.97510032e-08 0.00000000e+00 0.00000000e+00\n",
      " 0.00000000e+00 0.00000000e+00 0.00000000e+00 0.00000000e+00\n",
      " 0.00000000e+00] \n",
      "CV: [ 5.06024377  2.25955268  2.19039772  2.19047313         nan         nan\n",
      "         nan         nan         nan         nan         nan  5.67152968\n",
      " 15.74923632  2.26228618         nan         nan         nan         nan\n",
      "         nan         nan         nan] \n",
      " Predict CV: [2.9215331  1.30455335 1.26462672 1.26467025        nan        nan\n",
      "        nan        nan        nan        nan        nan 3.27445919\n",
      " 9.09282583 1.30613154        nan        nan        nan        nan\n",
      "        nan        nan        nan]\n",
      "\n",
      "ETA:2m/8m\n",
      "∎∎ Start to run # 0 ... Finished !! ∎∎\n",
      "\n",
      "∎∎ Start to run # 1 ... Finished !! ∎∎\n",
      "\n",
      "∎∎ Start to run # 2 ... Finished !! ∎∎\n",
      "\n"
     ]
    },
    {
     "name": "stderr",
     "output_type": "stream",
     "text": [
      " 35%|███▌      | 7/20 [02:41<05:00, 23.09s/it]"
     ]
    },
    {
     "name": "stdout",
     "output_type": "stream",
     "text": [
      "Session name: result\\kb\\kb_ijv_large_to_small\\low\\run_7 \n",
      " Reflectance mean: [7.01441986e-07 6.40858415e-07 6.19522744e-07 5.97308144e-07\n",
      " 0.00000000e+00 0.00000000e+00 0.00000000e+00 0.00000000e+00\n",
      " 0.00000000e+00 0.00000000e+00 0.00000000e+00 7.31702328e-08\n",
      " 4.06472673e-08 4.42747835e-08 0.00000000e+00 0.00000000e+00\n",
      " 0.00000000e+00 0.00000000e+00 0.00000000e+00 0.00000000e+00\n",
      " 0.00000000e+00] \n",
      "CV: [1.07771379 2.21193808 1.07668871 2.78576468        nan        nan\n",
      "        nan        nan        nan        nan        nan 6.29812006\n",
      " 8.34492219 5.80538068        nan        nan        nan        nan\n",
      "        nan        nan        nan] \n",
      " Predict CV: [0.62221835 1.27706305 0.62162651 1.60836199        nan        nan\n",
      "        nan        nan        nan        nan        nan 3.63622131\n",
      " 4.81794307 3.3517381         nan        nan        nan        nan\n",
      "        nan        nan        nan]\n",
      "\n",
      "ETA:3m/8m\n",
      "∎∎ Start to run # 0 ... Finished !! ∎∎\n",
      "\n",
      "∎∎ Start to run # 1 ... Finished !! ∎∎\n",
      "\n",
      "∎∎ Start to run # 2 ... Finished !! ∎∎\n",
      "\n"
     ]
    },
    {
     "name": "stderr",
     "output_type": "stream",
     "text": [
      " 40%|████      | 8/20 [03:04<04:36, 23.04s/it]"
     ]
    },
    {
     "name": "stdout",
     "output_type": "stream",
     "text": [
      "Session name: result\\kb\\kb_ijv_large_to_small\\low\\run_8 \n",
      " Reflectance mean: [7.21563884e-07 6.47999129e-07 6.47330392e-07 6.27676447e-07\n",
      " 0.00000000e+00 0.00000000e+00 0.00000000e+00 0.00000000e+00\n",
      " 0.00000000e+00 0.00000000e+00 0.00000000e+00 6.43976099e-08\n",
      " 3.66561552e-08 3.95809198e-08 0.00000000e+00 0.00000000e+00\n",
      " 0.00000000e+00 0.00000000e+00 0.00000000e+00 0.00000000e+00\n",
      " 0.00000000e+00] \n",
      "CV: [ 1.54629217  3.18285033  1.9493358   2.07481604         nan         nan\n",
      "         nan         nan         nan         nan         nan  1.33431388\n",
      " 11.12621153  7.83500734         nan         nan         nan         nan\n",
      "         nan         nan         nan] \n",
      " Predict CV: [0.8927522  1.8376195  1.12544955 1.1978956         nan        nan\n",
      "        nan        nan        nan        nan        nan 0.77036648\n",
      " 6.42372122 4.5235436         nan        nan        nan        nan\n",
      "        nan        nan        nan]\n",
      "\n",
      "ETA:3m/8m\n",
      "∎∎ Start to run # 0 ... Finished !! ∎∎\n",
      "\n",
      "∎∎ Start to run # 1 ... Finished !! ∎∎\n",
      "\n",
      "∎∎ Start to run # 2 ... Finished !! ∎∎\n",
      "\n"
     ]
    },
    {
     "name": "stderr",
     "output_type": "stream",
     "text": [
      " 45%|████▌     | 9/20 [03:27<04:12, 22.97s/it]"
     ]
    },
    {
     "name": "stdout",
     "output_type": "stream",
     "text": [
      "Session name: result\\kb\\kb_ijv_large_to_small\\low\\run_9 \n",
      " Reflectance mean: [7.15910141e-07 6.33652040e-07 6.40721802e-07 5.97512113e-07\n",
      " 0.00000000e+00 0.00000000e+00 0.00000000e+00 0.00000000e+00\n",
      " 0.00000000e+00 0.00000000e+00 0.00000000e+00 7.62171702e-08\n",
      " 3.74622493e-08 4.74316875e-08 0.00000000e+00 0.00000000e+00\n",
      " 0.00000000e+00 0.00000000e+00 0.00000000e+00 0.00000000e+00\n",
      " 0.00000000e+00] \n",
      "CV: [ 3.49118152  0.2881157   1.49985753  0.94884892         nan         nan\n",
      "         nan         nan         nan         nan         nan  6.89973418\n",
      "  8.75061572 15.5798363          nan         nan         nan         nan\n",
      "         nan         nan         nan] \n",
      " Predict CV: [2.01563459 0.16634368 0.86594315 0.54781818        nan        nan\n",
      "        nan        nan        nan        nan        nan 3.98356339\n",
      " 5.05217034 8.99502268        nan        nan        nan        nan\n",
      "        nan        nan        nan]\n",
      "\n",
      "ETA:3m/8m\n",
      "∎∎ Start to run # 0 ... Finished !! ∎∎\n",
      "\n",
      "∎∎ Start to run # 1 ... Finished !! ∎∎\n",
      "\n",
      "∎∎ Start to run # 2 ... Finished !! ∎∎\n",
      "\n"
     ]
    },
    {
     "name": "stderr",
     "output_type": "stream",
     "text": [
      " 50%|█████     | 10/20 [03:49<03:48, 22.87s/it]"
     ]
    },
    {
     "name": "stdout",
     "output_type": "stream",
     "text": [
      "Session name: result\\kb\\kb_ijv_large_to_small\\low\\run_10 \n",
      " Reflectance mean: [7.14198538e-07 6.35160229e-07 6.72011598e-07 5.95365363e-07\n",
      " 0.00000000e+00 0.00000000e+00 0.00000000e+00 0.00000000e+00\n",
      " 0.00000000e+00 0.00000000e+00 0.00000000e+00 7.69030473e-08\n",
      " 3.52915461e-08 4.17882957e-08 0.00000000e+00 0.00000000e+00\n",
      " 0.00000000e+00 0.00000000e+00 0.00000000e+00 0.00000000e+00\n",
      " 0.00000000e+00] \n",
      "CV: [ 2.68653746  2.35033146  6.33291282  3.04967198         nan         nan\n",
      "         nan         nan         nan         nan         nan  8.52422888\n",
      " 11.69414046 24.72354803         nan         nan         nan         nan\n",
      "         nan         nan         nan] \n",
      " Predict CV: [ 1.55107313  1.3569645   3.65630892  1.76072894         nan         nan\n",
      "         nan         nan         nan         nan         nan  4.92146584\n",
      "  6.75161514 14.27414711         nan         nan         nan         nan\n",
      "         nan         nan         nan]\n",
      "\n",
      "ETA:4m/8m\n",
      "∎∎ Start to run # 0 ... Finished !! ∎∎\n",
      "\n",
      "∎∎ Start to run # 1 ... Finished !! ∎∎\n",
      "\n",
      "∎∎ Start to run # 2 ... Finished !! ∎∎\n",
      "\n"
     ]
    },
    {
     "name": "stderr",
     "output_type": "stream",
     "text": [
      " 55%|█████▌    | 11/20 [04:13<03:27, 23.04s/it]"
     ]
    },
    {
     "name": "stdout",
     "output_type": "stream",
     "text": [
      "Session name: result\\kb\\kb_ijv_large_to_small\\low\\run_11 \n",
      " Reflectance mean: [7.49362502e-07 6.29891539e-07 6.60656506e-07 5.96762270e-07\n",
      " 0.00000000e+00 0.00000000e+00 0.00000000e+00 0.00000000e+00\n",
      " 0.00000000e+00 0.00000000e+00 0.00000000e+00 7.31007721e-08\n",
      " 4.04408669e-08 4.26410733e-08 0.00000000e+00 0.00000000e+00\n",
      " 0.00000000e+00 0.00000000e+00 0.00000000e+00 0.00000000e+00\n",
      " 0.00000000e+00] \n",
      "CV: [2.44309468 2.39084188 7.03816138 2.65327389        nan        nan\n",
      "        nan        nan        nan        nan        nan 3.99510313\n",
      " 4.23984207 8.04006086        nan        nan        nan        nan\n",
      "        nan        nan        nan] \n",
      " Predict CV: [1.41052137 1.3803532  4.06348437 1.53186839        nan        nan\n",
      "        nan        nan        nan        nan        nan 2.30657387\n",
      " 2.44787396 4.6419313         nan        nan        nan        nan\n",
      "        nan        nan        nan]\n",
      "\n",
      "ETA:4m/8m\n",
      "∎∎ Start to run # 0 ... Finished !! ∎∎\n",
      "\n",
      "∎∎ Start to run # 1 ... Finished !! ∎∎\n",
      "\n",
      "∎∎ Start to run # 2 ... Finished !! ∎∎\n",
      "\n"
     ]
    },
    {
     "name": "stderr",
     "output_type": "stream",
     "text": [
      " 60%|██████    | 12/20 [04:36<03:03, 22.94s/it]"
     ]
    },
    {
     "name": "stdout",
     "output_type": "stream",
     "text": [
      "Session name: result\\kb\\kb_ijv_large_to_small\\low\\run_12 \n",
      " Reflectance mean: [7.27086923e-07 6.27692109e-07 6.56126952e-07 6.18942557e-07\n",
      " 0.00000000e+00 0.00000000e+00 0.00000000e+00 0.00000000e+00\n",
      " 0.00000000e+00 0.00000000e+00 0.00000000e+00 7.46423284e-08\n",
      " 3.79590638e-08 4.81772660e-08 0.00000000e+00 0.00000000e+00\n",
      " 0.00000000e+00 0.00000000e+00 0.00000000e+00 0.00000000e+00\n",
      " 0.00000000e+00] \n",
      "CV: [2.24898407 1.82416822 2.51798921 2.25913998        nan        nan\n",
      "        nan        nan        nan        nan        nan 4.85168738\n",
      " 6.84912958 6.34186667        nan        nan        nan        nan\n",
      "        nan        nan        nan] \n",
      " Predict CV: [1.29845156 1.05318401 1.45376175 1.30431508        nan        nan\n",
      "        nan        nan        nan        nan        nan 2.80112301\n",
      " 3.9543468  3.66147843        nan        nan        nan        nan\n",
      "        nan        nan        nan]\n",
      "\n",
      "ETA:5m/8m\n",
      "∎∎ Start to run # 0 ... Finished !! ∎∎\n",
      "\n",
      "∎∎ Start to run # 1 ... Finished !! ∎∎\n",
      "\n",
      "∎∎ Start to run # 2 ... Finished !! ∎∎\n",
      "\n"
     ]
    },
    {
     "name": "stderr",
     "output_type": "stream",
     "text": [
      " 65%|██████▌   | 13/20 [04:58<02:39, 22.85s/it]"
     ]
    },
    {
     "name": "stdout",
     "output_type": "stream",
     "text": [
      "Session name: result\\kb\\kb_ijv_large_to_small\\low\\run_13 \n",
      " Reflectance mean: [7.54164811e-07 6.40314360e-07 6.70011746e-07 6.28930006e-07\n",
      " 0.00000000e+00 0.00000000e+00 0.00000000e+00 0.00000000e+00\n",
      " 0.00000000e+00 0.00000000e+00 0.00000000e+00 8.03318535e-08\n",
      " 3.54466426e-08 4.56305159e-08 0.00000000e+00 0.00000000e+00\n",
      " 0.00000000e+00 0.00000000e+00 0.00000000e+00 0.00000000e+00\n",
      " 0.00000000e+00] \n",
      "CV: [ 3.17120449  2.23313318  0.65339971  2.15332868         nan         nan\n",
      "         nan         nan         nan         nan         nan  2.22355687\n",
      " 12.51619728 13.02848064         nan         nan         nan         nan\n",
      "         nan         nan         nan] \n",
      " Predict CV: [1.83089577 1.28930004 0.3772405  1.24322489        nan        nan\n",
      "        nan        nan        nan        nan        nan 1.28377116\n",
      " 7.22622987 7.5219968         nan        nan        nan        nan\n",
      "        nan        nan        nan]\n",
      "\n",
      "ETA:5m/8m\n",
      "∎∎ Start to run # 0 ... Finished !! ∎∎\n",
      "\n",
      "∎∎ Start to run # 1 ... Finished !! ∎∎\n",
      "\n",
      "∎∎ Start to run # 2 ... Finished !! ∎∎\n",
      "\n"
     ]
    },
    {
     "name": "stderr",
     "output_type": "stream",
     "text": [
      " 70%|███████   | 14/20 [05:21<02:16, 22.80s/it]"
     ]
    },
    {
     "name": "stdout",
     "output_type": "stream",
     "text": [
      "Session name: result\\kb\\kb_ijv_large_to_small\\low\\run_14 \n",
      " Reflectance mean: [7.19904325e-07 6.75190444e-07 6.58500551e-07 6.12186454e-07\n",
      " 0.00000000e+00 0.00000000e+00 0.00000000e+00 0.00000000e+00\n",
      " 0.00000000e+00 0.00000000e+00 0.00000000e+00 7.11239801e-08\n",
      " 3.85303113e-08 4.54505033e-08 0.00000000e+00 0.00000000e+00\n",
      " 0.00000000e+00 0.00000000e+00 0.00000000e+00 0.00000000e+00\n",
      " 0.00000000e+00] \n",
      "CV: [ 1.19626215  4.02874354  1.7152427   1.70532627         nan         nan\n",
      "         nan         nan         nan         nan         nan  1.34329614\n",
      "  3.6971876  19.16796153         nan         nan         nan         nan\n",
      "         nan         nan         nan] \n",
      " Predict CV: [ 0.69066228  2.32599617  0.99029583  0.98457058         nan         nan\n",
      "         nan         nan         nan         nan         nan  0.77555239\n",
      "  2.13457226 11.06662775         nan         nan         nan         nan\n",
      "         nan         nan         nan]\n",
      "\n",
      "ETA:5m/8m\n",
      "∎∎ Start to run # 0 ... Finished !! ∎∎\n",
      "\n",
      "∎∎ Start to run # 1 ... Finished !! ∎∎\n",
      "\n",
      "∎∎ Start to run # 2 ... Finished !! ∎∎\n",
      "\n"
     ]
    },
    {
     "name": "stderr",
     "output_type": "stream",
     "text": [
      " 75%|███████▌  | 15/20 [05:43<01:53, 22.75s/it]"
     ]
    },
    {
     "name": "stdout",
     "output_type": "stream",
     "text": [
      "Session name: result\\kb\\kb_ijv_large_to_small\\low\\run_15 \n",
      " Reflectance mean: [7.54818906e-07 6.47101224e-07 6.88782424e-07 6.28833630e-07\n",
      " 0.00000000e+00 0.00000000e+00 0.00000000e+00 0.00000000e+00\n",
      " 0.00000000e+00 0.00000000e+00 0.00000000e+00 8.56461131e-08\n",
      " 3.94792348e-08 4.21850657e-08 0.00000000e+00 0.00000000e+00\n",
      " 0.00000000e+00 0.00000000e+00 0.00000000e+00 0.00000000e+00\n",
      " 0.00000000e+00] \n",
      "CV: [ 0.9893445   4.51572508  3.35572137  5.93995949         nan         nan\n",
      "         nan         nan         nan         nan         nan  6.18076274\n",
      "  9.86082472 13.26425031         nan         nan         nan         nan\n",
      "         nan         nan         nan] \n",
      " Predict CV: [0.57119831 2.60715509 1.93742664 3.42943721        nan        nan\n",
      "        nan        nan        nan        nan        nan 3.56846503\n",
      " 5.6931498  7.65811849        nan        nan        nan        nan\n",
      "        nan        nan        nan]\n",
      "\n",
      "ETA:6m/8m\n",
      "∎∎ Start to run # 0 ... Finished !! ∎∎\n",
      "\n",
      "∎∎ Start to run # 1 ... Finished !! ∎∎\n",
      "\n",
      "∎∎ Start to run # 2 ... Finished !! ∎∎\n",
      "\n"
     ]
    },
    {
     "name": "stderr",
     "output_type": "stream",
     "text": [
      " 80%|████████  | 16/20 [06:06<01:31, 22.79s/it]"
     ]
    },
    {
     "name": "stdout",
     "output_type": "stream",
     "text": [
      "Session name: result\\kb\\kb_ijv_large_to_small\\low\\run_16 \n",
      " Reflectance mean: [7.88027119e-07 6.61697998e-07 6.72062327e-07 6.44242023e-07\n",
      " 0.00000000e+00 0.00000000e+00 0.00000000e+00 0.00000000e+00\n",
      " 0.00000000e+00 0.00000000e+00 0.00000000e+00 8.63031598e-08\n",
      " 3.94261084e-08 4.83998730e-08 0.00000000e+00 0.00000000e+00\n",
      " 0.00000000e+00 0.00000000e+00 0.00000000e+00 0.00000000e+00\n",
      " 0.00000000e+00] \n",
      "CV: [ 7.31368768  0.93850247  3.62536953  3.70017329         nan         nan\n",
      "         nan         nan         nan         nan         nan  2.93723386\n",
      " 14.20592983  4.46752319         nan         nan         nan         nan\n",
      "         nan         nan         nan] \n",
      " Predict CV: [4.22255955 0.54184465 2.09310808 2.13629604        nan        nan\n",
      "        nan        nan        nan        nan        nan 1.69581276\n",
      " 8.20179741 2.57932572        nan        nan        nan        nan\n",
      "        nan        nan        nan]\n",
      "\n",
      "ETA:6m/8m\n",
      "∎∎ Start to run # 0 ... Finished !! ∎∎\n",
      "\n",
      "∎∎ Start to run # 1 ... Finished !! ∎∎\n",
      "\n",
      "∎∎ Start to run # 2 ... Finished !! ∎∎\n",
      "\n"
     ]
    },
    {
     "name": "stderr",
     "output_type": "stream",
     "text": [
      " 85%|████████▌ | 17/20 [06:29<01:08, 22.75s/it]"
     ]
    },
    {
     "name": "stdout",
     "output_type": "stream",
     "text": [
      "Session name: result\\kb\\kb_ijv_large_to_small\\low\\run_17 \n",
      " Reflectance mean: [7.64233588e-07 6.70723718e-07 6.62856094e-07 6.11712871e-07\n",
      " 0.00000000e+00 0.00000000e+00 0.00000000e+00 0.00000000e+00\n",
      " 0.00000000e+00 0.00000000e+00 0.00000000e+00 8.07115655e-08\n",
      " 3.94837963e-08 4.57774632e-08 0.00000000e+00 0.00000000e+00\n",
      " 0.00000000e+00 0.00000000e+00 0.00000000e+00 0.00000000e+00\n",
      " 0.00000000e+00] \n",
      "CV: [ 2.65738761  2.13161448  2.76857559  2.41159827         nan         nan\n",
      "         nan         nan         nan         nan         nan  8.27100543\n",
      " 13.18553813  8.62797211         nan         nan         nan         nan\n",
      "         nan         nan         nan] \n",
      " Predict CV: [1.53424345 1.23068819 1.59843786 1.39233691        nan        nan\n",
      "        nan        nan        nan        nan        nan 4.77526721\n",
      " 7.61267399 4.98136202        nan        nan        nan        nan\n",
      "        nan        nan        nan]\n",
      "\n",
      "ETA:6m/8m\n",
      "∎∎ Start to run # 0 ... Finished !! ∎∎\n",
      "\n",
      "∎∎ Start to run # 1 ... Finished !! ∎∎\n",
      "\n",
      "∎∎ Start to run # 2 ... Finished !! ∎∎\n",
      "\n"
     ]
    },
    {
     "name": "stderr",
     "output_type": "stream",
     "text": [
      " 90%|█████████ | 18/20 [06:52<00:45, 22.74s/it]"
     ]
    },
    {
     "name": "stdout",
     "output_type": "stream",
     "text": [
      "Session name: result\\kb\\kb_ijv_large_to_small\\low\\run_18 \n",
      " Reflectance mean: [7.52760060e-07 6.97711346e-07 7.02048137e-07 6.61176189e-07\n",
      " 0.00000000e+00 0.00000000e+00 0.00000000e+00 0.00000000e+00\n",
      " 0.00000000e+00 0.00000000e+00 0.00000000e+00 9.13301902e-08\n",
      " 4.49596723e-08 5.11235995e-08 0.00000000e+00 0.00000000e+00\n",
      " 0.00000000e+00 0.00000000e+00 0.00000000e+00 0.00000000e+00\n",
      " 0.00000000e+00] \n",
      "CV: [2.79910189 5.07822431 5.37345491 2.76889638        nan        nan\n",
      "        nan        nan        nan        nan        nan 8.85348376\n",
      " 8.20108867 6.9390171         nan        nan        nan        nan\n",
      "        nan        nan        nan] \n",
      " Predict CV: [1.61606223 2.93191417 3.10236564 1.59862307        nan        nan\n",
      "        nan        nan        nan        nan        nan 5.11156123\n",
      " 4.73490075 4.00624339        nan        nan        nan        nan\n",
      "        nan        nan        nan]\n",
      "\n",
      "ETA:7m/8m\n",
      "∎∎ Start to run # 0 ... Finished !! ∎∎\n",
      "\n",
      "∎∎ Start to run # 1 ... Finished !! ∎∎\n",
      "\n",
      "∎∎ Start to run # 2 ... Finished !! ∎∎\n",
      "\n"
     ]
    },
    {
     "name": "stderr",
     "output_type": "stream",
     "text": [
      " 95%|█████████▌| 19/20 [07:14<00:22, 22.69s/it]"
     ]
    },
    {
     "name": "stdout",
     "output_type": "stream",
     "text": [
      "Session name: result\\kb\\kb_ijv_large_to_small\\low\\run_19 \n",
      " Reflectance mean: [8.05815448e-07 7.01037848e-07 7.02007145e-07 6.85826975e-07\n",
      " 0.00000000e+00 0.00000000e+00 0.00000000e+00 0.00000000e+00\n",
      " 0.00000000e+00 0.00000000e+00 0.00000000e+00 8.72095157e-08\n",
      " 3.76908250e-08 5.20172983e-08 0.00000000e+00 0.00000000e+00\n",
      " 0.00000000e+00 0.00000000e+00 0.00000000e+00 0.00000000e+00\n",
      " 0.00000000e+00] \n",
      "CV: [ 1.84306857  3.77517915  4.30816237  1.08044216         nan         nan\n",
      "         nan         nan         nan         nan         nan 11.25050028\n",
      "  9.16901639  3.04348085         nan         nan         nan         nan\n",
      "         nan         nan         nan] \n",
      " Predict CV: [1.06409613 2.1796007  2.4873187  0.62379357        nan        nan\n",
      "        nan        nan        nan        nan        nan 6.49547937\n",
      " 5.29373408 1.75715449        nan        nan        nan        nan\n",
      "        nan        nan        nan]\n",
      "\n",
      "ETA:7m/8m\n",
      "∎∎ Start to run # 0 ... Finished !! ∎∎\n",
      "\n",
      "∎∎ Start to run # 1 ... Finished !! ∎∎\n",
      "\n",
      "∎∎ Start to run # 2 ... Finished !! ∎∎\n",
      "\n"
     ]
    },
    {
     "name": "stderr",
     "output_type": "stream",
     "text": [
      "100%|██████████| 20/20 [07:37<00:00, 22.86s/it]\n"
     ]
    },
    {
     "name": "stdout",
     "output_type": "stream",
     "text": [
      "Session name: result\\kb\\kb_ijv_large_to_small\\low\\run_20 \n",
      " Reflectance mean: [8.42549384e-07 7.19213081e-07 7.14875919e-07 6.81141837e-07\n",
      " 0.00000000e+00 0.00000000e+00 0.00000000e+00 0.00000000e+00\n",
      " 0.00000000e+00 0.00000000e+00 0.00000000e+00 8.82360488e-08\n",
      " 5.22252035e-08 5.38433421e-08 0.00000000e+00 0.00000000e+00\n",
      " 0.00000000e+00 0.00000000e+00 0.00000000e+00 0.00000000e+00\n",
      " 0.00000000e+00] \n",
      "CV: [2.20194551 1.89451184 1.86287871 0.80596677        nan        nan\n",
      "        nan        nan        nan        nan        nan 3.48294389\n",
      " 3.64032338 3.98782143        nan        nan        nan        nan\n",
      "        nan        nan        nan] \n",
      " Predict CV: [1.27129383 1.09379692 1.07553353 0.46532513        nan        nan\n",
      "        nan        nan        nan        nan        nan 2.01087859\n",
      " 2.10174168 2.30236978        nan        nan        nan        nan\n",
      "        nan        nan        nan]\n",
      "\n",
      "ETA:8m/8m\n"
     ]
    },
    {
     "name": "stderr",
     "output_type": "stream",
     "text": [
      "  0%|          | 0/20 [00:00<?, ?it/s]"
     ]
    },
    {
     "name": "stdout",
     "output_type": "stream",
     "text": [
      "∎∎ Start to run # 0 ... Finished !! ∎∎\n",
      "\n",
      "∎∎ Start to run # 1 ... Finished !! ∎∎\n",
      "\n",
      "∎∎ Start to run # 2 ... Finished !! ∎∎\n",
      "\n"
     ]
    },
    {
     "name": "stderr",
     "output_type": "stream",
     "text": [
      "  5%|▌         | 1/20 [00:24<07:45, 24.49s/it]"
     ]
    },
    {
     "name": "stdout",
     "output_type": "stream",
     "text": [
      "Session name: result\\kb\\kb_ijv_small_to_large\\high\\run_1 \n",
      " Reflectance mean: [1.98736119e-07 1.58731740e-07 1.64788812e-07 1.38031816e-07\n",
      " 0.00000000e+00 0.00000000e+00 0.00000000e+00 0.00000000e+00\n",
      " 0.00000000e+00 0.00000000e+00 0.00000000e+00 1.57945769e-08\n",
      " 7.98936796e-09 9.50847780e-09 0.00000000e+00 0.00000000e+00\n",
      " 0.00000000e+00 0.00000000e+00 0.00000000e+00 0.00000000e+00\n",
      " 0.00000000e+00] \n",
      "CV: [ 5.0813652   8.60387304  3.13035247  3.1740906          nan         nan\n",
      "         nan         nan         nan         nan         nan  4.43836259\n",
      " 22.52978661  6.34169511         nan         nan         nan         nan\n",
      "         nan         nan         nan] \n",
      " Predict CV: [ 2.93372757  4.96744842  1.80730984  1.83256206         nan         nan\n",
      "         nan         nan         nan         nan         nan  2.56248983\n",
      " 13.00757836  3.66137938         nan         nan         nan         nan\n",
      "         nan         nan         nan]\n",
      "\n",
      "ETA:24s/8m\n",
      "∎∎ Start to run # 0 ... Finished !! ∎∎\n",
      "\n",
      "∎∎ Start to run # 1 ... Finished !! ∎∎\n",
      "\n",
      "∎∎ Start to run # 2 ... Finished !! ∎∎\n",
      "\n"
     ]
    },
    {
     "name": "stderr",
     "output_type": "stream",
     "text": [
      " 10%|█         | 2/20 [00:48<07:19, 24.42s/it]"
     ]
    },
    {
     "name": "stdout",
     "output_type": "stream",
     "text": [
      "Session name: result\\kb\\kb_ijv_small_to_large\\high\\run_2 \n",
      " Reflectance mean: [2.14557329e-07 1.71325324e-07 1.82673666e-07 1.64247705e-07\n",
      " 0.00000000e+00 0.00000000e+00 0.00000000e+00 0.00000000e+00\n",
      " 0.00000000e+00 0.00000000e+00 0.00000000e+00 1.77343223e-08\n",
      " 1.06562705e-08 9.05193813e-09 0.00000000e+00 0.00000000e+00\n",
      " 0.00000000e+00 0.00000000e+00 0.00000000e+00 0.00000000e+00\n",
      " 0.00000000e+00] \n",
      "CV: [ 5.84958652  1.30873955  2.38468595  4.91177856         nan         nan\n",
      "         nan         nan         nan         nan         nan 16.44919701\n",
      "  3.98661059 21.5474909          nan         nan         nan         nan\n",
      "         nan         nan         nan] \n",
      " Predict CV: [ 3.37726035  0.75560113  1.37679908  2.83581667         nan         nan\n",
      "         nan         nan         nan         nan         nan  9.49694832\n",
      "  2.30167069 12.44044967         nan         nan         nan         nan\n",
      "         nan         nan         nan]\n",
      "\n",
      "ETA:48s/8m\n",
      "∎∎ Start to run # 0 ... Finished !! ∎∎\n",
      "\n",
      "∎∎ Start to run # 1 ... Finished !! ∎∎\n",
      "\n",
      "∎∎ Start to run # 2 ... Finished !! ∎∎\n",
      "\n"
     ]
    },
    {
     "name": "stderr",
     "output_type": "stream",
     "text": [
      " 15%|█▌        | 3/20 [01:13<06:54, 24.40s/it]"
     ]
    },
    {
     "name": "stdout",
     "output_type": "stream",
     "text": [
      "Session name: result\\kb\\kb_ijv_small_to_large\\high\\run_3 \n",
      " Reflectance mean: [2.02004829e-07 1.72287803e-07 1.64119262e-07 1.61622556e-07\n",
      " 0.00000000e+00 0.00000000e+00 0.00000000e+00 0.00000000e+00\n",
      " 0.00000000e+00 0.00000000e+00 0.00000000e+00 1.99388926e-08\n",
      " 8.24681278e-09 1.08487996e-08 0.00000000e+00 0.00000000e+00\n",
      " 0.00000000e+00 0.00000000e+00 0.00000000e+00 0.00000000e+00\n",
      " 0.00000000e+00] \n",
      "CV: [ 6.68564709  5.50406849  7.85995065  4.1706453          nan         nan\n",
      "         nan         nan         nan         nan         nan  6.59430175\n",
      " 26.7064398  11.61468479         nan         nan         nan         nan\n",
      "         nan         nan         nan] \n",
      " Predict CV: [ 3.85996015  3.17777542  4.53794462  2.40792319         nan         nan\n",
      "         nan         nan         nan         nan         nan  3.80722189\n",
      " 15.41897021  6.70574139         nan         nan         nan         nan\n",
      "         nan         nan         nan]\n",
      "\n",
      "ETA:1m/8m\n",
      "∎∎ Start to run # 0 ... Finished !! ∎∎\n",
      "\n",
      "∎∎ Start to run # 1 ... Finished !! ∎∎\n",
      "\n",
      "∎∎ Start to run # 2 ... Finished !! ∎∎\n",
      "\n"
     ]
    },
    {
     "name": "stderr",
     "output_type": "stream",
     "text": [
      " 20%|██        | 4/20 [01:37<06:30, 24.38s/it]"
     ]
    },
    {
     "name": "stdout",
     "output_type": "stream",
     "text": [
      "Session name: result\\kb\\kb_ijv_small_to_large\\high\\run_4 \n",
      " Reflectance mean: [2.19131827e-07 1.89327003e-07 1.92807701e-07 1.70738302e-07\n",
      " 0.00000000e+00 0.00000000e+00 0.00000000e+00 0.00000000e+00\n",
      " 0.00000000e+00 0.00000000e+00 0.00000000e+00 1.78951958e-08\n",
      " 1.05180968e-08 1.04901187e-08 0.00000000e+00 0.00000000e+00\n",
      " 0.00000000e+00 0.00000000e+00 0.00000000e+00 0.00000000e+00\n",
      " 0.00000000e+00] \n",
      "CV: [ 2.94449362  0.49852022  6.38671244  4.09917002         nan         nan\n",
      "         nan         nan         nan         nan         nan  4.38260513\n",
      " 26.19622553  5.10294299         nan         nan         nan         nan\n",
      "         nan         nan         nan] \n",
      " Predict CV: [ 1.70000418  0.28782078  3.68737015  2.36665692         nan         nan\n",
      "         nan         nan         nan         nan         nan  2.53029825\n",
      " 15.12439786  2.94618551         nan         nan         nan         nan\n",
      "         nan         nan         nan]\n",
      "\n",
      "ETA:2m/8m\n",
      "∎∎ Start to run # 0 ... Finished !! ∎∎\n",
      "\n",
      "∎∎ Start to run # 1 ... Finished !! ∎∎\n",
      "\n",
      "∎∎ Start to run # 2 ... Finished !! ∎∎\n",
      "\n"
     ]
    },
    {
     "name": "stderr",
     "output_type": "stream",
     "text": [
      " 25%|██▌       | 5/20 [02:01<06:04, 24.29s/it]"
     ]
    },
    {
     "name": "stdout",
     "output_type": "stream",
     "text": [
      "Session name: result\\kb\\kb_ijv_small_to_large\\high\\run_5 \n",
      " Reflectance mean: [2.23770019e-07 1.95986286e-07 1.89130798e-07 1.87627590e-07\n",
      " 0.00000000e+00 0.00000000e+00 0.00000000e+00 0.00000000e+00\n",
      " 0.00000000e+00 0.00000000e+00 0.00000000e+00 1.89904885e-08\n",
      " 9.74477889e-09 1.07259279e-08 0.00000000e+00 0.00000000e+00\n",
      " 0.00000000e+00 0.00000000e+00 0.00000000e+00 0.00000000e+00\n",
      " 0.00000000e+00] \n",
      "CV: [ 4.12668486  3.59548506  2.21179207  1.83773168         nan         nan\n",
      "         nan         nan         nan         nan         nan 19.87794536\n",
      " 25.69412539 19.52893089         nan         nan         nan         nan\n",
      "         nan         nan         nan] \n",
      " Predict CV: [ 2.38254261  2.07585427  1.27697875  1.06101488         nan         nan\n",
      "         nan         nan         nan         nan         nan 11.4765371\n",
      " 14.83451021 11.27503351         nan         nan         nan         nan\n",
      "         nan         nan         nan]\n",
      "\n",
      "ETA:2m/8m\n",
      "∎∎ Start to run # 0 ... Finished !! ∎∎\n",
      "\n",
      "∎∎ Start to run # 1 ... Finished !! ∎∎\n",
      "\n",
      "∎∎ Start to run # 2 ... Finished !! ∎∎\n",
      "\n"
     ]
    },
    {
     "name": "stderr",
     "output_type": "stream",
     "text": [
      " 30%|███       | 6/20 [02:25<05:39, 24.22s/it]"
     ]
    },
    {
     "name": "stdout",
     "output_type": "stream",
     "text": [
      "Session name: result\\kb\\kb_ijv_small_to_large\\high\\run_6 \n",
      " Reflectance mean: [2.33157462e-07 1.96153259e-07 1.76259203e-07 1.81539866e-07\n",
      " 0.00000000e+00 0.00000000e+00 0.00000000e+00 0.00000000e+00\n",
      " 0.00000000e+00 0.00000000e+00 0.00000000e+00 2.13968710e-08\n",
      " 9.58607869e-09 1.14596319e-08 0.00000000e+00 0.00000000e+00\n",
      " 0.00000000e+00 0.00000000e+00 0.00000000e+00 0.00000000e+00\n",
      " 0.00000000e+00] \n",
      "CV: [ 3.53344173  4.26018714  3.5911496   9.65228446         nan         nan\n",
      "         nan         nan         nan         nan         nan 12.91359999\n",
      " 18.9093313  31.30402418         nan         nan         nan         nan\n",
      "         nan         nan         nan] \n",
      " Predict CV: [ 2.04003354  2.45962019  2.07335119  5.57274903         nan         nan\n",
      "         nan         nan         nan         nan         nan  7.45567043\n",
      " 10.91730752 18.07338679         nan         nan         nan         nan\n",
      "         nan         nan         nan]\n",
      "\n",
      "ETA:2m/8m\n",
      "∎∎ Start to run # 0 ... Finished !! ∎∎\n",
      "\n",
      "∎∎ Start to run # 1 ... Finished !! ∎∎\n",
      "\n",
      "∎∎ Start to run # 2 ... Finished !! ∎∎\n",
      "\n"
     ]
    },
    {
     "name": "stderr",
     "output_type": "stream",
     "text": [
      " 35%|███▌      | 7/20 [02:49<05:14, 24.19s/it]"
     ]
    },
    {
     "name": "stdout",
     "output_type": "stream",
     "text": [
      "Session name: result\\kb\\kb_ijv_small_to_large\\high\\run_7 \n",
      " Reflectance mean: [2.38414461e-07 2.03785097e-07 1.98969230e-07 1.97536967e-07\n",
      " 0.00000000e+00 0.00000000e+00 0.00000000e+00 0.00000000e+00\n",
      " 0.00000000e+00 0.00000000e+00 0.00000000e+00 1.90845084e-08\n",
      " 9.74304551e-09 1.24681777e-08 0.00000000e+00 0.00000000e+00\n",
      " 0.00000000e+00 0.00000000e+00 0.00000000e+00 0.00000000e+00\n",
      " 0.00000000e+00] \n",
      "CV: [2.40089148 4.47458744 5.39795198 9.00976721        nan        nan\n",
      "        nan        nan        nan        nan        nan 2.97939197\n",
      " 0.75641809 8.56510567        nan        nan        nan        nan\n",
      "        nan        nan        nan] \n",
      " Predict CV: [1.38615534 2.58340426 3.11650903 5.20179152        nan        nan\n",
      "        nan        nan        nan        nan        nan 1.72015276\n",
      " 0.43671819 4.94506607        nan        nan        nan        nan\n",
      "        nan        nan        nan]\n",
      "\n",
      "ETA:3m/8m\n",
      "∎∎ Start to run # 0 ... Finished !! ∎∎\n",
      "\n",
      "∎∎ Start to run # 1 ... Finished !! ∎∎\n",
      "\n",
      "∎∎ Start to run # 2 ... Finished !! ∎∎\n",
      "\n"
     ]
    },
    {
     "name": "stderr",
     "output_type": "stream",
     "text": [
      " 40%|████      | 8/20 [03:14<04:51, 24.33s/it]"
     ]
    },
    {
     "name": "stdout",
     "output_type": "stream",
     "text": [
      "Session name: result\\kb\\kb_ijv_small_to_large\\high\\run_8 \n",
      " Reflectance mean: [2.55853893e-07 2.00285534e-07 1.99844054e-07 1.78317304e-07\n",
      " 0.00000000e+00 0.00000000e+00 0.00000000e+00 0.00000000e+00\n",
      " 0.00000000e+00 0.00000000e+00 0.00000000e+00 2.43793175e-08\n",
      " 1.03091170e-08 1.22491428e-08 0.00000000e+00 0.00000000e+00\n",
      " 0.00000000e+00 0.00000000e+00 0.00000000e+00 0.00000000e+00\n",
      " 0.00000000e+00] \n",
      "CV: [ 1.96969051  7.67675358  4.59424093  1.83081484         nan         nan\n",
      "         nan         nan         nan         nan         nan 20.6907492\n",
      " 23.72060093 32.14340544         nan         nan         nan         nan\n",
      "         nan         nan         nan] \n",
      " Predict CV: [ 1.13720135  4.43217574  2.65248623  1.05702144         nan         nan\n",
      "         nan         nan         nan         nan         nan 11.94580962\n",
      " 13.69509533 18.55800378         nan         nan         nan         nan\n",
      "         nan         nan         nan]\n",
      "\n",
      "ETA:3m/8m\n",
      "∎∎ Start to run # 0 ... Finished !! ∎∎\n",
      "\n",
      "∎∎ Start to run # 1 ... Finished !! ∎∎\n",
      "\n",
      "∎∎ Start to run # 2 ... Finished !! ∎∎\n",
      "\n"
     ]
    },
    {
     "name": "stderr",
     "output_type": "stream",
     "text": [
      " 45%|████▌     | 9/20 [03:38<04:26, 24.21s/it]"
     ]
    },
    {
     "name": "stdout",
     "output_type": "stream",
     "text": [
      "Session name: result\\kb\\kb_ijv_small_to_large\\high\\run_9 \n",
      " Reflectance mean: [2.45480447e-07 2.06341072e-07 2.17736104e-07 1.72583391e-07\n",
      " 0.00000000e+00 0.00000000e+00 0.00000000e+00 0.00000000e+00\n",
      " 0.00000000e+00 0.00000000e+00 0.00000000e+00 2.32506013e-08\n",
      " 1.09745878e-08 8.37844039e-09 0.00000000e+00 0.00000000e+00\n",
      " 0.00000000e+00 0.00000000e+00 0.00000000e+00 0.00000000e+00\n",
      " 0.00000000e+00] \n",
      "CV: [ 4.70502222 10.4251028   2.65274103  5.48222872         nan         nan\n",
      "         nan         nan         nan         nan         nan  9.2077943\n",
      " 13.00131724 24.24898879         nan         nan         nan         nan\n",
      "         nan         nan         nan] \n",
      " Predict CV: [ 2.71644585  6.01893591  1.53156075  3.16516623         nan         nan\n",
      "         nan         nan         nan         nan         nan  5.31612252\n",
      "  7.50631401 14.0001602          nan         nan         nan         nan\n",
      "         nan         nan         nan]\n",
      "\n",
      "ETA:4m/8m\n",
      "∎∎ Start to run # 0 ... Finished !! ∎∎\n",
      "\n",
      "∎∎ Start to run # 1 ... Finished !! ∎∎\n",
      "\n",
      "∎∎ Start to run # 2 ... Finished !! ∎∎\n",
      "\n"
     ]
    },
    {
     "name": "stderr",
     "output_type": "stream",
     "text": [
      " 50%|█████     | 10/20 [04:02<04:01, 24.11s/it]"
     ]
    },
    {
     "name": "stdout",
     "output_type": "stream",
     "text": [
      "Session name: result\\kb\\kb_ijv_small_to_large\\high\\run_10 \n",
      " Reflectance mean: [2.37383758e-07 2.21003431e-07 2.15483298e-07 1.94957374e-07\n",
      " 0.00000000e+00 0.00000000e+00 0.00000000e+00 0.00000000e+00\n",
      " 0.00000000e+00 0.00000000e+00 0.00000000e+00 1.98774975e-08\n",
      " 1.16200531e-08 1.38649291e-08 0.00000000e+00 0.00000000e+00\n",
      " 0.00000000e+00 0.00000000e+00 0.00000000e+00 0.00000000e+00\n",
      " 0.00000000e+00] \n",
      "CV: [ 3.96169183  3.29930088  1.92251117  1.29368234         nan         nan\n",
      "         nan         nan         nan         nan         nan 17.63193004\n",
      " 22.24438882  7.3536179          nan         nan         nan         nan\n",
      "         nan         nan         nan] \n",
      " Predict CV: [ 2.28728384  1.90485225  1.10996234  0.74690785         nan         nan\n",
      "         nan         nan         nan         nan         nan 10.17979956\n",
      " 12.84280387  4.24561328         nan         nan         nan         nan\n",
      "         nan         nan         nan]\n",
      "\n",
      "ETA:4m/8m\n",
      "∎∎ Start to run # 0 ... Finished !! ∎∎\n",
      "\n",
      "∎∎ Start to run # 1 ... Finished !! ∎∎\n",
      "\n",
      "∎∎ Start to run # 2 ... Finished !! ∎∎\n",
      "\n"
     ]
    },
    {
     "name": "stderr",
     "output_type": "stream",
     "text": [
      " 55%|█████▌    | 11/20 [04:26<03:37, 24.17s/it]"
     ]
    },
    {
     "name": "stdout",
     "output_type": "stream",
     "text": [
      "Session name: result\\kb\\kb_ijv_small_to_large\\high\\run_11 \n",
      " Reflectance mean: [2.52672070e-07 2.10986696e-07 2.18976840e-07 1.90093525e-07\n",
      " 0.00000000e+00 0.00000000e+00 0.00000000e+00 0.00000000e+00\n",
      " 0.00000000e+00 0.00000000e+00 0.00000000e+00 2.17573293e-08\n",
      " 1.13469851e-08 1.44523865e-08 0.00000000e+00 0.00000000e+00\n",
      " 0.00000000e+00 0.00000000e+00 0.00000000e+00 0.00000000e+00\n",
      " 0.00000000e+00] \n",
      "CV: [ 4.47913478  4.16190021  4.99857614  4.32767856         nan         nan\n",
      "         nan         nan         nan         nan         nan 17.36380343\n",
      " 10.27858356  3.12419932         nan         nan         nan         nan\n",
      "         nan         nan         nan] \n",
      " Predict CV: [ 2.58602967  2.40287421  2.88592928  2.49858638         nan         nan\n",
      "         nan         nan         nan         nan         nan 10.02499659\n",
      "  5.93434299  1.80375732         nan         nan         nan         nan\n",
      "         nan         nan         nan]\n",
      "\n",
      "ETA:4m/8m\n",
      "∎∎ Start to run # 0 ... Finished !! ∎∎\n",
      "\n",
      "∎∎ Start to run # 1 ... Finished !! ∎∎\n",
      "\n",
      "∎∎ Start to run # 2 ... Finished !! ∎∎\n",
      "\n"
     ]
    },
    {
     "name": "stderr",
     "output_type": "stream",
     "text": [
      " 60%|██████    | 12/20 [04:50<03:13, 24.13s/it]"
     ]
    },
    {
     "name": "stdout",
     "output_type": "stream",
     "text": [
      "Session name: result\\kb\\kb_ijv_small_to_large\\high\\run_12 \n",
      " Reflectance mean: [2.61777708e-07 2.21331361e-07 2.15358440e-07 1.85708546e-07\n",
      " 0.00000000e+00 0.00000000e+00 0.00000000e+00 0.00000000e+00\n",
      " 0.00000000e+00 0.00000000e+00 0.00000000e+00 2.23552296e-08\n",
      " 1.03039223e-08 1.31332950e-08 0.00000000e+00 0.00000000e+00\n",
      " 0.00000000e+00 0.00000000e+00 0.00000000e+00 0.00000000e+00\n",
      " 0.00000000e+00] \n",
      "CV: [ 4.03429733  4.66030831  4.9635243   1.12198572         nan         nan\n",
      "         nan         nan         nan         nan         nan  7.86330939\n",
      " 15.07497679 11.68921117         nan         nan         nan         nan\n",
      "         nan         nan         nan] \n",
      " Predict CV: [2.32920265 2.69063026 2.86569209 0.64777876        nan        nan\n",
      "        nan        nan        nan        nan        nan 4.53988379\n",
      " 8.70354191 6.74876922        nan        nan        nan        nan\n",
      "        nan        nan        nan]\n",
      "\n",
      "ETA:5m/8m\n",
      "∎∎ Start to run # 0 ... Finished !! ∎∎\n",
      "\n",
      "∎∎ Start to run # 1 ... Finished !! ∎∎\n",
      "\n",
      "∎∎ Start to run # 2 ... Finished !! ∎∎\n",
      "\n"
     ]
    },
    {
     "name": "stderr",
     "output_type": "stream",
     "text": [
      " 65%|██████▌   | 13/20 [05:14<02:48, 24.06s/it]"
     ]
    },
    {
     "name": "stdout",
     "output_type": "stream",
     "text": [
      "Session name: result\\kb\\kb_ijv_small_to_large\\high\\run_13 \n",
      " Reflectance mean: [2.65559955e-07 2.26322283e-07 2.19576269e-07 2.04080314e-07\n",
      " 0.00000000e+00 0.00000000e+00 0.00000000e+00 0.00000000e+00\n",
      " 0.00000000e+00 0.00000000e+00 0.00000000e+00 2.54601584e-08\n",
      " 1.24111613e-08 1.19876631e-08 0.00000000e+00 0.00000000e+00\n",
      " 0.00000000e+00 0.00000000e+00 0.00000000e+00 0.00000000e+00\n",
      " 0.00000000e+00] \n",
      "CV: [ 5.73330004  3.72093377  0.7720962   5.92664429         nan         nan\n",
      "         nan         nan         nan         nan         nan 15.53365464\n",
      "  9.45455872  5.58627681         nan         nan         nan         nan\n",
      "         nan         nan         nan] \n",
      " Predict CV: [3.31012232 2.14828212 0.44576995 3.42174968        nan        nan\n",
      "        nan        nan        nan        nan        nan 8.96835969\n",
      " 5.45859202 3.22523842        nan        nan        nan        nan\n",
      "        nan        nan        nan]\n",
      "\n",
      "ETA:5m/8m\n",
      "∎∎ Start to run # 0 ... Finished !! ∎∎\n",
      "\n",
      "∎∎ Start to run # 1 ... Finished !! ∎∎\n",
      "\n",
      "∎∎ Start to run # 2 ... Finished !! ∎∎\n",
      "\n"
     ]
    },
    {
     "name": "stderr",
     "output_type": "stream",
     "text": [
      " 70%|███████   | 14/20 [05:38<02:24, 24.08s/it]"
     ]
    },
    {
     "name": "stdout",
     "output_type": "stream",
     "text": [
      "Session name: result\\kb\\kb_ijv_small_to_large\\high\\run_14 \n",
      " Reflectance mean: [2.59657145e-07 2.52424189e-07 2.41741537e-07 2.11968963e-07\n",
      " 0.00000000e+00 0.00000000e+00 0.00000000e+00 0.00000000e+00\n",
      " 0.00000000e+00 0.00000000e+00 0.00000000e+00 2.22591796e-08\n",
      " 9.27965552e-09 1.57004979e-08 0.00000000e+00 0.00000000e+00\n",
      " 0.00000000e+00 0.00000000e+00 0.00000000e+00 0.00000000e+00\n",
      " 0.00000000e+00] \n",
      "CV: [ 8.06622586  2.57901155  3.19722729  3.15476573         nan         nan\n",
      "         nan         nan         nan         nan         nan  5.59570445\n",
      " 10.99268391  7.73786707         nan         nan         nan         nan\n",
      "         nan         nan         nan] \n",
      " Predict CV: [4.65703767 1.48899302 1.84592004 1.82140484        nan        nan\n",
      "        nan        nan        nan        nan        nan 3.23068147\n",
      " 6.34662901 4.46745964        nan        nan        nan        nan\n",
      "        nan        nan        nan]\n",
      "\n",
      "ETA:6m/8m\n",
      "∎∎ Start to run # 0 ... Finished !! ∎∎\n",
      "\n",
      "∎∎ Start to run # 1 ... Finished !! ∎∎\n",
      "\n",
      "∎∎ Start to run # 2 ... Finished !! ∎∎\n",
      "\n"
     ]
    },
    {
     "name": "stderr",
     "output_type": "stream",
     "text": [
      " 75%|███████▌  | 15/20 [06:02<02:00, 24.02s/it]"
     ]
    },
    {
     "name": "stdout",
     "output_type": "stream",
     "text": [
      "Session name: result\\kb\\kb_ijv_small_to_large\\high\\run_15 \n",
      " Reflectance mean: [2.88146418e-07 2.45541398e-07 2.63820961e-07 2.24760938e-07\n",
      " 0.00000000e+00 0.00000000e+00 0.00000000e+00 0.00000000e+00\n",
      " 0.00000000e+00 0.00000000e+00 0.00000000e+00 2.69008374e-08\n",
      " 1.30587254e-08 1.45405958e-08 0.00000000e+00 0.00000000e+00\n",
      " 0.00000000e+00 0.00000000e+00 0.00000000e+00 0.00000000e+00\n",
      " 0.00000000e+00] \n",
      "CV: [ 3.38042197  0.3714022   8.07369195  3.16937113         nan         nan\n",
      "         nan         nan         nan         nan         nan 15.27617307\n",
      " 11.17308502 11.03249892         nan         nan         nan         nan\n",
      "         nan         nan         nan] \n",
      " Predict CV: [1.95168753 0.21442916 4.66134822 1.82983728        nan        nan\n",
      "        nan        nan        nan        nan        nan 8.81970263\n",
      " 6.45078365 6.36961622        nan        nan        nan        nan\n",
      "        nan        nan        nan]\n",
      "\n",
      "ETA:6m/8m\n",
      "∎∎ Start to run # 0 ... Finished !! ∎∎\n",
      "\n",
      "∎∎ Start to run # 1 ... Finished !! ∎∎\n",
      "\n",
      "∎∎ Start to run # 2 ... Finished !! ∎∎\n",
      "\n"
     ]
    },
    {
     "name": "stderr",
     "output_type": "stream",
     "text": [
      " 80%|████████  | 16/20 [06:26<01:35, 23.99s/it]"
     ]
    },
    {
     "name": "stdout",
     "output_type": "stream",
     "text": [
      "Session name: result\\kb\\kb_ijv_small_to_large\\high\\run_16 \n",
      " Reflectance mean: [2.88719124e-07 2.65537207e-07 2.41949677e-07 2.22332911e-07\n",
      " 0.00000000e+00 0.00000000e+00 0.00000000e+00 0.00000000e+00\n",
      " 0.00000000e+00 0.00000000e+00 0.00000000e+00 2.54160168e-08\n",
      " 1.50062457e-08 1.38762614e-08 0.00000000e+00 0.00000000e+00\n",
      " 0.00000000e+00 0.00000000e+00 0.00000000e+00 0.00000000e+00\n",
      " 0.00000000e+00] \n",
      "CV: [ 2.24472717  3.29721437  2.24412977  4.29928064         nan         nan\n",
      "         nan         nan         nan         nan         nan 12.20691296\n",
      " 17.63293962 12.24472186         nan         nan         nan         nan\n",
      "         nan         nan         nan] \n",
      " Predict CV: [ 1.29599383  1.9036476   1.29564893  2.48219084         nan         nan\n",
      "         nan         nan         nan         nan         nan  7.04766448\n",
      " 10.18038244  7.06949346         nan         nan         nan         nan\n",
      "         nan         nan         nan]\n",
      "\n",
      "ETA:6m/8m\n",
      "∎∎ Start to run # 0 ... Finished !! ∎∎\n",
      "\n",
      "∎∎ Start to run # 1 ... Finished !! ∎∎\n",
      "\n",
      "∎∎ Start to run # 2 ... Finished !! ∎∎\n",
      "\n"
     ]
    },
    {
     "name": "stderr",
     "output_type": "stream",
     "text": [
      " 85%|████████▌ | 17/20 [06:50<01:11, 23.98s/it]"
     ]
    },
    {
     "name": "stdout",
     "output_type": "stream",
     "text": [
      "Session name: result\\kb\\kb_ijv_small_to_large\\high\\run_17 \n",
      " Reflectance mean: [2.98776968e-07 2.65319247e-07 2.75424740e-07 2.51199900e-07\n",
      " 0.00000000e+00 0.00000000e+00 0.00000000e+00 0.00000000e+00\n",
      " 0.00000000e+00 0.00000000e+00 0.00000000e+00 2.73553071e-08\n",
      " 1.43092037e-08 1.57313332e-08 0.00000000e+00 0.00000000e+00\n",
      " 0.00000000e+00 0.00000000e+00 0.00000000e+00 0.00000000e+00\n",
      " 0.00000000e+00] \n",
      "CV: [ 7.57625262  5.14386525  2.07661586  3.73271469         nan         nan\n",
      "         nan         nan         nan         nan         nan  5.98709023\n",
      " 15.54311411 12.18550921         nan         nan         nan         nan\n",
      "         nan         nan         nan] \n",
      " Predict CV: [4.37415149 2.96981199 1.19893473 2.15508383        nan        nan\n",
      "        nan        nan        nan        nan        nan 3.45664815\n",
      " 8.97382112 7.03530702        nan        nan        nan        nan\n",
      "        nan        nan        nan]\n",
      "\n",
      "ETA:7m/8m\n",
      "∎∎ Start to run # 0 ... Finished !! ∎∎\n",
      "\n",
      "∎∎ Start to run # 1 ... Finished !! ∎∎\n",
      "\n",
      "∎∎ Start to run # 2 ... Finished !! ∎∎\n",
      "\n"
     ]
    },
    {
     "name": "stderr",
     "output_type": "stream",
     "text": [
      " 90%|█████████ | 18/20 [07:14<00:47, 23.94s/it]"
     ]
    },
    {
     "name": "stdout",
     "output_type": "stream",
     "text": [
      "Session name: result\\kb\\kb_ijv_small_to_large\\high\\run_18 \n",
      " Reflectance mean: [2.91633073e-07 2.60641624e-07 2.72019334e-07 2.41557559e-07\n",
      " 0.00000000e+00 0.00000000e+00 0.00000000e+00 0.00000000e+00\n",
      " 0.00000000e+00 0.00000000e+00 0.00000000e+00 2.77274179e-08\n",
      " 1.43605403e-08 1.35965678e-08 0.00000000e+00 0.00000000e+00\n",
      " 0.00000000e+00 0.00000000e+00 0.00000000e+00 0.00000000e+00\n",
      " 0.00000000e+00] \n",
      "CV: [2.18503475 8.31758976 3.16918171 3.97726142        nan        nan\n",
      "        nan        nan        nan        nan        nan 7.55299027\n",
      " 9.31127005 6.29857622        nan        nan        nan        nan\n",
      "        nan        nan        nan] \n",
      " Predict CV: [1.2615304  4.80216269 1.82972791 2.29627295        nan        nan\n",
      "        nan        nan        nan        nan        nan 4.36072096\n",
      " 5.37586427 3.63648468        nan        nan        nan        nan\n",
      "        nan        nan        nan]\n",
      "\n",
      "ETA:7m/8m\n",
      "∎∎ Start to run # 0 ... Finished !! ∎∎\n",
      "\n",
      "∎∎ Start to run # 1 ... Finished !! ∎∎\n",
      "\n",
      "∎∎ Start to run # 2 ... Finished !! ∎∎\n",
      "\n"
     ]
    },
    {
     "name": "stderr",
     "output_type": "stream",
     "text": [
      " 95%|█████████▌| 19/20 [07:38<00:23, 23.85s/it]"
     ]
    },
    {
     "name": "stdout",
     "output_type": "stream",
     "text": [
      "Session name: result\\kb\\kb_ijv_small_to_large\\high\\run_19 \n",
      " Reflectance mean: [3.43252093e-07 2.85737844e-07 2.94243333e-07 2.73181595e-07\n",
      " 0.00000000e+00 0.00000000e+00 0.00000000e+00 0.00000000e+00\n",
      " 0.00000000e+00 0.00000000e+00 0.00000000e+00 2.88336227e-08\n",
      " 1.53840772e-08 1.88339246e-08 0.00000000e+00 0.00000000e+00\n",
      " 0.00000000e+00 0.00000000e+00 0.00000000e+00 0.00000000e+00\n",
      " 0.00000000e+00] \n",
      "CV: [ 3.6055255   1.43383581  5.26055294  1.93306795         nan         nan\n",
      "         nan         nan         nan         nan         nan 11.21946376\n",
      " 20.32783066 26.72285915         nan         nan         nan         nan\n",
      "         nan         nan         nan] \n",
      " Predict CV: [ 2.08165112  0.82782549  3.03718166  1.1160573          nan         nan\n",
      "         nan         nan         nan         nan         nan  6.47756042\n",
      " 11.73627851 15.42844992         nan         nan         nan         nan\n",
      "         nan         nan         nan]\n",
      "\n",
      "ETA:8m/8m\n",
      "∎∎ Start to run # 0 ... Finished !! ∎∎\n",
      "\n",
      "∎∎ Start to run # 1 ... Finished !! ∎∎\n",
      "\n",
      "∎∎ Start to run # 2 ... Finished !! ∎∎\n",
      "\n"
     ]
    },
    {
     "name": "stderr",
     "output_type": "stream",
     "text": [
      "100%|██████████| 20/20 [08:01<00:00, 24.09s/it]\n"
     ]
    },
    {
     "name": "stdout",
     "output_type": "stream",
     "text": [
      "Session name: result\\kb\\kb_ijv_small_to_large\\high\\run_20 \n",
      " Reflectance mean: [3.57618188e-07 3.07470293e-07 3.23367815e-07 2.82660564e-07\n",
      " 0.00000000e+00 0.00000000e+00 0.00000000e+00 0.00000000e+00\n",
      " 0.00000000e+00 0.00000000e+00 0.00000000e+00 3.19918622e-08\n",
      " 1.52226796e-08 1.92356697e-08 0.00000000e+00 0.00000000e+00\n",
      " 0.00000000e+00 0.00000000e+00 0.00000000e+00 0.00000000e+00\n",
      " 0.00000000e+00] \n",
      "CV: [ 4.74224298  6.52793336  5.1938034   4.54176312         nan         nan\n",
      "         nan         nan         nan         nan         nan  4.19637608\n",
      " 13.72732667  8.36387569         nan         nan         nan         nan\n",
      "         nan         nan         nan] \n",
      " Predict CV: [2.73793526 3.76890408 2.99864379 2.62218816        nan        nan\n",
      "        nan        nan        nan        nan        nan 2.42277886\n",
      " 7.92547575 4.82888588        nan        nan        nan        nan\n",
      "        nan        nan        nan]\n",
      "\n",
      "ETA:8m/8m\n"
     ]
    },
    {
     "name": "stderr",
     "output_type": "stream",
     "text": [
      "  0%|          | 0/20 [00:00<?, ?it/s]"
     ]
    },
    {
     "name": "stdout",
     "output_type": "stream",
     "text": [
      "∎∎ Start to run # 0 ... Finished !! ∎∎\n",
      "\n",
      "∎∎ Start to run # 1 ... Finished !! ∎∎\n",
      "\n",
      "∎∎ Start to run # 2 ... Finished !! ∎∎\n",
      "\n"
     ]
    },
    {
     "name": "stderr",
     "output_type": "stream",
     "text": [
      "  5%|▌         | 1/20 [00:23<07:33, 23.85s/it]"
     ]
    },
    {
     "name": "stdout",
     "output_type": "stream",
     "text": [
      "Session name: result\\kb\\kb_ijv_small_to_large\\medium\\run_1 \n",
      " Reflectance mean: [3.47130658e-07 2.98690736e-07 3.33001311e-07 2.79400194e-07\n",
      " 0.00000000e+00 0.00000000e+00 0.00000000e+00 0.00000000e+00\n",
      " 0.00000000e+00 0.00000000e+00 0.00000000e+00 3.42600211e-08\n",
      " 1.53213328e-08 1.71476697e-08 0.00000000e+00 0.00000000e+00\n",
      " 0.00000000e+00 0.00000000e+00 0.00000000e+00 0.00000000e+00\n",
      " 0.00000000e+00] \n",
      "CV: [ 6.51166674  3.28800679  5.39119145  4.21502119         nan         nan\n",
      "         nan         nan         nan         nan         nan 18.67009478\n",
      "  9.06706902 23.78239326         nan         nan         nan         nan\n",
      "         nan         nan         nan] \n",
      " Predict CV: [ 3.75951254  1.89833161  3.11260584  2.43354362         nan         nan\n",
      "         nan         nan         nan         nan         nan 10.77918425\n",
      "  5.23487474 13.73077115         nan         nan         nan         nan\n",
      "         nan         nan         nan]\n",
      "\n",
      "ETA:23s/8m\n",
      "∎∎ Start to run # 0 ... Finished !! ∎∎\n",
      "\n",
      "∎∎ Start to run # 1 ... Finished !! ∎∎\n",
      "\n",
      "∎∎ Start to run # 2 ... Finished !! ∎∎\n",
      "\n"
     ]
    },
    {
     "name": "stderr",
     "output_type": "stream",
     "text": [
      " 10%|█         | 2/20 [00:47<07:08, 23.80s/it]"
     ]
    },
    {
     "name": "stdout",
     "output_type": "stream",
     "text": [
      "Session name: result\\kb\\kb_ijv_small_to_large\\medium\\run_2 \n",
      " Reflectance mean: [3.77880159e-07 3.11582014e-07 3.24368757e-07 2.86493154e-07\n",
      " 0.00000000e+00 0.00000000e+00 0.00000000e+00 0.00000000e+00\n",
      " 0.00000000e+00 0.00000000e+00 0.00000000e+00 3.24673605e-08\n",
      " 1.67470407e-08 1.73889472e-08 0.00000000e+00 0.00000000e+00\n",
      " 0.00000000e+00 0.00000000e+00 0.00000000e+00 0.00000000e+00\n",
      " 0.00000000e+00] \n",
      "CV: [ 5.37619944  3.59834745  5.03716073  3.73049279         nan         nan\n",
      "         nan         nan         nan         nan         nan 15.7380529\n",
      "  9.94664388  9.67315813         nan         nan         nan         nan\n",
      "         nan         nan         nan] \n",
      " Predict CV: [3.10395019 2.07750687 2.90820611 2.15380102        nan        nan\n",
      "        nan        nan        nan        nan        nan 9.08636908\n",
      " 5.74269752 5.58480045        nan        nan        nan        nan\n",
      "        nan        nan        nan]\n",
      "\n",
      "ETA:47s/8m\n",
      "∎∎ Start to run # 0 ... Finished !! ∎∎\n",
      "\n",
      "∎∎ Start to run # 1 ... Finished !! ∎∎\n",
      "\n",
      "∎∎ Start to run # 2 ... Finished !! ∎∎\n",
      "\n"
     ]
    },
    {
     "name": "stderr",
     "output_type": "stream",
     "text": [
      " 15%|█▌        | 3/20 [01:11<06:42, 23.69s/it]"
     ]
    },
    {
     "name": "stdout",
     "output_type": "stream",
     "text": [
      "Session name: result\\kb\\kb_ijv_small_to_large\\medium\\run_3 \n",
      " Reflectance mean: [3.90309114e-07 3.22040471e-07 3.49684694e-07 3.08391995e-07\n",
      " 0.00000000e+00 0.00000000e+00 0.00000000e+00 0.00000000e+00\n",
      " 0.00000000e+00 0.00000000e+00 0.00000000e+00 3.16871134e-08\n",
      " 1.58857265e-08 1.95103581e-08 0.00000000e+00 0.00000000e+00\n",
      " 0.00000000e+00 0.00000000e+00 0.00000000e+00 0.00000000e+00\n",
      " 0.00000000e+00] \n",
      "CV: [ 6.10193921  4.98659462  3.79587281  4.37803095         nan         nan\n",
      "         nan         nan         nan         nan         nan 16.22083768\n",
      " 16.50930321 10.67126349         nan         nan         nan         nan\n",
      "         nan         nan         nan] \n",
      " Predict CV: [3.52295625 2.87901175 2.19154819 2.52765735        nan        nan\n",
      "        nan        nan        nan        nan        nan 9.365105\n",
      " 9.53165065 6.16105685        nan        nan        nan        nan\n",
      "        nan        nan        nan]\n",
      "\n",
      "ETA:1m/8m\n",
      "∎∎ Start to run # 0 ... Finished !! ∎∎\n",
      "\n",
      "∎∎ Start to run # 1 ... Finished !! ∎∎\n",
      "\n",
      "∎∎ Start to run # 2 ... Finished !! ∎∎\n",
      "\n"
     ]
    },
    {
     "name": "stderr",
     "output_type": "stream",
     "text": [
      " 20%|██        | 4/20 [01:34<06:17, 23.61s/it]"
     ]
    },
    {
     "name": "stdout",
     "output_type": "stream",
     "text": [
      "Session name: result\\kb\\kb_ijv_small_to_large\\medium\\run_4 \n",
      " Reflectance mean: [3.96964202e-07 3.57245678e-07 3.21040155e-07 3.23347266e-07\n",
      " 0.00000000e+00 0.00000000e+00 0.00000000e+00 0.00000000e+00\n",
      " 0.00000000e+00 0.00000000e+00 0.00000000e+00 3.66336236e-08\n",
      " 1.87137980e-08 1.94063498e-08 0.00000000e+00 0.00000000e+00\n",
      " 0.00000000e+00 0.00000000e+00 0.00000000e+00 0.00000000e+00\n",
      " 0.00000000e+00] \n",
      "CV: [ 0.8091341   2.46003042  3.95365215  0.65365001         nan         nan\n",
      "         nan         nan         nan         nan         nan 14.38069113\n",
      " 27.71010239 10.09352627         nan         nan         nan         nan\n",
      "         nan         nan         nan] \n",
      " Predict CV: [ 0.46715379  1.42029922  2.28264214  0.37738501         nan         nan\n",
      "         nan         nan         nan         nan         nan  8.3026959\n",
      " 15.99843508  5.82750011         nan         nan         nan         nan\n",
      "         nan         nan         nan]\n",
      "\n",
      "ETA:2m/8m\n",
      "∎∎ Start to run # 0 ... Finished !! ∎∎\n",
      "\n",
      "∎∎ Start to run # 1 ... Finished !! ∎∎\n",
      "\n",
      "∎∎ Start to run # 2 ... Finished !! ∎∎\n",
      "\n"
     ]
    },
    {
     "name": "stderr",
     "output_type": "stream",
     "text": [
      " 25%|██▌       | 5/20 [01:58<05:53, 23.56s/it]"
     ]
    },
    {
     "name": "stdout",
     "output_type": "stream",
     "text": [
      "Session name: result\\kb\\kb_ijv_small_to_large\\medium\\run_5 \n",
      " Reflectance mean: [4.15049175e-07 3.40702029e-07 3.39700682e-07 3.04703907e-07\n",
      " 0.00000000e+00 0.00000000e+00 0.00000000e+00 0.00000000e+00\n",
      " 0.00000000e+00 0.00000000e+00 0.00000000e+00 3.17132594e-08\n",
      " 1.68655827e-08 1.97111812e-08 0.00000000e+00 0.00000000e+00\n",
      " 0.00000000e+00 0.00000000e+00 0.00000000e+00 0.00000000e+00\n",
      " 0.00000000e+00] \n",
      "CV: [ 0.90470612  3.03762932  4.77710005  6.83236443         nan         nan\n",
      "         nan         nan         nan         nan         nan  8.08999365\n",
      "  8.53540578 13.36563578         nan         nan         nan         nan\n",
      "         nan         nan         nan] \n",
      " Predict CV: [0.52233232 1.7537761  2.75806    3.94466744        nan        nan\n",
      "        nan        nan        nan        nan        nan 4.67076001\n",
      " 4.92791882 7.71665342        nan        nan        nan        nan\n",
      "        nan        nan        nan]\n",
      "\n",
      "ETA:2m/8m\n",
      "∎∎ Start to run # 0 ... Finished !! ∎∎\n",
      "\n",
      "∎∎ Start to run # 1 ... Finished !! ∎∎\n",
      "\n",
      "∎∎ Start to run # 2 ... Finished !! ∎∎\n",
      "\n"
     ]
    },
    {
     "name": "stderr",
     "output_type": "stream",
     "text": [
      " 30%|███       | 6/20 [02:21<05:29, 23.54s/it]"
     ]
    },
    {
     "name": "stdout",
     "output_type": "stream",
     "text": [
      "Session name: result\\kb\\kb_ijv_small_to_large\\medium\\run_6 \n",
      " Reflectance mean: [3.92892112e-07 3.32028442e-07 3.74145778e-07 3.11136297e-07\n",
      " 0.00000000e+00 0.00000000e+00 0.00000000e+00 0.00000000e+00\n",
      " 0.00000000e+00 0.00000000e+00 0.00000000e+00 3.75617026e-08\n",
      " 1.88082032e-08 2.07451372e-08 0.00000000e+00 0.00000000e+00\n",
      " 0.00000000e+00 0.00000000e+00 0.00000000e+00 0.00000000e+00\n",
      " 0.00000000e+00] \n",
      "CV: [ 2.39065138  8.75813627  4.34892435  6.36705855         nan         nan\n",
      "         nan         nan         nan         nan         nan  5.80055496\n",
      " 16.65696157 23.25526393         nan         nan         nan         nan\n",
      "         nan         nan         nan] \n",
      " Predict CV: [ 1.38024322  5.05651233  2.51085264  3.67602297         nan         nan\n",
      "         nan         nan         nan         nan         nan  3.34895196\n",
      "  9.61690125 13.42643289         nan         nan         nan         nan\n",
      "         nan         nan         nan]\n",
      "\n",
      "ETA:2m/8m\n",
      "∎∎ Start to run # 0 ... Finished !! ∎∎\n",
      "\n",
      "∎∎ Start to run # 1 ... Finished !! ∎∎\n",
      "\n",
      "∎∎ Start to run # 2 ... Finished !! ∎∎\n",
      "\n"
     ]
    },
    {
     "name": "stderr",
     "output_type": "stream",
     "text": [
      " 35%|███▌      | 7/20 [02:44<05:04, 23.44s/it]"
     ]
    },
    {
     "name": "stdout",
     "output_type": "stream",
     "text": [
      "Session name: result\\kb\\kb_ijv_small_to_large\\medium\\run_7 \n",
      " Reflectance mean: [4.04927251e-07 3.59179940e-07 3.35597830e-07 3.38548424e-07\n",
      " 0.00000000e+00 0.00000000e+00 0.00000000e+00 0.00000000e+00\n",
      " 0.00000000e+00 0.00000000e+00 0.00000000e+00 3.58477854e-08\n",
      " 1.77875086e-08 2.35868124e-08 0.00000000e+00 0.00000000e+00\n",
      " 0.00000000e+00 0.00000000e+00 0.00000000e+00 0.00000000e+00\n",
      " 0.00000000e+00] \n",
      "CV: [ 5.72308645  1.60329715  3.09374416  7.62203846         nan         nan\n",
      "         nan         nan         nan         nan         nan  6.75487695\n",
      " 16.11779137 14.11468226         nan         nan         nan         nan\n",
      "         nan         nan         nan] \n",
      " Predict CV: [3.3042255  0.92566404 1.78617402 4.40058595        nan        nan\n",
      "        nan        nan        nan        nan        nan 3.89993003\n",
      " 9.30561119 8.1491156         nan        nan        nan        nan\n",
      "        nan        nan        nan]\n",
      "\n",
      "ETA:3m/8m\n",
      "∎∎ Start to run # 0 ... Finished !! ∎∎\n",
      "\n",
      "∎∎ Start to run # 1 ... Finished !! ∎∎\n",
      "\n",
      "∎∎ Start to run # 2 ... Finished !! ∎∎\n",
      "\n"
     ]
    },
    {
     "name": "stderr",
     "output_type": "stream",
     "text": [
      " 40%|████      | 8/20 [03:08<04:41, 23.48s/it]"
     ]
    },
    {
     "name": "stdout",
     "output_type": "stream",
     "text": [
      "Session name: result\\kb\\kb_ijv_small_to_large\\medium\\run_8 \n",
      " Reflectance mean: [4.04983864e-07 3.71412873e-07 3.56709817e-07 3.39638496e-07\n",
      " 0.00000000e+00 0.00000000e+00 0.00000000e+00 0.00000000e+00\n",
      " 0.00000000e+00 0.00000000e+00 0.00000000e+00 3.63895687e-08\n",
      " 1.65514932e-08 1.98855698e-08 0.00000000e+00 0.00000000e+00\n",
      " 0.00000000e+00 0.00000000e+00 0.00000000e+00 0.00000000e+00\n",
      " 0.00000000e+00] \n",
      "CV: [ 4.11115818  1.78605032  3.10795412  0.940615           nan         nan\n",
      "         nan         nan         nan         nan         nan 14.41938123\n",
      " 10.0800188   5.25763272         nan         nan         nan         nan\n",
      "         nan         nan         nan] \n",
      " Predict CV: [2.37357828 1.03117663 1.79437815 0.54306432        nan        nan\n",
      "        nan        nan        nan        nan        nan 8.32503363\n",
      " 5.81970157 3.03549566        nan        nan        nan        nan\n",
      "        nan        nan        nan]\n",
      "\n",
      "ETA:3m/8m\n",
      "∎∎ Start to run # 0 ... Finished !! ∎∎\n",
      "\n",
      "∎∎ Start to run # 1 ... Finished !! ∎∎\n",
      "\n",
      "∎∎ Start to run # 2 ... Finished !! ∎∎\n",
      "\n"
     ]
    },
    {
     "name": "stderr",
     "output_type": "stream",
     "text": [
      " 45%|████▌     | 9/20 [03:31<04:18, 23.46s/it]"
     ]
    },
    {
     "name": "stdout",
     "output_type": "stream",
     "text": [
      "Session name: result\\kb\\kb_ijv_small_to_large\\medium\\run_9 \n",
      " Reflectance mean: [4.11106945e-07 3.56096729e-07 3.66955263e-07 3.29591599e-07\n",
      " 0.00000000e+00 0.00000000e+00 0.00000000e+00 0.00000000e+00\n",
      " 0.00000000e+00 0.00000000e+00 0.00000000e+00 3.71689577e-08\n",
      " 1.70148234e-08 2.19255256e-08 0.00000000e+00 0.00000000e+00\n",
      " 0.00000000e+00 0.00000000e+00 0.00000000e+00 0.00000000e+00\n",
      " 0.00000000e+00] \n",
      "CV: [ 3.99600003  0.81276077  8.79747445  6.80897018         nan         nan\n",
      "         nan         nan         nan         nan         nan  8.81589516\n",
      " 10.48839237 15.38465858         nan         nan         nan         nan\n",
      "         nan         nan         nan] \n",
      " Predict CV: [2.30709169 0.46924765 5.07922424 3.93116076        nan        nan\n",
      "        nan        nan        nan        nan        nan 5.08985944\n",
      " 6.05547616 8.88233677        nan        nan        nan        nan\n",
      "        nan        nan        nan]\n",
      "\n",
      "ETA:4m/8m\n",
      "∎∎ Start to run # 0 ... Finished !! ∎∎\n",
      "\n",
      "∎∎ Start to run # 1 ... Finished !! ∎∎\n",
      "\n",
      "∎∎ Start to run # 2 ... Finished !! ∎∎\n",
      "\n"
     ]
    },
    {
     "name": "stderr",
     "output_type": "stream",
     "text": [
      " 50%|█████     | 10/20 [03:55<03:53, 23.40s/it]"
     ]
    },
    {
     "name": "stdout",
     "output_type": "stream",
     "text": [
      "Session name: result\\kb\\kb_ijv_small_to_large\\medium\\run_10 \n",
      " Reflectance mean: [4.12681435e-07 3.89915668e-07 3.61368688e-07 3.18004205e-07\n",
      " 0.00000000e+00 0.00000000e+00 0.00000000e+00 0.00000000e+00\n",
      " 0.00000000e+00 0.00000000e+00 0.00000000e+00 3.55833163e-08\n",
      " 1.99597244e-08 1.93166977e-08 0.00000000e+00 0.00000000e+00\n",
      " 0.00000000e+00 0.00000000e+00 0.00000000e+00 0.00000000e+00\n",
      " 0.00000000e+00] \n",
      "CV: [ 0.89319017  2.48010421  1.58702887  4.36362979         nan         nan\n",
      "         nan         nan         nan         nan         nan  3.31785024\n",
      "  4.27600714 14.96484265         nan         nan         nan         nan\n",
      "         nan         nan         nan] \n",
      " Predict CV: [0.51568358 1.43188883 0.91627154 2.51934283        nan        nan\n",
      "        nan        nan        nan        nan        nan 1.91556173\n",
      " 2.46875387 8.63995593        nan        nan        nan        nan\n",
      "        nan        nan        nan]\n",
      "\n",
      "ETA:4m/8m\n",
      "∎∎ Start to run # 0 ... Finished !! ∎∎\n",
      "\n",
      "∎∎ Start to run # 1 ... Finished !! ∎∎\n",
      "\n",
      "∎∎ Start to run # 2 ... Finished !! ∎∎\n",
      "\n"
     ]
    },
    {
     "name": "stderr",
     "output_type": "stream",
     "text": [
      " 55%|█████▌    | 11/20 [04:18<03:31, 23.47s/it]"
     ]
    },
    {
     "name": "stdout",
     "output_type": "stream",
     "text": [
      "Session name: result\\kb\\kb_ijv_small_to_large\\medium\\run_11 \n",
      " Reflectance mean: [4.33479061e-07 3.66616608e-07 3.51942260e-07 3.32657894e-07\n",
      " 0.00000000e+00 0.00000000e+00 0.00000000e+00 0.00000000e+00\n",
      " 0.00000000e+00 0.00000000e+00 0.00000000e+00 4.10061299e-08\n",
      " 2.32804450e-08 2.13880242e-08 0.00000000e+00 0.00000000e+00\n",
      " 0.00000000e+00 0.00000000e+00 0.00000000e+00 0.00000000e+00\n",
      " 0.00000000e+00] \n",
      "CV: [ 0.77013412  7.68679614  0.305937    3.83425029         nan         nan\n",
      "         nan         nan         nan         nan         nan  5.86400296\n",
      "  9.75421834 22.48968298         nan         nan         nan         nan\n",
      "         nan         nan         nan] \n",
      " Predict CV: [ 0.44463714  4.43797382  0.17663281  2.21370544         nan         nan\n",
      "         nan         nan         nan         nan         nan  3.38558369\n",
      "  5.63160059 12.98442452         nan         nan         nan         nan\n",
      "         nan         nan         nan]\n",
      "\n",
      "ETA:4m/8m\n",
      "∎∎ Start to run # 0 ... Finished !! ∎∎\n",
      "\n",
      "∎∎ Start to run # 1 ... Finished !! ∎∎\n",
      "\n",
      "∎∎ Start to run # 2 ... Finished !! ∎∎\n",
      "\n"
     ]
    },
    {
     "name": "stderr",
     "output_type": "stream",
     "text": [
      " 60%|██████    | 12/20 [04:42<03:07, 23.42s/it]"
     ]
    },
    {
     "name": "stdout",
     "output_type": "stream",
     "text": [
      "Session name: result\\kb\\kb_ijv_small_to_large\\medium\\run_12 \n",
      " Reflectance mean: [4.40560375e-07 3.87678458e-07 3.87557370e-07 3.29578863e-07\n",
      " 0.00000000e+00 0.00000000e+00 0.00000000e+00 0.00000000e+00\n",
      " 0.00000000e+00 0.00000000e+00 0.00000000e+00 4.09820742e-08\n",
      " 1.84900827e-08 2.54446344e-08 0.00000000e+00 0.00000000e+00\n",
      " 0.00000000e+00 0.00000000e+00 0.00000000e+00 0.00000000e+00\n",
      " 0.00000000e+00] \n",
      "CV: [ 3.50968792  2.32745658  5.51128937  2.45892763         nan         nan\n",
      "         nan         nan         nan         nan         nan  2.48147331\n",
      " 19.1376025   4.67103216         nan         nan         nan         nan\n",
      "         nan         nan         nan] \n",
      " Predict CV: [ 2.02631926  1.34375768  3.1819444   1.41966253         nan         nan\n",
      "         nan         nan         nan         nan         nan  1.43267929\n",
      " 11.04909995  2.69682168         nan         nan         nan         nan\n",
      "         nan         nan         nan]\n",
      "\n",
      "ETA:5m/8m\n",
      "∎∎ Start to run # 0 ... Finished !! ∎∎\n",
      "\n",
      "∎∎ Start to run # 1 ... Finished !! ∎∎\n",
      "\n",
      "∎∎ Start to run # 2 ... Finished !! ∎∎\n",
      "\n"
     ]
    },
    {
     "name": "stderr",
     "output_type": "stream",
     "text": [
      " 65%|██████▌   | 13/20 [05:07<02:49, 24.16s/it]"
     ]
    },
    {
     "name": "stdout",
     "output_type": "stream",
     "text": [
      "Session name: result\\kb\\kb_ijv_small_to_large\\medium\\run_13 \n",
      " Reflectance mean: [4.22156586e-07 3.75314795e-07 3.62677831e-07 3.49126187e-07\n",
      " 0.00000000e+00 0.00000000e+00 0.00000000e+00 0.00000000e+00\n",
      " 0.00000000e+00 0.00000000e+00 0.00000000e+00 3.91253009e-08\n",
      " 1.92932869e-08 2.17689443e-08 0.00000000e+00 0.00000000e+00\n",
      " 0.00000000e+00 0.00000000e+00 0.00000000e+00 0.00000000e+00\n",
      " 0.00000000e+00] \n",
      "CV: [ 1.33486016  2.86333563  3.36790088  3.05252126         nan         nan\n",
      "         nan         nan         nan         nan         nan  7.92391459\n",
      " 11.12163836 10.11775395         nan         nan         nan         nan\n",
      "         nan         nan         nan] \n",
      " Predict CV: [0.77068187 1.6531476  1.94445848 1.76237397        nan        nan\n",
      "        nan        nan        nan        nan        nan 4.57487422\n",
      " 6.4210809  5.84148796        nan        nan        nan        nan\n",
      "        nan        nan        nan]\n",
      "\n",
      "ETA:5m/8m\n",
      "∎∎ Start to run # 0 ... Finished !! ∎∎\n",
      "\n",
      "∎∎ Start to run # 1 ... Finished !! ∎∎\n",
      "\n",
      "∎∎ Start to run # 2 ... Finished !! ∎∎\n",
      "\n"
     ]
    },
    {
     "name": "stderr",
     "output_type": "stream",
     "text": [
      " 70%|███████   | 14/20 [05:32<02:26, 24.40s/it]"
     ]
    },
    {
     "name": "stdout",
     "output_type": "stream",
     "text": [
      "Session name: result\\kb\\kb_ijv_small_to_large\\medium\\run_14 \n",
      " Reflectance mean: [4.57456979e-07 3.83651378e-07 4.06458894e-07 3.64340173e-07\n",
      " 0.00000000e+00 0.00000000e+00 0.00000000e+00 0.00000000e+00\n",
      " 0.00000000e+00 0.00000000e+00 0.00000000e+00 4.12530073e-08\n",
      " 2.29536435e-08 2.41069726e-08 0.00000000e+00 0.00000000e+00\n",
      " 0.00000000e+00 0.00000000e+00 0.00000000e+00 0.00000000e+00\n",
      " 0.00000000e+00] \n",
      "CV: [ 5.28552029  1.79477581  0.89758977  2.25789074         nan         nan\n",
      "         nan         nan         nan         nan         nan  6.24187774\n",
      " 17.11519225  9.90013883         nan         nan         nan         nan\n",
      "         nan         nan         nan] \n",
      " Predict CV: [3.05159656 1.0362143  0.5182237  1.30359383        nan        nan\n",
      "        nan        nan        nan        nan        nan 3.60374979\n",
      " 9.88146085 5.71584782        nan        nan        nan        nan\n",
      "        nan        nan        nan]\n",
      "\n",
      "ETA:6m/8m\n",
      "∎∎ Start to run # 0 ... Finished !! ∎∎\n",
      "\n",
      "∎∎ Start to run # 1 ... Finished !! ∎∎\n",
      "\n",
      "∎∎ Start to run # 2 ... Finished !! ∎∎\n",
      "\n"
     ]
    },
    {
     "name": "stderr",
     "output_type": "stream",
     "text": [
      " 75%|███████▌  | 15/20 [05:55<01:59, 23.82s/it]"
     ]
    },
    {
     "name": "stdout",
     "output_type": "stream",
     "text": [
      "Session name: result\\kb\\kb_ijv_small_to_large\\medium\\run_15 \n",
      " Reflectance mean: [4.89092658e-07 3.79369169e-07 3.94465636e-07 3.63452218e-07\n",
      " 0.00000000e+00 0.00000000e+00 0.00000000e+00 0.00000000e+00\n",
      " 0.00000000e+00 0.00000000e+00 0.00000000e+00 3.92510051e-08\n",
      " 2.08584658e-08 2.43593156e-08 0.00000000e+00 0.00000000e+00\n",
      " 0.00000000e+00 0.00000000e+00 0.00000000e+00 0.00000000e+00\n",
      " 0.00000000e+00] \n",
      "CV: [2.83994208 1.04750012 2.95097864 6.59651434        nan        nan\n",
      "        nan        nan        nan        nan        nan 7.75744013\n",
      " 4.75056351 6.60088076        nan        nan        nan        nan\n",
      "        nan        nan        nan] \n",
      " Predict CV: [1.63964132 0.60477448 1.70374831 3.80849933        nan        nan\n",
      "        nan        nan        nan        nan        nan 4.47876015\n",
      " 2.74273912 3.81102028        nan        nan        nan        nan\n",
      "        nan        nan        nan]\n",
      "\n",
      "ETA:6m/8m\n",
      "∎∎ Start to run # 0 ... Finished !! ∎∎\n",
      "\n",
      "∎∎ Start to run # 1 ... Finished !! ∎∎\n",
      "\n",
      "∎∎ Start to run # 2 ... Finished !! ∎∎\n",
      "\n"
     ]
    },
    {
     "name": "stderr",
     "output_type": "stream",
     "text": [
      " 80%|████████  | 16/20 [06:17<01:33, 23.29s/it]"
     ]
    },
    {
     "name": "stdout",
     "output_type": "stream",
     "text": [
      "Session name: result\\kb\\kb_ijv_small_to_large\\medium\\run_16 \n",
      " Reflectance mean: [4.78039672e-07 4.07586122e-07 4.09047840e-07 3.87481562e-07\n",
      " 0.00000000e+00 0.00000000e+00 0.00000000e+00 0.00000000e+00\n",
      " 0.00000000e+00 0.00000000e+00 0.00000000e+00 4.46675787e-08\n",
      " 2.25806702e-08 2.84553030e-08 0.00000000e+00 0.00000000e+00\n",
      " 0.00000000e+00 0.00000000e+00 0.00000000e+00 0.00000000e+00\n",
      " 0.00000000e+00] \n",
      "CV: [ 0.65321913  4.9774084   5.63516463  2.98809559         nan         nan\n",
      "         nan         nan         nan         nan         nan 13.41001259\n",
      " 20.03510603  0.44890697         nan         nan         nan         nan\n",
      "         nan         nan         nan] \n",
      " Predict CV: [ 0.37713624  2.87370808  3.25346382  1.72517779         nan         nan\n",
      "         nan         nan         nan         nan         nan  7.74227438\n",
      " 11.56727386  0.25917656         nan         nan         nan         nan\n",
      "         nan         nan         nan]\n",
      "\n",
      "ETA:6m/8m\n",
      "∎∎ Start to run # 0 ... Finished !! ∎∎\n",
      "\n",
      "∎∎ Start to run # 1 ... Finished !! ∎∎\n",
      "\n",
      "∎∎ Start to run # 2 ... Finished !! ∎∎\n",
      "\n"
     ]
    },
    {
     "name": "stderr",
     "output_type": "stream",
     "text": [
      " 85%|████████▌ | 17/20 [06:39<01:08, 22.81s/it]"
     ]
    },
    {
     "name": "stdout",
     "output_type": "stream",
     "text": [
      "Session name: result\\kb\\kb_ijv_small_to_large\\medium\\run_17 \n",
      " Reflectance mean: [4.92584258e-07 4.29901919e-07 4.20337250e-07 3.92813283e-07\n",
      " 0.00000000e+00 0.00000000e+00 0.00000000e+00 0.00000000e+00\n",
      " 0.00000000e+00 0.00000000e+00 0.00000000e+00 4.35515916e-08\n",
      " 2.13823333e-08 2.81050580e-08 0.00000000e+00 0.00000000e+00\n",
      " 0.00000000e+00 0.00000000e+00 0.00000000e+00 0.00000000e+00\n",
      " 0.00000000e+00] \n",
      "CV: [ 4.36027253  2.40406151  1.43927886  5.16302659         nan         nan\n",
      "         nan         nan         nan         nan         nan  9.34790411\n",
      " 12.55423008  8.95211717         nan         nan         nan         nan\n",
      "         nan         nan         nan] \n",
      " Predict CV: [2.51740452 1.38798556 0.83096804 2.98087479        nan        nan\n",
      "        nan        nan        nan        nan        nan 5.39701496\n",
      " 7.24818812 5.16850726        nan        nan        nan        nan\n",
      "        nan        nan        nan]\n",
      "\n",
      "ETA:7m/8m\n",
      "∎∎ Start to run # 0 ... Finished !! ∎∎\n",
      "\n",
      "∎∎ Start to run # 1 ... Finished !! ∎∎\n",
      "\n",
      "∎∎ Start to run # 2 ... Finished !! ∎∎\n",
      "\n"
     ]
    },
    {
     "name": "stderr",
     "output_type": "stream",
     "text": [
      " 90%|█████████ | 18/20 [07:00<00:44, 22.48s/it]"
     ]
    },
    {
     "name": "stdout",
     "output_type": "stream",
     "text": [
      "Session name: result\\kb\\kb_ijv_small_to_large\\medium\\run_18 \n",
      " Reflectance mean: [5.01162328e-07 4.32917553e-07 4.18500197e-07 3.85874439e-07\n",
      " 0.00000000e+00 0.00000000e+00 0.00000000e+00 0.00000000e+00\n",
      " 0.00000000e+00 0.00000000e+00 0.00000000e+00 5.26336389e-08\n",
      " 2.49060790e-08 2.64598051e-08 0.00000000e+00 0.00000000e+00\n",
      " 0.00000000e+00 0.00000000e+00 0.00000000e+00 0.00000000e+00\n",
      " 0.00000000e+00] \n",
      "CV: [ 3.35768064  3.79363272  0.92946019  5.39295421         nan         nan\n",
      "         nan         nan         nan         nan         nan  6.80062839\n",
      " 21.89709131  8.83276977         nan         nan         nan         nan\n",
      "         nan         nan         nan] \n",
      " Predict CV: [ 1.93855782  2.19025487  0.53662409  3.11362357         nan         nan\n",
      "         nan         nan         nan         nan         nan  3.92634463\n",
      " 12.64229156  5.099602           nan         nan         nan         nan\n",
      "         nan         nan         nan]\n",
      "\n",
      "ETA:7m/8m\n",
      "∎∎ Start to run # 0 ... Finished !! ∎∎\n",
      "\n",
      "∎∎ Start to run # 1 ... Finished !! ∎∎\n",
      "\n",
      "∎∎ Start to run # 2 ... Finished !! ∎∎\n",
      "\n"
     ]
    },
    {
     "name": "stderr",
     "output_type": "stream",
     "text": [
      " 95%|█████████▌| 19/20 [07:23<00:22, 22.55s/it]"
     ]
    },
    {
     "name": "stdout",
     "output_type": "stream",
     "text": [
      "Session name: result\\kb\\kb_ijv_small_to_large\\medium\\run_19 \n",
      " Reflectance mean: [5.12833690e-07 4.46461543e-07 4.53061634e-07 4.28784940e-07\n",
      " 0.00000000e+00 0.00000000e+00 0.00000000e+00 0.00000000e+00\n",
      " 0.00000000e+00 0.00000000e+00 0.00000000e+00 4.62543640e-08\n",
      " 1.97379901e-08 2.97110205e-08 0.00000000e+00 0.00000000e+00\n",
      " 0.00000000e+00 0.00000000e+00 0.00000000e+00 0.00000000e+00\n",
      " 0.00000000e+00] \n",
      "CV: [ 2.27925503  1.83673674  4.22175983  4.30487115         nan         nan\n",
      "         nan         nan         nan         nan         nan  4.11996542\n",
      "  5.55044619 16.46242965         nan         nan         nan         nan\n",
      "         nan         nan         nan] \n",
      " Predict CV: [1.3159285  1.06044045 2.43743418 2.48541852        nan        nan\n",
      "        nan        nan        nan        nan        nan 2.37866314\n",
      " 3.2045516  9.50458819        nan        nan        nan        nan\n",
      "        nan        nan        nan]\n",
      "\n",
      "ETA:7m/8m\n",
      "∎∎ Start to run # 0 ... Finished !! ∎∎\n",
      "\n",
      "∎∎ Start to run # 1 ... Finished !! ∎∎\n",
      "\n",
      "∎∎ Start to run # 2 ... Finished !! ∎∎\n",
      "\n"
     ]
    },
    {
     "name": "stderr",
     "output_type": "stream",
     "text": [
      "100%|██████████| 20/20 [07:45<00:00, 23.26s/it]\n"
     ]
    },
    {
     "name": "stdout",
     "output_type": "stream",
     "text": [
      "Session name: result\\kb\\kb_ijv_small_to_large\\medium\\run_20 \n",
      " Reflectance mean: [5.28995483e-07 4.78227117e-07 4.85941426e-07 4.36867550e-07\n",
      " 0.00000000e+00 0.00000000e+00 0.00000000e+00 0.00000000e+00\n",
      " 0.00000000e+00 0.00000000e+00 0.00000000e+00 5.26119846e-08\n",
      " 2.33768771e-08 3.14448454e-08 0.00000000e+00 0.00000000e+00\n",
      " 0.00000000e+00 0.00000000e+00 0.00000000e+00 0.00000000e+00\n",
      " 0.00000000e+00] \n",
      "CV: [3.52547491 3.87492018 2.56547908 1.18492761        nan        nan\n",
      "        nan        nan        nan        nan        nan 9.14701413\n",
      " 4.17158164 5.44235851        nan        nan        nan        nan\n",
      "        nan        nan        nan] \n",
      " Predict CV: [2.03543389 2.23718621 1.48118004 0.68411827        nan        nan\n",
      "        nan        nan        nan        nan        nan 5.28103107\n",
      " 2.40846378 3.14214715        nan        nan        nan        nan\n",
      "        nan        nan        nan]\n",
      "\n",
      "ETA:8m/8m\n"
     ]
    },
    {
     "name": "stderr",
     "output_type": "stream",
     "text": [
      "  0%|          | 0/20 [00:00<?, ?it/s]"
     ]
    },
    {
     "name": "stdout",
     "output_type": "stream",
     "text": [
      "∎∎ Start to run # 0 ... Finished !! ∎∎\n",
      "\n",
      "∎∎ Start to run # 1 ... Finished !! ∎∎\n",
      "\n",
      "∎∎ Start to run # 2 ... Finished !! ∎∎\n",
      "\n"
     ]
    },
    {
     "name": "stderr",
     "output_type": "stream",
     "text": [
      "  5%|▌         | 1/20 [00:21<06:47, 21.44s/it]"
     ]
    },
    {
     "name": "stdout",
     "output_type": "stream",
     "text": [
      "Session name: result\\kb\\kb_ijv_small_to_large\\low\\run_1 \n",
      " Reflectance mean: [6.77363062e-07 5.90820040e-07 5.98285216e-07 5.44127649e-07\n",
      " 0.00000000e+00 0.00000000e+00 0.00000000e+00 0.00000000e+00\n",
      " 0.00000000e+00 0.00000000e+00 0.00000000e+00 7.20735525e-08\n",
      " 3.33829612e-08 3.44938662e-08 0.00000000e+00 0.00000000e+00\n",
      " 0.00000000e+00 0.00000000e+00 0.00000000e+00 0.00000000e+00\n",
      " 0.00000000e+00] \n",
      "CV: [ 2.26977822  3.11698059  1.58170328  3.96271626         nan         nan\n",
      "         nan         nan         nan         nan         nan 13.54125498\n",
      "  8.6316944  10.19345709         nan         nan         nan         nan\n",
      "         nan         nan         nan] \n",
      " Predict CV: [1.31045707 1.79958958 0.91319681 2.2878753         nan        nan\n",
      "        nan        nan        nan        nan        nan 7.81804721\n",
      " 4.98351109 5.8851952         nan        nan        nan        nan\n",
      "        nan        nan        nan]\n",
      "\n",
      "ETA:21s/7m\n",
      "∎∎ Start to run # 0 ... Finished !! ∎∎\n",
      "\n",
      "∎∎ Start to run # 1 ... Finished !! ∎∎\n",
      "\n",
      "∎∎ Start to run # 2 ... Finished !! ∎∎\n",
      "\n"
     ]
    },
    {
     "name": "stderr",
     "output_type": "stream",
     "text": [
      " 10%|█         | 2/20 [00:43<06:28, 21.59s/it]"
     ]
    },
    {
     "name": "stdout",
     "output_type": "stream",
     "text": [
      "Session name: result\\kb\\kb_ijv_small_to_large\\low\\run_2 \n",
      " Reflectance mean: [6.93259407e-07 6.20023544e-07 6.06929676e-07 5.55950347e-07\n",
      " 0.00000000e+00 0.00000000e+00 0.00000000e+00 0.00000000e+00\n",
      " 0.00000000e+00 0.00000000e+00 0.00000000e+00 7.25796814e-08\n",
      " 3.22723643e-08 3.82901212e-08 0.00000000e+00 0.00000000e+00\n",
      " 0.00000000e+00 0.00000000e+00 0.00000000e+00 0.00000000e+00\n",
      " 0.00000000e+00] \n",
      "CV: [ 3.13537015  6.22738473  4.97569115  1.95544917         nan         nan\n",
      "         nan         nan         nan         nan         nan  7.56345657\n",
      " 10.16472866  9.34725301         nan         nan         nan         nan\n",
      "         nan         nan         nan] \n",
      " Predict CV: [1.8102068  3.59538225 2.87271663 1.12897911        nan        nan\n",
      "        nan        nan        nan        nan        nan 4.36676369\n",
      " 5.86860883 5.39663904        nan        nan        nan        nan\n",
      "        nan        nan        nan]\n",
      "\n",
      "ETA:43s/7m\n",
      "∎∎ Start to run # 0 ... Finished !! ∎∎\n",
      "\n",
      "∎∎ Start to run # 1 ... Finished !! ∎∎\n",
      "\n",
      "∎∎ Start to run # 2 ... Finished !! ∎∎\n",
      "\n"
     ]
    },
    {
     "name": "stderr",
     "output_type": "stream",
     "text": [
      " 15%|█▌        | 3/20 [01:05<06:09, 21.74s/it]"
     ]
    },
    {
     "name": "stdout",
     "output_type": "stream",
     "text": [
      "Session name: result\\kb\\kb_ijv_small_to_large\\low\\run_3 \n",
      " Reflectance mean: [6.77427391e-07 6.39254703e-07 6.61108647e-07 5.41836970e-07\n",
      " 0.00000000e+00 0.00000000e+00 0.00000000e+00 0.00000000e+00\n",
      " 0.00000000e+00 0.00000000e+00 0.00000000e+00 6.72919924e-08\n",
      " 3.49064413e-08 3.94992740e-08 0.00000000e+00 0.00000000e+00\n",
      " 0.00000000e+00 0.00000000e+00 0.00000000e+00 0.00000000e+00\n",
      " 0.00000000e+00] \n",
      "CV: [ 4.74543071  0.69165515  2.67149764  0.95035372         nan         nan\n",
      "         nan         nan         nan         nan         nan 12.73626808\n",
      " 12.96941596  3.07203056         nan         nan         nan         nan\n",
      "         nan         nan         nan] \n",
      " Predict CV: [2.7397757  0.39932729 1.54238988 0.54868698        nan        nan\n",
      "        nan        nan        nan        nan        nan 7.35328781\n",
      " 7.48789579 1.77363767        nan        nan        nan        nan\n",
      "        nan        nan        nan]\n",
      "\n",
      "ETA:1m/7m\n",
      "∎∎ Start to run # 0 ... Finished !! ∎∎\n",
      "\n",
      "∎∎ Start to run # 1 ... Finished !! ∎∎\n",
      "\n",
      "∎∎ Start to run # 2 ... Finished !! ∎∎\n",
      "\n"
     ]
    },
    {
     "name": "stderr",
     "output_type": "stream",
     "text": [
      " 20%|██        | 4/20 [01:26<05:44, 21.55s/it]"
     ]
    },
    {
     "name": "stdout",
     "output_type": "stream",
     "text": [
      "Session name: result\\kb\\kb_ijv_small_to_large\\low\\run_4 \n",
      " Reflectance mean: [7.06112010e-07 6.19147293e-07 6.13532767e-07 5.56229665e-07\n",
      " 0.00000000e+00 0.00000000e+00 0.00000000e+00 0.00000000e+00\n",
      " 0.00000000e+00 0.00000000e+00 0.00000000e+00 6.95382436e-08\n",
      " 3.58714617e-08 4.34598673e-08 0.00000000e+00 0.00000000e+00\n",
      " 0.00000000e+00 0.00000000e+00 0.00000000e+00 0.00000000e+00\n",
      " 0.00000000e+00] \n",
      "CV: [ 3.55124908  4.1166609   3.44871856  2.75591771         nan         nan\n",
      "         nan         nan         nan         nan         nan 11.9159808\n",
      " 12.92359216 17.23812021         nan         nan         nan         nan\n",
      "         nan         nan         nan] \n",
      " Predict CV: [2.05031461 2.37675528 1.99111859 1.59112983        nan        nan\n",
      "        nan        nan        nan        nan        nan 6.87969472\n",
      " 7.46143941 9.95243334        nan        nan        nan        nan\n",
      "        nan        nan        nan]\n",
      "\n",
      "ETA:1m/7m\n",
      "∎∎ Start to run # 0 ... Finished !! ∎∎\n",
      "\n",
      "∎∎ Start to run # 1 ... Finished !! ∎∎\n",
      "\n",
      "∎∎ Start to run # 2 ... Finished !! ∎∎\n",
      "\n"
     ]
    },
    {
     "name": "stderr",
     "output_type": "stream",
     "text": [
      " 25%|██▌       | 5/20 [01:47<05:22, 21.53s/it]"
     ]
    },
    {
     "name": "stdout",
     "output_type": "stream",
     "text": [
      "Session name: result\\kb\\kb_ijv_small_to_large\\low\\run_5 \n",
      " Reflectance mean: [6.86486309e-07 6.35945432e-07 6.42248923e-07 5.63857059e-07\n",
      " 0.00000000e+00 0.00000000e+00 0.00000000e+00 0.00000000e+00\n",
      " 0.00000000e+00 0.00000000e+00 0.00000000e+00 6.47367322e-08\n",
      " 3.70309440e-08 4.26190767e-08 0.00000000e+00 0.00000000e+00\n",
      " 0.00000000e+00 0.00000000e+00 0.00000000e+00 0.00000000e+00\n",
      " 0.00000000e+00] \n",
      "CV: [1.93239191 5.84868769 2.54063167 3.86620532        nan        nan\n",
      "        nan        nan        nan        nan        nan 2.37355473\n",
      " 7.94554526 9.95285545        nan        nan        nan        nan\n",
      "        nan        nan        nan] \n",
      " Predict CV: [1.11566699 3.37674141 1.46683438 2.23215468        nan        nan\n",
      "        nan        nan        nan        nan        nan 1.37037246\n",
      " 4.5873627  5.74628377        nan        nan        nan        nan\n",
      "        nan        nan        nan]\n",
      "\n",
      "ETA:2m/7m\n",
      "∎∎ Start to run # 0 ... Finished !! ∎∎\n",
      "\n",
      "∎∎ Start to run # 1 ... Finished !! ∎∎\n",
      "\n",
      "∎∎ Start to run # 2 ... Finished !! ∎∎\n",
      "\n"
     ]
    },
    {
     "name": "stderr",
     "output_type": "stream",
     "text": [
      " 30%|███       | 6/20 [02:09<05:00, 21.46s/it]"
     ]
    },
    {
     "name": "stdout",
     "output_type": "stream",
     "text": [
      "Session name: result\\kb\\kb_ijv_small_to_large\\low\\run_6 \n",
      " Reflectance mean: [7.48105549e-07 6.13255915e-07 6.44376047e-07 5.83348590e-07\n",
      " 0.00000000e+00 0.00000000e+00 0.00000000e+00 0.00000000e+00\n",
      " 0.00000000e+00 0.00000000e+00 0.00000000e+00 7.42209148e-08\n",
      " 3.93892120e-08 4.80754834e-08 0.00000000e+00 0.00000000e+00\n",
      " 0.00000000e+00 0.00000000e+00 0.00000000e+00 0.00000000e+00\n",
      " 0.00000000e+00] \n",
      "CV: [ 3.00451708  8.57882695  1.4340234   2.33252398         nan         nan\n",
      "         nan         nan         nan         nan         nan  8.16053669\n",
      " 13.31898253  8.08452616         nan         nan         nan         nan\n",
      "         nan         nan         nan] \n",
      " Predict CV: [1.73465875 4.95298805 0.8279338  1.34668335        nan        nan\n",
      "        nan        nan        nan        nan        nan 4.71148806\n",
      " 7.68971815 4.66760335        nan        nan        nan        nan\n",
      "        nan        nan        nan]\n",
      "\n",
      "ETA:2m/7m\n",
      "∎∎ Start to run # 0 ... Finished !! ∎∎\n",
      "\n",
      "∎∎ Start to run # 1 ... Finished !! ∎∎\n",
      "\n",
      "∎∎ Start to run # 2 ... Finished !! ∎∎\n",
      "\n"
     ]
    },
    {
     "name": "stderr",
     "output_type": "stream",
     "text": [
      " 35%|███▌      | 7/20 [02:30<04:38, 21.44s/it]"
     ]
    },
    {
     "name": "stdout",
     "output_type": "stream",
     "text": [
      "Session name: result\\kb\\kb_ijv_small_to_large\\low\\run_7 \n",
      " Reflectance mean: [6.96020409e-07 6.50777428e-07 6.42408291e-07 5.42271452e-07\n",
      " 0.00000000e+00 0.00000000e+00 0.00000000e+00 0.00000000e+00\n",
      " 0.00000000e+00 0.00000000e+00 0.00000000e+00 7.65177532e-08\n",
      " 3.59260221e-08 4.29362625e-08 0.00000000e+00 0.00000000e+00\n",
      " 0.00000000e+00 0.00000000e+00 0.00000000e+00 0.00000000e+00\n",
      " 0.00000000e+00] \n",
      "CV: [ 4.3636441   2.61640897  4.10693533  5.53479713         nan         nan\n",
      "         nan         nan         nan         nan         nan 13.38145081\n",
      "  9.40432303  5.74024906         nan         nan         nan         nan\n",
      "         nan         nan         nan] \n",
      " Predict CV: [2.5193511  1.51058442 2.37114022 3.19551661        nan        nan\n",
      "        nan        nan        nan        nan        nan 7.72578423\n",
      " 5.42958843 3.31413434        nan        nan        nan        nan\n",
      "        nan        nan        nan]\n",
      "\n",
      "ETA:2m/7m\n",
      "∎∎ Start to run # 0 ... Finished !! ∎∎\n",
      "\n",
      "∎∎ Start to run # 1 ... Finished !! ∎∎\n",
      "\n",
      "∎∎ Start to run # 2 ... Finished !! ∎∎\n",
      "\n"
     ]
    },
    {
     "name": "stderr",
     "output_type": "stream",
     "text": [
      " 40%|████      | 8/20 [02:52<04:17, 21.47s/it]"
     ]
    },
    {
     "name": "stdout",
     "output_type": "stream",
     "text": [
      "Session name: result\\kb\\kb_ijv_small_to_large\\low\\run_8 \n",
      " Reflectance mean: [7.39032287e-07 6.42410242e-07 6.49819823e-07 5.86460758e-07\n",
      " 0.00000000e+00 0.00000000e+00 0.00000000e+00 0.00000000e+00\n",
      " 0.00000000e+00 0.00000000e+00 0.00000000e+00 7.55991538e-08\n",
      " 3.67817655e-08 4.14463462e-08 0.00000000e+00 0.00000000e+00\n",
      " 0.00000000e+00 0.00000000e+00 0.00000000e+00 0.00000000e+00\n",
      " 0.00000000e+00] \n",
      "CV: [ 5.18467919  6.81889557  5.13819583  2.79672173         nan         nan\n",
      "         nan         nan         nan         nan         nan 11.47220691\n",
      "  7.02883907  8.94548927         nan         nan         nan         nan\n",
      "         nan         nan         nan] \n",
      " Predict CV: [2.99337593 3.93689119 2.96653874 1.61468804        nan        nan\n",
      "        nan        nan        nan        nan        nan 6.62348175\n",
      " 4.05810213 5.16468064        nan        nan        nan        nan\n",
      "        nan        nan        nan]\n",
      "\n",
      "ETA:3m/7m\n",
      "∎∎ Start to run # 0 ... Finished !! ∎∎\n",
      "\n",
      "∎∎ Start to run # 1 ... Finished !! ∎∎\n",
      "\n",
      "∎∎ Start to run # 2 ... Finished !! ∎∎\n",
      "\n"
     ]
    },
    {
     "name": "stderr",
     "output_type": "stream",
     "text": [
      " 45%|████▌     | 9/20 [03:13<03:55, 21.37s/it]"
     ]
    },
    {
     "name": "stdout",
     "output_type": "stream",
     "text": [
      "Session name: result\\kb\\kb_ijv_small_to_large\\low\\run_9 \n",
      " Reflectance mean: [7.15546838e-07 6.20812643e-07 6.23664167e-07 5.92463026e-07\n",
      " 0.00000000e+00 0.00000000e+00 0.00000000e+00 0.00000000e+00\n",
      " 0.00000000e+00 0.00000000e+00 0.00000000e+00 7.50349923e-08\n",
      " 3.77526250e-08 4.23044115e-08 0.00000000e+00 0.00000000e+00\n",
      " 0.00000000e+00 0.00000000e+00 0.00000000e+00 0.00000000e+00\n",
      " 0.00000000e+00] \n",
      "CV: [ 2.91632053  0.98360297  3.44625073  3.8572807          nan         nan\n",
      "         nan         nan         nan         nan         nan  8.09975471\n",
      "  0.31035528 21.71457129         nan         nan         nan         nan\n",
      "         nan         nan         nan] \n",
      " Predict CV: [ 1.68373845  0.56788344  1.98969378  2.22700205         nan         nan\n",
      "         nan         nan         nan         nan         nan  4.67639556\n",
      "  0.1791837  12.53691358         nan         nan         nan         nan\n",
      "         nan         nan         nan]\n",
      "\n",
      "ETA:3m/7m\n",
      "∎∎ Start to run # 0 ... Finished !! ∎∎\n",
      "\n",
      "∎∎ Start to run # 1 ... Finished !! ∎∎\n",
      "\n",
      "∎∎ Start to run # 2 ... Finished !! ∎∎\n",
      "\n"
     ]
    },
    {
     "name": "stderr",
     "output_type": "stream",
     "text": [
      " 50%|█████     | 10/20 [03:34<03:33, 21.39s/it]"
     ]
    },
    {
     "name": "stdout",
     "output_type": "stream",
     "text": [
      "Session name: result\\kb\\kb_ijv_small_to_large\\low\\run_10 \n",
      " Reflectance mean: [7.47119894e-07 6.27897448e-07 6.60535382e-07 6.00411896e-07\n",
      " 0.00000000e+00 0.00000000e+00 0.00000000e+00 0.00000000e+00\n",
      " 0.00000000e+00 0.00000000e+00 0.00000000e+00 7.21082628e-08\n",
      " 3.46418084e-08 4.14797306e-08 0.00000000e+00 0.00000000e+00\n",
      " 0.00000000e+00 0.00000000e+00 0.00000000e+00 0.00000000e+00\n",
      " 0.00000000e+00] \n",
      "CV: [ 1.22205371  1.91190233  7.2296621   1.5618693          nan         nan\n",
      "         nan         nan         nan         nan         nan 16.14547223\n",
      "  5.23100156 10.8306053          nan         nan         nan         nan\n",
      "         nan         nan         nan] \n",
      " Predict CV: [0.70555304 1.10383733 4.17404736 0.90174566        nan        nan\n",
      "        nan        nan        nan        nan        nan 9.32159274\n",
      " 3.02012016 6.25305288        nan        nan        nan        nan\n",
      "        nan        nan        nan]\n",
      "\n",
      "ETA:4m/7m\n",
      "∎∎ Start to run # 0 ... Finished !! ∎∎\n",
      "\n",
      "∎∎ Start to run # 1 ... Finished !! ∎∎\n",
      "\n",
      "∎∎ Start to run # 2 ... Finished !! ∎∎\n",
      "\n"
     ]
    },
    {
     "name": "stderr",
     "output_type": "stream",
     "text": [
      " 55%|█████▌    | 11/20 [03:55<03:11, 21.29s/it]"
     ]
    },
    {
     "name": "stdout",
     "output_type": "stream",
     "text": [
      "Session name: result\\kb\\kb_ijv_small_to_large\\low\\run_11 \n",
      " Reflectance mean: [7.23448272e-07 6.28751487e-07 6.62400019e-07 6.36451150e-07\n",
      " 0.00000000e+00 0.00000000e+00 0.00000000e+00 0.00000000e+00\n",
      " 0.00000000e+00 0.00000000e+00 0.00000000e+00 8.10892083e-08\n",
      " 3.65823892e-08 4.61831474e-08 0.00000000e+00 0.00000000e+00\n",
      " 0.00000000e+00 0.00000000e+00 0.00000000e+00 0.00000000e+00\n",
      " 0.00000000e+00] \n",
      "CV: [ 2.88025609  4.23731796  0.91463773  0.83284893         nan         nan\n",
      "         nan         nan         nan         nan         nan  8.43647019\n",
      " 10.58580173  8.96514606         nan         nan         nan         nan\n",
      "         nan         nan         nan] \n",
      " Predict CV: [1.66291663 2.44641667 0.52806634 0.48084555        nan        nan\n",
      "        nan        nan        nan        nan        nan 4.87079834\n",
      " 6.11171548 5.17602949        nan        nan        nan        nan\n",
      "        nan        nan        nan]\n",
      "\n",
      "ETA:4m/7m\n",
      "∎∎ Start to run # 0 ... Finished !! ∎∎\n",
      "\n",
      "∎∎ Start to run # 1 ... Finished !! ∎∎\n",
      "\n",
      "∎∎ Start to run # 2 ... Finished !! ∎∎\n",
      "\n"
     ]
    },
    {
     "name": "stderr",
     "output_type": "stream",
     "text": [
      " 60%|██████    | 12/20 [04:17<02:51, 21.44s/it]"
     ]
    },
    {
     "name": "stdout",
     "output_type": "stream",
     "text": [
      "Session name: result\\kb\\kb_ijv_small_to_large\\low\\run_12 \n",
      " Reflectance mean: [7.29505176e-07 6.75162894e-07 6.60320551e-07 5.96282828e-07\n",
      " 0.00000000e+00 0.00000000e+00 0.00000000e+00 0.00000000e+00\n",
      " 0.00000000e+00 0.00000000e+00 0.00000000e+00 7.10208418e-08\n",
      " 4.10044421e-08 5.02702001e-08 0.00000000e+00 0.00000000e+00\n",
      " 0.00000000e+00 0.00000000e+00 0.00000000e+00 0.00000000e+00\n",
      " 0.00000000e+00] \n",
      "CV: [ 3.29272222  5.83795746  2.04436853  5.75356689         nan         nan\n",
      "         nan         nan         nan         nan         nan  1.07187786\n",
      " 19.69797688  5.0275999          nan         nan         nan         nan\n",
      "         nan         nan         nan] \n",
      " Predict CV: [ 1.90105406  3.37054631  1.18031672  3.32182339         nan         nan\n",
      "         nan         nan         nan         nan         nan  0.61884897\n",
      " 11.37263225  2.90268616         nan         nan         nan         nan\n",
      "         nan         nan         nan]\n",
      "\n",
      "ETA:4m/7m\n",
      "∎∎ Start to run # 0 ... Finished !! ∎∎\n",
      "\n",
      "∎∎ Start to run # 1 ... Finished !! ∎∎\n",
      "\n",
      "∎∎ Start to run # 2 ... Finished !! ∎∎\n",
      "\n"
     ]
    },
    {
     "name": "stderr",
     "output_type": "stream",
     "text": [
      " 65%|██████▌   | 13/20 [04:38<02:29, 21.42s/it]"
     ]
    },
    {
     "name": "stdout",
     "output_type": "stream",
     "text": [
      "Session name: result\\kb\\kb_ijv_small_to_large\\low\\run_13 \n",
      " Reflectance mean: [7.42504351e-07 6.77162076e-07 7.12372427e-07 6.34451569e-07\n",
      " 0.00000000e+00 0.00000000e+00 0.00000000e+00 0.00000000e+00\n",
      " 0.00000000e+00 0.00000000e+00 0.00000000e+00 7.08419919e-08\n",
      " 3.92010652e-08 4.60344406e-08 0.00000000e+00 0.00000000e+00\n",
      " 0.00000000e+00 0.00000000e+00 0.00000000e+00 0.00000000e+00\n",
      " 0.00000000e+00] \n",
      "CV: [0.37242109 4.02212929 3.13433564 3.7773742         nan        nan\n",
      "        nan        nan        nan        nan        nan 7.36330758\n",
      " 7.63752579 2.44635537        nan        nan        nan        nan\n",
      "        nan        nan        nan] \n",
      " Predict CV: [0.21501742 2.32217743 1.80960953 2.18086801        nan        nan\n",
      "        nan        nan        nan        nan        nan 4.25120761\n",
      " 4.40952757 1.41240393        nan        nan        nan        nan\n",
      "        nan        nan        nan]\n",
      "\n",
      "ETA:5m/7m\n",
      "∎∎ Start to run # 0 ... Finished !! ∎∎\n",
      "\n",
      "∎∎ Start to run # 1 ... Finished !! ∎∎\n",
      "\n",
      "∎∎ Start to run # 2 ... Finished !! ∎∎\n",
      "\n"
     ]
    },
    {
     "name": "stderr",
     "output_type": "stream",
     "text": [
      " 70%|███████   | 14/20 [05:04<02:16, 22.69s/it]"
     ]
    },
    {
     "name": "stdout",
     "output_type": "stream",
     "text": [
      "Session name: result\\kb\\kb_ijv_small_to_large\\low\\run_14 \n",
      " Reflectance mean: [7.47143375e-07 6.63948747e-07 6.88830453e-07 6.06611121e-07\n",
      " 0.00000000e+00 0.00000000e+00 0.00000000e+00 0.00000000e+00\n",
      " 0.00000000e+00 0.00000000e+00 0.00000000e+00 7.51303098e-08\n",
      " 3.64277821e-08 4.43556055e-08 0.00000000e+00 0.00000000e+00\n",
      " 0.00000000e+00 0.00000000e+00 0.00000000e+00 0.00000000e+00\n",
      " 0.00000000e+00] \n",
      "CV: [ 3.54187301  0.85955838  3.74497031  1.83670767         nan         nan\n",
      "         nan         nan         nan         nan         nan 11.27681574\n",
      " 16.41440826  6.65083127         nan         nan         nan         nan\n",
      "         nan         nan         nan] \n",
      " Predict CV: [2.04490134 0.49626626 2.16215961 1.06042367        nan        nan\n",
      "        nan        nan        nan        nan        nan 6.5106726\n",
      " 9.47686303 3.83985922        nan        nan        nan        nan\n",
      "        nan        nan        nan]\n",
      "\n",
      "ETA:5m/7m\n",
      "∎∎ Start to run # 0 ... Finished !! ∎∎\n",
      "\n",
      "∎∎ Start to run # 1 ... Finished !! ∎∎\n",
      "\n",
      "∎∎ Start to run # 2 ... Finished !! ∎∎\n",
      "\n"
     ]
    },
    {
     "name": "stderr",
     "output_type": "stream",
     "text": [
      " 75%|███████▌  | 15/20 [05:30<01:57, 23.59s/it]"
     ]
    },
    {
     "name": "stdout",
     "output_type": "stream",
     "text": [
      "Session name: result\\kb\\kb_ijv_small_to_large\\low\\run_15 \n",
      " Reflectance mean: [7.59360233e-07 6.64623913e-07 6.83531887e-07 6.16316239e-07\n",
      " 0.00000000e+00 0.00000000e+00 0.00000000e+00 0.00000000e+00\n",
      " 0.00000000e+00 0.00000000e+00 0.00000000e+00 8.29223790e-08\n",
      " 4.40847785e-08 4.52838893e-08 0.00000000e+00 0.00000000e+00\n",
      " 0.00000000e+00 0.00000000e+00 0.00000000e+00 0.00000000e+00\n",
      " 0.00000000e+00] \n",
      "CV: [1.58508791 4.01030462 4.10999914 2.09198088        nan        nan\n",
      "        nan        nan        nan        nan        nan 7.15038291\n",
      " 8.20183391 5.55388877        nan        nan        nan        nan\n",
      "        nan        nan        nan] \n",
      " Predict CV: [0.91515093 2.31535045 2.37290911 1.20780572        nan        nan\n",
      "        nan        nan        nan        nan        nan 4.1282755\n",
      " 4.73533102 3.20653918        nan        nan        nan        nan\n",
      "        nan        nan        nan]\n",
      "\n",
      "ETA:6m/7m\n",
      "∎∎ Start to run # 0 ... Finished !! ∎∎\n",
      "\n",
      "∎∎ Start to run # 1 ... Finished !! ∎∎\n",
      "\n",
      "∎∎ Start to run # 2 ... Finished !! ∎∎\n",
      "\n"
     ]
    },
    {
     "name": "stderr",
     "output_type": "stream",
     "text": [
      " 80%|████████  | 16/20 [05:53<01:34, 23.62s/it]"
     ]
    },
    {
     "name": "stdout",
     "output_type": "stream",
     "text": [
      "Session name: result\\kb\\kb_ijv_small_to_large\\low\\run_16 \n",
      " Reflectance mean: [7.49688508e-07 6.67991677e-07 6.99550502e-07 5.92924341e-07\n",
      " 0.00000000e+00 0.00000000e+00 0.00000000e+00 0.00000000e+00\n",
      " 0.00000000e+00 0.00000000e+00 0.00000000e+00 8.27852300e-08\n",
      " 3.88259259e-08 4.91746154e-08 0.00000000e+00 0.00000000e+00\n",
      " 0.00000000e+00 0.00000000e+00 0.00000000e+00 0.00000000e+00\n",
      " 0.00000000e+00] \n",
      "CV: [ 5.02253708  0.51951298  2.27818137  6.00956098         nan         nan\n",
      "         nan         nan         nan         nan         nan  4.7227408\n",
      " 11.03663725  7.95173023         nan         nan         nan         nan\n",
      "         nan         nan         nan] \n",
      " Predict CV: [2.89976313 0.29994096 1.31530863 3.46962165        nan        nan\n",
      "        nan        nan        nan        nan        nan 2.72667567\n",
      " 6.37200549 4.59093359        nan        nan        nan        nan\n",
      "        nan        nan        nan]\n",
      "\n",
      "ETA:6m/7m\n",
      "∎∎ Start to run # 0 ... Finished !! ∎∎\n",
      "\n",
      "∎∎ Start to run # 1 ... Finished !! ∎∎\n",
      "\n",
      "∎∎ Start to run # 2 ... Finished !! ∎∎\n",
      "\n"
     ]
    },
    {
     "name": "stderr",
     "output_type": "stream",
     "text": [
      " 85%|████████▌ | 17/20 [06:28<01:21, 27.05s/it]"
     ]
    },
    {
     "name": "stdout",
     "output_type": "stream",
     "text": [
      "Session name: result\\kb\\kb_ijv_small_to_large\\low\\run_17 \n",
      " Reflectance mean: [7.68574587e-07 7.10917523e-07 7.24614154e-07 6.39754457e-07\n",
      " 0.00000000e+00 0.00000000e+00 0.00000000e+00 0.00000000e+00\n",
      " 0.00000000e+00 0.00000000e+00 0.00000000e+00 8.58049773e-08\n",
      " 4.07348760e-08 5.20931329e-08 0.00000000e+00 0.00000000e+00\n",
      " 0.00000000e+00 0.00000000e+00 0.00000000e+00 0.00000000e+00\n",
      " 0.00000000e+00] \n",
      "CV: [ 4.13432446  3.3204117   4.12605949  0.43160707         nan         nan\n",
      "         nan         nan         nan         nan         nan 12.30952598\n",
      "  1.46592993  4.43803101         nan         nan         nan         nan\n",
      "         nan         nan         nan] \n",
      " Predict CV: [2.38695334 1.91704059 2.38218156 0.24918846        nan        nan\n",
      "        nan        nan        nan        nan        nan 7.10690814\n",
      " 0.84635504 2.5622984         nan        nan        nan        nan\n",
      "        nan        nan        nan]\n",
      "\n",
      "ETA:6m/8m\n",
      "∎∎ Start to run # 0 ... Finished !! ∎∎\n",
      "\n",
      "∎∎ Start to run # 1 ... Finished !! ∎∎\n",
      "\n",
      "∎∎ Start to run # 2 ... Finished !! ∎∎\n",
      "\n"
     ]
    },
    {
     "name": "stderr",
     "output_type": "stream",
     "text": [
      " 90%|█████████ | 18/20 [06:55<00:53, 26.94s/it]"
     ]
    },
    {
     "name": "stdout",
     "output_type": "stream",
     "text": [
      "Session name: result\\kb\\kb_ijv_small_to_large\\low\\run_18 \n",
      " Reflectance mean: [7.85023144e-07 7.11375235e-07 7.05179451e-07 6.43158510e-07\n",
      " 0.00000000e+00 0.00000000e+00 0.00000000e+00 0.00000000e+00\n",
      " 0.00000000e+00 0.00000000e+00 0.00000000e+00 8.27830913e-08\n",
      " 4.31504941e-08 5.51644128e-08 0.00000000e+00 0.00000000e+00\n",
      " 0.00000000e+00 0.00000000e+00 0.00000000e+00 0.00000000e+00\n",
      " 0.00000000e+00] \n",
      "CV: [3.65779968 2.17030706 3.07403839 4.61139911        nan        nan\n",
      "        nan        nan        nan        nan        nan 6.26294632\n",
      " 9.48006982 2.02310442        nan        nan        nan        nan\n",
      "        nan        nan        nan] \n",
      " Predict CV: [2.11183163 1.25302736 1.77479689 2.66239252        nan        nan\n",
      "        nan        nan        nan        nan        nan 3.61591374\n",
      " 5.47332086 1.16803988        nan        nan        nan        nan\n",
      "        nan        nan        nan]\n",
      "\n",
      "ETA:7m/8m\n",
      "∎∎ Start to run # 0 ... Finished !! ∎∎\n",
      "\n",
      "∎∎ Start to run # 1 ... Finished !! ∎∎\n",
      "\n",
      "∎∎ Start to run # 2 ... Finished !! ∎∎\n",
      "\n"
     ]
    },
    {
     "name": "stderr",
     "output_type": "stream",
     "text": [
      " 95%|█████████▌| 19/20 [07:17<00:25, 25.52s/it]"
     ]
    },
    {
     "name": "stdout",
     "output_type": "stream",
     "text": [
      "Session name: result\\kb\\kb_ijv_small_to_large\\low\\run_19 \n",
      " Reflectance mean: [8.22967044e-07 7.00892380e-07 6.74425489e-07 6.92976626e-07\n",
      " 0.00000000e+00 0.00000000e+00 0.00000000e+00 0.00000000e+00\n",
      " 0.00000000e+00 0.00000000e+00 0.00000000e+00 8.47055164e-08\n",
      " 4.03475139e-08 4.86905047e-08 0.00000000e+00 0.00000000e+00\n",
      " 0.00000000e+00 0.00000000e+00 0.00000000e+00 0.00000000e+00\n",
      " 0.00000000e+00] \n",
      "CV: [ 2.86812146  3.47680023  0.96310356  1.90562289         nan         nan\n",
      "         nan         nan         nan         nan         nan  9.63299852\n",
      "  5.46329447 10.51887285         nan         nan         nan         nan\n",
      "         nan         nan         nan] \n",
      " Predict CV: [1.6559107  2.00733155 0.5560481  1.10021189        nan        nan\n",
      "        nan        nan        nan        nan        nan 5.56161429\n",
      " 3.15423453 6.07307407        nan        nan        nan        nan\n",
      "        nan        nan        nan]\n",
      "\n",
      "ETA:7m/8m\n",
      "∎∎ Start to run # 0 ... Finished !! ∎∎\n",
      "\n",
      "∎∎ Start to run # 1 ... Finished !! ∎∎\n",
      "\n",
      "∎∎ Start to run # 2 ... Finished !! ∎∎\n",
      "\n"
     ]
    },
    {
     "name": "stderr",
     "output_type": "stream",
     "text": [
      "100%|██████████| 20/20 [07:40<00:00, 23.03s/it]"
     ]
    },
    {
     "name": "stdout",
     "output_type": "stream",
     "text": [
      "Session name: result\\kb\\kb_ijv_small_to_large\\low\\run_20 \n",
      " Reflectance mean: [8.17546747e-07 7.01525348e-07 7.10836361e-07 6.75576168e-07\n",
      " 0.00000000e+00 0.00000000e+00 0.00000000e+00 0.00000000e+00\n",
      " 0.00000000e+00 0.00000000e+00 0.00000000e+00 8.58381262e-08\n",
      " 4.90576515e-08 5.71789550e-08 0.00000000e+00 0.00000000e+00\n",
      " 0.00000000e+00 0.00000000e+00 0.00000000e+00 0.00000000e+00\n",
      " 0.00000000e+00] \n",
      "CV: [2.29109989 2.74329392 3.24691278 4.22871973        nan        nan\n",
      "        nan        nan        nan        nan        nan 5.2481191\n",
      " 7.92430546 7.88571258        nan        nan        nan        nan\n",
      "        nan        nan        nan] \n",
      " Predict CV: [1.32276714 1.58384148 1.87460597 2.44145247        nan        nan\n",
      "        nan        nan        nan        nan        nan 3.03000297\n",
      " 4.57509989 4.55281828        nan        nan        nan        nan\n",
      "        nan        nan        nan]\n",
      "\n",
      "ETA:8m/8m\n"
     ]
    },
    {
     "name": "stderr",
     "output_type": "stream",
     "text": [
      "\n"
     ]
    }
   ],
   "source": [
    "if __name__ == \"__main__\":\n",
    "\n",
    "    # script setting\n",
    "    # photon 1e9 take 1TB  CV 0.29%~0.81%  13mins per mus\n",
    "    # photon 3e8 take 350GB CV 0.48%~1.08% 4mins per mus  wmc 110 mins per mus\n",
    "    # -------------------------------------\n",
    "    # photon 3e8 take 7mins for 10sims 24MB per file\n",
    "    # photon 1e9 82MB per file 23mins\n",
    "\n",
    "    # ID = sys.argv[1] #ID = \"ctchen_ijv_small_to_large\"\n",
    "    # mus_start = int(sys.argv[2])\n",
    "    # mus_end = int(sys.argv[3])\n",
    "\n",
    "    result_folder = \"kb\"\n",
    "    subject = \"kb\"\n",
    "    ijv_type = 'large_to_small'\n",
    "    mus_start = 1\n",
    "    mus_end = 20\n",
    "    NA_enable = 0  # 0 no NA, 1 consider NA\n",
    "    NA = 0.22\n",
    "    runningNum = 0  # (Integer or False)self.session\n",
    "    cvThreshold = 100\n",
    "    repeatTimes = 3\n",
    "    \n",
    "    run_mcx(result_folder=result_folder, \n",
    "            mus_type='high', \n",
    "            subject=subject, mus_start=mus_start, mus_end=mus_end, \n",
    "            NA_enable=NA_enable, NA=NA,\n",
    "            runningNum=runningNum, cvThreshold=cvThreshold, \n",
    "            repeatTimes=repeatTimes, ijv_type=ijv_type)\n",
    "    run_mcx(result_folder=result_folder, \n",
    "            mus_type='medium', \n",
    "            subject=subject, mus_start=mus_start, mus_end=mus_end, \n",
    "            NA_enable=NA_enable, NA=NA,\n",
    "            runningNum=runningNum, cvThreshold=cvThreshold, \n",
    "            repeatTimes=repeatTimes, ijv_type=ijv_type)\n",
    "    run_mcx(result_folder=result_folder, \n",
    "            mus_type='low', \n",
    "            subject=subject, mus_start=mus_start, mus_end=mus_end, \n",
    "            NA_enable=NA_enable, NA=NA,\n",
    "            runningNum=runningNum, cvThreshold=cvThreshold, \n",
    "            repeatTimes=repeatTimes, ijv_type=ijv_type)\n",
    "    \n",
    "    result_folder = \"kb\"\n",
    "    subject = \"kb\"\n",
    "    ijv_type = 'small_to_large'\n",
    "    mus_start = 1\n",
    "    mus_end = 20\n",
    "    NA_enable = 0  # 0 no NA, 1 consider NA\n",
    "    NA = 0.22\n",
    "    runningNum = 0  # (Integer or False)self.session\n",
    "    cvThreshold = 100\n",
    "    repeatTimes = 3\n",
    "    \n",
    "    run_mcx(result_folder=result_folder, \n",
    "            mus_type='high', \n",
    "            subject=subject, mus_start=mus_start, mus_end=mus_end, \n",
    "            NA_enable=NA_enable, NA=NA,\n",
    "            runningNum=runningNum, cvThreshold=cvThreshold, \n",
    "            repeatTimes=repeatTimes, ijv_type=ijv_type)\n",
    "    run_mcx(result_folder=result_folder, \n",
    "            mus_type='medium', \n",
    "            subject=subject, mus_start=mus_start, mus_end=mus_end, \n",
    "            NA_enable=NA_enable, NA=NA,\n",
    "            runningNum=runningNum, cvThreshold=cvThreshold, \n",
    "            repeatTimes=repeatTimes, ijv_type=ijv_type)\n",
    "    run_mcx(result_folder=result_folder, \n",
    "            mus_type='low', \n",
    "            subject=subject, mus_start=mus_start, mus_end=mus_end, \n",
    "            NA_enable=NA_enable, NA=NA,\n",
    "            runningNum=runningNum, cvThreshold=cvThreshold, \n",
    "            repeatTimes=repeatTimes, ijv_type=ijv_type)"
   ]
  }
 ],
 "metadata": {
  "kernelspec": {
   "display_name": "venv",
   "language": "python",
   "name": "python3"
  },
  "language_info": {
   "codemirror_mode": {
    "name": "ipython",
    "version": 3
   },
   "file_extension": ".py",
   "mimetype": "text/x-python",
   "name": "python",
   "nbconvert_exporter": "python",
   "pygments_lexer": "ipython3",
   "version": "3.8.8"
  },
  "orig_nbformat": 4
 },
 "nbformat": 4,
 "nbformat_minor": 2
}
