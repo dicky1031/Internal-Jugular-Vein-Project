{
 "cells": [
  {
   "cell_type": "code",
   "execution_count": 21,
   "metadata": {},
   "outputs": [
    {
     "name": "stderr",
     "output_type": "stream",
     "text": [
      "C:\\Users\\dicky1031\\AppData\\Local\\Temp\\ipykernel_17532\\3321481478.py:16: MatplotlibDeprecationWarning: The seaborn styles shipped by Matplotlib are deprecated since 3.6, as they no longer correspond to the styles shipped by seaborn. However, they will remain available as 'seaborn-v0_8-<style>'. Alternatively, directly use the seaborn API instead.\n",
      "  plt.style.use(\"seaborn-darkgrid\")\n"
     ]
    }
   ],
   "source": [
    "# %%\n",
    "import matplotlib.pyplot as plt\n",
    "from ANN_models import PredictionModel\n",
    "import os \n",
    "import json\n",
    "import torch\n",
    "import numpy as np\n",
    "from scipy import stats\n",
    "import pandas as pd\n",
    "import seaborn as sns\n",
    "from statannotations.Annotator import Annotator\n",
    "import sys\n",
    "import matplotlib as mpl\n",
    "# Default settings\n",
    "mpl.rcParams.update(mpl.rcParamsDefault)\n",
    "plt.style.use(\"seaborn-darkgrid\")\n",
    "os.chdir(sys.path[0])\n",
    "\n",
    "# %%\n",
    "def t_test(group1, group2):\n",
    "    mean1 = np.mean(group1)\n",
    "    mean2 = np.mean(group2)\n",
    "    std1 = np.std(group1)\n",
    "    std2 = np.std(group2)\n",
    "    nobs1 = len(group1)\n",
    "    nobs2 = len(group2)\n",
    "    \n",
    "    modified_std1 = np.sqrt(np.float32(nobs1)/\n",
    "                    np.float32(nobs1-1)) * std1\n",
    "    modified_std2 = np.sqrt(np.float32(nobs2)/\n",
    "                    np.float32(nobs2-1)) * std2\n",
    "    \n",
    "    statistic, pvalue = stats.ttest_ind_from_stats( \n",
    "            mean1=mean1, std1=modified_std1, nobs1=nobs1,   \n",
    "            mean2=mean2, std2=modified_std2, nobs2=nobs2)\n",
    "\n",
    "    return statistic, pvalue\n",
    "\n",
    "def convert_pvalue_to_asterisks(pvalue):\n",
    "    if pvalue <= 0.0001:\n",
    "        return \"****\"\n",
    "    elif pvalue <= 0.001:\n",
    "        return \"***\"\n",
    "    elif pvalue <= 0.01:\n",
    "        return \"**\"\n",
    "    elif pvalue <= 0.05:\n",
    "        return \"*\"\n",
    "    return \"ns\"\n",
    "\n",
    "# %%\n",
    "# mus_types = ['low', 'high', 'medium']\n",
    "mus_types = ['low']\n",
    "# mua_types = ['all', 'low', 'high', 'medium']\n",
    "mua_types = ['all']\n",
    "# ijv_depth = ['+1mm', '+0.5mm', '-0.5mm', '-1mm', 'standard']\n",
    "ijv_depth = ['standard']\n",
    "ijv_size = ['-50%', '-30%', '-20%', '-10%', 'standard']\n",
    "# ijv_size = ['-10%']\n",
    "subject = 'ctchen'\n",
    "result = 'surrogate_formula3'"
   ]
  },
  {
   "cell_type": "code",
   "execution_count": 22,
   "metadata": {},
   "outputs": [],
   "source": [
    "def plot_predict(result_folder, true_SO2, predict_SO2, RMSE, mean, std, max_error):\n",
    "    plt.title(f'RMSE : {RMSE:.2f}%')\n",
    "    plt.plot(true_SO2, predict_SO2, 'r.', markersize=5, label= 'predict')\n",
    "    plt.plot(true_SO2, true_SO2,'b', label = 'optimal')\n",
    "    plt.title(f\"based on SO2=70% \\nmean error:{mean:.2f}% std:{std:.2f}% \\nmax error:{max_error:.2f}% RMSE:{RMSE:.2f}%\")\n",
    "    plt.xlabel(\"truth $\\u0394$SO2(%)\")\n",
    "    plt.ylabel(\"predict $\\u0394$SO2(%)\")\n",
    "    plt.legend(loc='center left', bbox_to_anchor=(1.05, 0.5),\n",
    "            fancybox=True, shadow=True)\n",
    "    plt.savefig(os.path.join(\"pic\", subject, result, result_folder, f\"plot_predict.png\"), dpi=300, format='png', bbox_inches='tight')\n",
    "    plt.close()\n",
    "#     plt.show()"
   ]
  },
  {
   "cell_type": "code",
   "execution_count": 23,
   "metadata": {},
   "outputs": [],
   "source": [
    "def cal_R_square(y_true, y_pred):\n",
    "    y_bar = np.mean(y_true)\n",
    "    numerator = np.sum(np.square(y_true-y_pred))\n",
    "    denominator = np.sum(np.square(y_true-y_bar))\n",
    "    R_square = 1 - numerator/denominator\n",
    "    \n",
    "    return R_square"
   ]
  },
  {
   "cell_type": "code",
   "execution_count": 24,
   "metadata": {},
   "outputs": [],
   "source": [
    "def plot_R_square(result_folder, true_SO2, predict_SO2, RMSE, R_square):\n",
    "    plt.title(f'RMSE : {RMSE:.2f}%')\n",
    "    plt.plot(true_SO2, predict_SO2, 'r.', markersize=5, label= 'predict')\n",
    "    plt.plot(true_SO2, true_SO2,'b', label = 'optimal')\n",
    "    plt.title(f\"based on SO2=70% \\n RMSE:{RMSE:.2f}% $R^{2}$:{R_square:.3f}\")\n",
    "    plt.xlabel(\"truth $\\u0394$SO2(%)\")\n",
    "    plt.ylabel(\"predict $\\u0394$SO2(%)\")\n",
    "    plt.legend(loc='center left', bbox_to_anchor=(1.05, 0.5),\n",
    "            fancybox=True, shadow=True)\n",
    "    plt.savefig(os.path.join(\"pic\", subject, result, result_folder, f\"plot_predict_R_square.png\"), dpi=300, format='png', bbox_inches='tight')\n",
    "    plt.close()\n",
    "#     plt.show()"
   ]
  },
  {
   "cell_type": "code",
   "execution_count": 25,
   "metadata": {},
   "outputs": [],
   "source": [
    "def plot_all_hist(result_folder, error, mean, std):\n",
    "    n,bin, pack = plt.hist(error)\n",
    "    plt.vlines([mean+2*std, mean-2*std], 0, max(n), 'r', label='$\\mu$$\\pm$2*$\\sigma$')\n",
    "    plt.text(mean+2*std, max(n), f'{mean+2*std:.2f}%')\n",
    "    plt.text(mean-2*std, max(n), f'{mean-2*std:.2f}%')\n",
    "    plt.xlabel('error(prediction-true)(%)')\n",
    "    plt.ylabel('count')\n",
    "    plt.title('error histogram')\n",
    "    plt.legend(loc='center left', bbox_to_anchor=(1.05, 0.5),\n",
    "            fancybox=True, shadow=True)\n",
    "    plt.savefig(os.path.join(\"pic\", subject, result, result_folder, f\"hist.png\"), dpi=300, format='png', bbox_inches='tight')\n",
    "    plt.close()\n",
    "#     plt.show()\n"
   ]
  },
  {
   "cell_type": "code",
   "execution_count": 26,
   "metadata": {},
   "outputs": [],
   "source": [
    "def plot_each_SO2(result_folder, test_result):\n",
    "    predict_SO2 = test_result['output_ijv_SO2'].to_numpy()\n",
    "    true_SO2 = test_result['target_ijv_SO2'].to_numpy()\n",
    "    error = test_result['error_ijv_SO2'].to_numpy()\n",
    "    RMSE = np.sqrt(np.mean(np.square(error)))\n",
    "    mean = np.mean(error)\n",
    "    std = np.std(error)\n",
    "    max_error = np.max(error)\n",
    "    # test_result['target_ijv_SO2'].unique()\n",
    "    predict_SO2_table = {}\n",
    "    true_SO2_table = {}\n",
    "    error_table = {}\n",
    "    for using_SO2 in test_result['target_ijv_SO2'].unique():\n",
    "        each_SO2_test_result = test_result[test_result['target_ijv_SO2'] == using_SO2]\n",
    "        \n",
    "        predict_SO2 = each_SO2_test_result['output_ijv_SO2'].to_numpy()\n",
    "        true_SO2 = each_SO2_test_result['target_ijv_SO2'].to_numpy()\n",
    "        error = each_SO2_test_result['error_ijv_SO2'].to_numpy()\n",
    "        predict_SO2_table[using_SO2] = predict_SO2\n",
    "        true_SO2_table[using_SO2] = true_SO2\n",
    "        error_table[using_SO2] = error\n",
    "        \n",
    "        n,bin, pack = plt.hist(error)\n",
    "        plt.vlines([mean+2*std, mean-2*std], 0, max(n), 'r', label='$\\mu$$\\pm$2*$\\sigma$')\n",
    "        plt.text(mean+2*std, max(n), f'{mean+2*std:.2f}%')\n",
    "        plt.text(mean-2*std, max(n), f'{mean-2*std:.2f}%')\n",
    "        plt.xlabel('error(prediction-true)(%)')\n",
    "        plt.ylabel('count')\n",
    "        plt.title(f'$\\Delta$SO2={using_SO2:.2f}% error histogram')\n",
    "        plt.legend(loc='center left', bbox_to_anchor=(1.05, 0.5),\n",
    "                fancybox=True, shadow=True)\n",
    "        plt.savefig(os.path.join(\"pic\", subject, result, result_folder, f\"{using_SO2:.2f}%_hist.png\"), dpi=300, format='png', bbox_inches='tight')\n",
    "        plt.close()\n",
    "    #     plt.show()\n",
    "\n",
    "    RMSE_set = []\n",
    "    for using_SO2 in test_result['target_ijv_SO2'].unique():\n",
    "        each_SO2_RMSE = np.sqrt(np.mean(np.square(error_table[using_SO2])))\n",
    "        RMSE_set.append(each_SO2_RMSE)\n",
    "\n",
    "    plt.title(\"RMSE of each $\\Delta$SO2\")\n",
    "    plt.xlabel(\"truth $\\u0394$SO2(%)\")\n",
    "    plt.ylabel(\"RMSE (%)\")\n",
    "    plt.plot(test_result['target_ijv_SO2'].unique(), RMSE_set)\n",
    "    plt.savefig(os.path.join(\"pic\", subject, result, result_folder, f\"each_SO2_RMSE.png\"), dpi=300, format='png', bbox_inches='tight')\n",
    "    plt.close()\n",
    "    #     plt.show()"
   ]
  },
  {
   "cell_type": "code",
   "execution_count": null,
   "metadata": {},
   "outputs": [],
   "source": [
    "RMSE_set = []\n",
    "for using_depth in ijv_depth:\n",
    "    for using_size in ijv_size:\n",
    "        for mus_type in mus_types:\n",
    "            for mua_type in mua_types:\n",
    "                result_folder = os.path.join(f'ijv_depth_{using_depth}', f'ijv_size_{using_size}', f\"{mus_type}_scatter_prediction_input\", f\"{mua_type}_absorption\")\n",
    "                # %%\n",
    "                os.makedirs(os.path.join(\"pic\", subject, result, result_folder), exist_ok=True)\n",
    "                test_result = pd.read_csv(os.path.join(\"model_test\", subject, result, result_folder, \"test.csv\"))\n",
    "                \n",
    "                predict_SO2 = test_result['output_ijv_SO2'].to_numpy()\n",
    "                true_SO2 = test_result['target_ijv_SO2'].to_numpy()\n",
    "                error = test_result['error_ijv_SO2'].to_numpy()\n",
    "                RMSE = np.sqrt(np.mean(np.square(error)))\n",
    "                mean = np.mean(error)\n",
    "                std = np.std(error)\n",
    "                max_error = np.max(error)\n",
    "                R_square = cal_R_square(y_true=true_SO2, y_pred=predict_SO2)\n",
    "                plot_predict(result_folder, true_SO2, predict_SO2, RMSE, mean, std, max_error)\n",
    "                plot_R_square(result_folder, true_SO2, predict_SO2, RMSE, R_square)\n",
    "                plot_all_hist(result_folder, error, mean, std)\n",
    "                plot_each_SO2(result_folder, test_result)\n",
    "                \n",
    "                RMSE_set += [RMSE]"
   ]
  },
  {
   "cell_type": "code",
   "execution_count": 33,
   "metadata": {},
   "outputs": [
    {
     "data": {
      "image/png": "[encoded data removed]",
      "text/plain": [
       "<Figure size 640x480 with 1 Axes>"
      ]
     },
     "metadata": {},
     "output_type": "display_data"
    }
   ],
   "source": [
    "# plt.plot(RMSE_set)\n",
    "# plt.xticks([i for i in range(5)], ['-50%', '-30%', '-20%', '-10%', 'standard'])\n",
    "# plt.show()"
   ]
  }
 ],
 "metadata": {
  "kernelspec": {
   "display_name": "venv",
   "language": "python",
   "name": "python3"
  },
  "language_info": {
   "codemirror_mode": {
    "name": "ipython",
    "version": 3
   },
   "file_extension": ".py",
   "mimetype": "text/x-python",
   "name": "python",
   "nbconvert_exporter": "python",
   "pygments_lexer": "ipython3",
   "version": "3.8.8"
  },
  "orig_nbformat": 4
 },
 "nbformat": 4,
 "nbformat_minor": 2
}
