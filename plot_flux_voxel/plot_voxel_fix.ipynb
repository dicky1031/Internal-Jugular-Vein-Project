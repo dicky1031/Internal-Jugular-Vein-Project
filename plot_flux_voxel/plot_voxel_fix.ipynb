{
 "cells": [
  {
   "cell_type": "code",
   "execution_count": 1,
   "metadata": {},
   "outputs": [],
   "source": [
    "import matplotlib.pyplot as plt\n",
    "import numpy as np\n",
    "import os\n",
    "import sys"
   ]
  },
  {
   "cell_type": "code",
   "execution_count": null,
   "metadata": {},
   "outputs": [],
   "source": [
    "os.chdir(sys.path[0])\n",
    "os.makedirs(os.path.join(\"pic\",\"vol\"), exist_ok=True)\n",
    "subject = 'ctchen'\n",
    "vol = np.load(os.path.join('ultrasound_image_processing',\n",
    "              f'{subject}_perturbed_small_to_large.npy'))\n",
    "vol = vol.T\n",
    "# plt.imshow(vol[:,:,int(vol.shape[2]//2)])\n",
    "# plt.imshow(vol[:,int(vol.shape[1]//2),:])\n",
    "# plt.imshow(vol[0,:,:])\n",
    "\n",
    "vol = vol[::4, ::4, ::12]\n",
    "cmap = ['red', 'salmon', 'sienna', 'silver',\n",
    "        'tan', 'white', 'violet', 'wheat', 'yellow']"
   ]
  },
  {
   "cell_type": "code",
   "execution_count": null,
   "metadata": {},
   "outputs": [],
   "source": [
    "def explode(data):\n",
    "    size = np.array(data.shape)*2\n",
    "    data_e = np.zeros(size - 1, dtype=data.dtype)\n",
    "    data_e[::2, ::2, ::2] = data\n",
    "    return data_e\n",
    "\n",
    "\n",
    "vol = explode(vol)\n",
    "colors = np.empty(list(vol.shape) + [4], dtype=np.float32)\n",
    "alpha = 0.5\n",
    "colors[vol == 1] = [1, 0, 0, alpha]\n",
    "colors[vol == 2] = [0, 1, 0, alpha]\n",
    "colors[vol == 3] = [0, 0, 1, alpha]\n",
    "colors[vol == 4] = [1, 1, 0, alpha]\n",
    "colors[vol == 5] = [1, 0, 1, alpha]\n",
    "colors[vol == 6] = [0, 1, 1, 0.1]\n",
    "colors[vol == 7] = [1, 1, 1, 1]\n",
    "colors[vol == 8] = [0, 0, 0, 1]\n",
    "colors[vol == 9] = [0.5, 0.5, 0.5, 1]\n",
    "edgecolor = [1, 1, 1, 0]\n",
    "\n",
    "x, y, z = np.indices(np.array(vol.shape) + 1).astype(float) // 2\n",
    "x[0::2, :, :] += 0.05\n",
    "y[:, 0::2, :] += 0.05\n",
    "z[:, :, 0::2] += 0.05\n",
    "x[1::2, :, :] += 0.95\n",
    "y[:, 1::2, :] += 0.95\n",
    "z[:, :, 1::2] += 0.95\n",
    "\n",
    "\n",
    "ax = plt.figure().add_subplot(projection='3d')\n",
    "\n",
    "# horizontal\n",
    "Y = np.linspace(-y.max()*0.1, y.max()+y.max()*0.1, 100)\n",
    "Z = np.linspace(-z.max()*0.1, z.max()+z.max()*0.1, 100)\n",
    "Y, Z = np.meshgrid(Y, Z)\n",
    "X = np.ones(np.shape(Y))*x.max()//2\n",
    "surf = ax.plot_surface(X, Y, Z, alpha=0.5, cmap=plt.cm.twilight,\n",
    "                       linewidth=0, antialiased=False)\n",
    "# frontal plane\n",
    "X = np.linspace(-x.max()*0.1, x.max()+x.max()*0.1, 100)\n",
    "Z = np.linspace(-z.max()*0.1, z.max()+z.max()*0.1, 100)\n",
    "X, Z = np.meshgrid(X, Z)\n",
    "Y = np.ones(np.shape(X))*x.max()//2\n",
    "surf = ax.plot_surface(X, Y, Z, alpha=0.5, cmap=plt.cm.twilight,\n",
    "                       linewidth=0, antialiased=False)\n",
    "# # sagittal plane\n",
    "X = np.linspace(-x.max()*0.1, x.max()+x.max()*0.1, 100)\n",
    "Y = np.linspace(-y.max()*0.1, y.max()+y.max()*0.1, 100)\n",
    "X, Y = np.meshgrid(X, Y)\n",
    "Z = np.ones(np.shape(X))*x.max()//2\n",
    "surf = ax.plot_surface(X, Y, Z, alpha=0.5, cmap=plt.cm.twilight,\n",
    "                       linewidth=0, antialiased=False)\n",
    "\n",
    "\n",
    "ax.voxels(x, y, z, vol, facecolors=colors, edgecolor=edgecolor)\n",
    "ax.view_init(25, 128)\n",
    "plt.savefig(os.path.join(\"pic\",\"vol\",\"vol3d.png\"), dpi=300, format='png', bbox_inches='tight')\n",
    "plt.show()"
   ]
  }
 ],
 "metadata": {
  "kernelspec": {
   "display_name": ".venv",
   "language": "python",
   "name": "python3"
  },
  "language_info": {
   "codemirror_mode": {
    "name": "ipython",
    "version": 3
   },
   "file_extension": ".py",
   "mimetype": "text/x-python",
   "name": "python",
   "nbconvert_exporter": "python",
   "pygments_lexer": "ipython3",
   "version": "3.8.8"
  },
  "orig_nbformat": 4
 },
 "nbformat": 4,
 "nbformat_minor": 2
}
